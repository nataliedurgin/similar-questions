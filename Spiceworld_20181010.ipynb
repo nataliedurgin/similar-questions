{
 "cells": [
  {
   "cell_type": "code",
   "execution_count": 1,
   "metadata": {
    "ExecuteTime": {
     "end_time": "2018-10-09T17:39:08.078142Z",
     "start_time": "2018-10-09T17:38:56.775700Z"
    },
    "slideshow": {
     "slide_type": "notes"
    }
   },
   "outputs": [],
   "source": [
    "from helper_code import *"
   ]
  },
  {
   "cell_type": "code",
   "execution_count": null,
   "metadata": {},
   "outputs": [],
   "source": []
  },
  {
   "cell_type": "markdown",
   "metadata": {
    "slideshow": {
     "slide_type": "slide"
    }
   },
   "source": [
    "\n",
    "# Grouping Similar Questions\n",
    "\n",
    "#### Spiceworks Data Science\n",
    "\n",
    "\n",
    "##### Natalie Durgin\n",
    "\n"
   ]
  },
  {
   "cell_type": "markdown",
   "metadata": {
    "slideshow": {
     "slide_type": "subslide"
    }
   },
   "source": [
    "# Community Question Answering"
   ]
  },
  {
   "cell_type": "markdown",
   "metadata": {
    "slideshow": {
     "slide_type": "subslide"
    }
   },
   "source": [
    "#### Example Document 1\n",
    "\n",
    "- **URL**: https://community.spiceworks.com/topic/328118\n",
    "- **Subject: need to unlock a password protected Excel 2010 workbook**\n",
    "- **Body**: I have a user who had forgotten the password for an Excel 2010 file.  She cannot open it.  I tried changing the name to a zip file and opening the workbook file with an xml editor, but I can't get a readable format to come up so I can see the line of text with the password (so I can delete it).  What I'm getting is this gobbledy-gook: ºʝZܡ M/ؽ(+蝤¤7"
   ]
  },
  {
   "cell_type": "markdown",
   "metadata": {
    "slideshow": {
     "slide_type": "subslide"
    }
   },
   "source": [
    "#### Example Document 2\n",
    "\n",
    "- **URL**: https://community.spiceworks.com/topic/1766186\n",
    "- **Subject: Password protected Excel 2016 spreadsheet---user forgot password!**\n",
    "- **Body**: Face palm time.  A user has forgotten their password to an Excel 2016 spreadsheet. Anybody have any slick tool that will at least let them open in read-only mode?  Something to bust through the password would be excellent."
   ]
  },
  {
   "cell_type": "markdown",
   "metadata": {
    "slideshow": {
     "slide_type": "subslide"
    }
   },
   "source": [
    "#### Example Document 3\n",
    "\n",
    "- **URL**: https://community.spiceworks.com/topic/1984626\n",
    "- **Subject: How secure are password protected Excel files?**\n",
    "- **Body**: Once in a while if we need to send credentials to a third party we will use password protected Excel files sent via secure email (third party service where they have to login to see the email). I'm curious if the Excel file is secure enough by itself? Based on this info it looks like the default for Excel 2016 will be AES 256, which should be effectively secure at least against a brute force attack. \\__url\\__ \"Lets you configure the CNG cipher algorithm that is used. The default is AES.\" \" Lets you configure the number of bits to use when you create the cipher key. The default is 256 bits.\""
   ]
  },
  {
   "cell_type": "markdown",
   "metadata": {
    "slideshow": {
     "slide_type": "subslide"
    }
   },
   "source": [
    "## Human vs. Machine\n",
    "[doc1] need to unlock a **password** **protected** **Excel** 2010 workbook\n",
    "\n",
    "[doc2] **Password** **protected** **Excel** 2016 spreadsheet---user forgot **password**!\n",
    "\n",
    "[doc3] How secure are **password** **protected** **Excel** files?"
   ]
  },
  {
   "cell_type": "markdown",
   "metadata": {
    "slideshow": {
     "slide_type": "subslide"
    }
   },
   "source": [
    "## References\n",
    "\n",
    "##### 2017 Survey\n",
    "<a href= \"https://arxiv.org/abs/1705.04009\">A survey of Community Question Answering </a>\n",
    "\n",
    "##### Main Reference\n",
    "<a href= \"http://www.aclweb.org/anthology/S17-2051\"> SimBow at SemEval-2017 Task 3: Soft-Cosine Semantic Similarity between Questions for Community Question Answering </a>\n",
    "\n",
    "##### Gensim Softcosine \n",
    "https://github.com/RaRe-Technologies/gensim/blob/develop/docs/notebooks/soft_cosine_tutorial.ipynb"
   ]
  },
  {
   "cell_type": "markdown",
   "metadata": {
    "slideshow": {
     "slide_type": "slide"
    }
   },
   "source": [
    "# Preparing the Text for Machine Learning"
   ]
  },
  {
   "cell_type": "markdown",
   "metadata": {
    "slideshow": {
     "slide_type": "subslide"
    }
   },
   "source": [
    "## Defining the Building Blocks\n",
    "\n",
    "**Word**, **Term**, **Token** := Collection of characters \n",
    "\n",
    "**Document** := Collection of words\n",
    "\n",
    "**Corpus** := Collection of documents\n",
    "\n",
    "**Vocabulary** := Collection of distinct terms that appear in a corpus\n",
    "\n",
    "Allowable collections depend upon *preprocessing* choices"
   ]
  },
  {
   "cell_type": "markdown",
   "metadata": {
    "slideshow": {
     "slide_type": "subslide"
    }
   },
   "source": [
    "## Preprocessing the Example Documents"
   ]
  },
  {
   "cell_type": "code",
   "execution_count": 2,
   "metadata": {
    "ExecuteTime": {
     "end_time": "2018-10-09T17:39:08.100248Z",
     "start_time": "2018-10-09T17:39:08.083215Z"
    },
    "slideshow": {
     "slide_type": "fragment"
    }
   },
   "outputs": [
    {
     "data": {
      "text/plain": [
       "'need to unlock a password protected Excel 2010 workbook <p>I have a user who had forgotten the password for an Excel 2010 file.&nbsp; She cannot open it.&nbsp; I tried changing the name to a zip file and opening the workbook file with an xml editor, but I can&#39;t get a readable format to come up so I can see the line of text with the password (so I can delete it).&nbsp; What I&#39;m getting is this gobbledy-gook:</p><p>\\xc2\\xba\\xca\\x9d\\xc2\\x99Z\\xdc\\xa1 \\xc2\\x84M/\\xd8\\xbd(+\\xe8\\x9d\\xa4\\xc2\\xa47</p>'"
      ]
     },
     "execution_count": 2,
     "metadata": {},
     "output_type": "execute_result"
    }
   ],
   "source": [
    "doc1"
   ]
  },
  {
   "cell_type": "markdown",
   "metadata": {
    "slideshow": {
     "slide_type": "subslide"
    }
   },
   "source": [
    "### Preprocessing Choices"
   ]
  },
  {
   "cell_type": "markdown",
   "metadata": {
    "slideshow": {
     "slide_type": "fragment"
    }
   },
   "source": [
    "- Do you keep punctuation?\n",
    "- Do you preserve letter case? \n",
    "- Do you impose minimum word frequencies? \n",
    "- Do you stem tokens?\n",
    "\n",
    "Results can be sensitive to these choices to varying extents. These choices will likely be different for each corpus and application. "
   ]
  },
  {
   "cell_type": "markdown",
   "metadata": {
    "slideshow": {
     "slide_type": "subslide"
    }
   },
   "source": [
    "### Default Preprocessing"
   ]
  },
  {
   "cell_type": "code",
   "execution_count": 3,
   "metadata": {
    "ExecuteTime": {
     "end_time": "2018-10-09T17:39:08.111059Z",
     "start_time": "2018-10-09T17:39:08.104701Z"
    },
    "scrolled": true,
    "slideshow": {
     "slide_type": "fragment"
    }
   },
   "outputs": [
    {
     "data": {
      "text/plain": [
       "'need to unlock a password protected Excel 2010 workbook <p>I have a user who had forgotten the password for an Excel 2010 file.&nbsp; She cannot open it.&nbsp; I tried changing the name to a zip file and opening the workbook file with an xml editor, but I can&#39;t get a readable format to come up so I can see the line of text with the password (so I can delete it).&nbsp; What I&#39;m getting is this gobbledy-gook:</p><p>\\xc2\\xba\\xca\\x9d\\xc2\\x99Z\\xdc\\xa1 \\xc2\\x84M/\\xd8\\xbd(+\\xe8\\x9d\\xa4\\xc2\\xa47</p>'"
      ]
     },
     "execution_count": 3,
     "metadata": {},
     "output_type": "execute_result"
    }
   ],
   "source": [
    "doc1"
   ]
  },
  {
   "cell_type": "code",
   "execution_count": 4,
   "metadata": {
    "ExecuteTime": {
     "end_time": "2018-10-09T17:39:08.120439Z",
     "start_time": "2018-10-09T17:39:08.114143Z"
    },
    "slideshow": {
     "slide_type": "fragment"
    }
   },
   "outputs": [
    {
     "name": "stdout",
     "output_type": "stream",
     "text": [
      "need unlock password protected excel workbook user forgotten password excel file nbsp open nbsp tried changing zip file opening workbook file xml editor readable format come line text password delete nbsp getting gobbledy gook\n"
     ]
    }
   ],
   "source": [
    "print_default_preprocessing(1)"
   ]
  },
  {
   "cell_type": "markdown",
   "metadata": {
    "slideshow": {
     "slide_type": "subslide"
    }
   },
   "source": [
    "Default preprocessing gotchas:\n",
    "- Filters out words shorter than three characters (e.g. IT, MS, IP, 64, GB, PC, sw etc.)\n",
    "- Aggressive stopword list? \n",
    "- No numbers? (2010, v0.1 etc.)\n",
    "- Not filtering html correctly"
   ]
  },
  {
   "cell_type": "markdown",
   "metadata": {
    "slideshow": {
     "slide_type": "subslide"
    }
   },
   "source": [
    "### Custom Preprocessing"
   ]
  },
  {
   "cell_type": "code",
   "execution_count": 5,
   "metadata": {
    "ExecuteTime": {
     "end_time": "2018-10-09T17:39:08.132659Z",
     "start_time": "2018-10-09T17:39:08.124480Z"
    },
    "scrolled": true,
    "slideshow": {
     "slide_type": "fragment"
    }
   },
   "outputs": [
    {
     "data": {
      "text/plain": [
       "'need to unlock a password protected Excel 2010 workbook <p>I have a user who had forgotten the password for an Excel 2010 file.&nbsp; She cannot open it.&nbsp; I tried changing the name to a zip file and opening the workbook file with an xml editor, but I can&#39;t get a readable format to come up so I can see the line of text with the password (so I can delete it).&nbsp; What I&#39;m getting is this gobbledy-gook:</p><p>\\xc2\\xba\\xca\\x9d\\xc2\\x99Z\\xdc\\xa1 \\xc2\\x84M/\\xd8\\xbd(+\\xe8\\x9d\\xa4\\xc2\\xa47</p>'"
      ]
     },
     "execution_count": 5,
     "metadata": {},
     "output_type": "execute_result"
    }
   ],
   "source": [
    "doc1"
   ]
  },
  {
   "cell_type": "code",
   "execution_count": 6,
   "metadata": {
    "ExecuteTime": {
     "end_time": "2018-10-09T17:39:08.145742Z",
     "start_time": "2018-10-09T17:39:08.135687Z"
    },
    "slideshow": {
     "slide_type": "fragment"
    }
   },
   "outputs": [
    {
     "name": "stdout",
     "output_type": "stream",
     "text": [
      "need to unlock a password protected excel 2010 workbook i have a user who had forgotten the password for an excel 2010 file she cannot open it i tried changing the name to a zip file and opening the workbook file with an xml editor but i can t get a readable format to come up so i can see the line of text with the password so i can delete it what i m getting is this gobbledy gook m 7\n"
     ]
    }
   ],
   "source": [
    "print_custom_preprocessing(doc1)"
   ]
  },
  {
   "cell_type": "markdown",
   "metadata": {
    "heading_collapsed": true,
    "slideshow": {
     "slide_type": "slide"
    }
   },
   "source": [
    "# Creating a Vector Space for our Documents"
   ]
  },
  {
   "cell_type": "markdown",
   "metadata": {
    "ExecuteTime": {
     "end_time": "2018-10-04T16:46:33.410598Z",
     "start_time": "2018-10-04T16:46:33.405944Z"
    },
    "slideshow": {
     "slide_type": "subslide"
    }
   },
   "source": [
    "## Building a Vocabulary\n",
    "Build a dictionary of the terms in the corpus\n",
    "\n",
    "This vocabulary acts as a **basis** for our corpus vector space"
   ]
  },
  {
   "cell_type": "code",
   "execution_count": 7,
   "metadata": {
    "ExecuteTime": {
     "end_time": "2018-10-09T17:39:08.166746Z",
     "start_time": "2018-10-09T17:39:08.150128Z"
    },
    "scrolled": false,
    "slideshow": {
     "slide_type": "fragment"
    }
   },
   "outputs": [
    {
     "data": {
      "text/plain": [
       "{0: u'2010',\n",
       " 1: u'7',\n",
       " 2: u'an',\n",
       " 3: u'and',\n",
       " 4: u'but',\n",
       " 5: u'can',\n",
       " 6: u'cannot',\n",
       " 7: u'changing',\n",
       " 8: u'come',\n",
       " 9: u'delete',\n",
       " 10: u'editor',\n",
       " 11: u'excel',\n",
       " 12: u'file',\n",
       " 13: u'for',\n",
       " 14: u'forgotten',\n",
       " 15: u'format',\n",
       " 16: u'get',\n",
       " 17: u'getting',\n",
       " 18: u'gobbledy',\n",
       " 19: u'gook',\n",
       " 20: u'had',\n",
       " 21: u'have',\n",
       " 22: u'i',\n",
       " 23: u'is',\n",
       " 24: u'it',\n",
       " 25: u'line',\n",
       " 26: u'm',\n",
       " 27: u'name',\n",
       " 28: u'need',\n",
       " 29: u'of',\n",
       " 30: u'open',\n",
       " 31: u'opening',\n",
       " 32: u'password',\n",
       " 33: u'protected',\n",
       " 34: u'readable',\n",
       " 35: u'see',\n",
       " 36: u'she',\n",
       " 37: u'so',\n",
       " 38: u't',\n",
       " 39: u'text',\n",
       " 40: u'the',\n",
       " 41: u'this',\n",
       " 42: u'to',\n",
       " 43: u'tried',\n",
       " 44: u'unlock',\n",
       " 45: u'up',\n",
       " 46: u'user',\n",
       " 47: u'what',\n",
       " 48: u'who',\n",
       " 49: u'with',\n",
       " 50: u'workbook',\n",
       " 51: u'xml',\n",
       " 52: u'zip',\n",
       " 53: u'2016',\n",
       " 54: u'any',\n",
       " 55: u'anybody',\n",
       " 56: u'at',\n",
       " 57: u'be',\n",
       " 58: u'bust',\n",
       " 59: u'excellent',\n",
       " 60: u'face',\n",
       " 61: u'forgot',\n",
       " 62: u'has',\n",
       " 63: u'in',\n",
       " 64: u'least',\n",
       " 65: u'let',\n",
       " 66: u'mode',\n",
       " 67: u'only',\n",
       " 68: u'palm',\n",
       " 69: u'read',\n",
       " 70: u'slick',\n",
       " 71: u'something',\n",
       " 72: u'spreadsheet',\n",
       " 73: u'that',\n",
       " 74: u'their',\n",
       " 75: u'them',\n",
       " 76: u'through',\n",
       " 77: u'time',\n",
       " 78: u'tool',\n",
       " 79: u'will',\n",
       " 80: u'would',\n",
       " 81: u'256',\n",
       " 82: u'aes',\n",
       " 83: u'against',\n",
       " 84: u'algorithm',\n",
       " 85: u'are',\n",
       " 86: u'attack',\n",
       " 87: u'based',\n",
       " 88: u'bits',\n",
       " 89: u'brute',\n",
       " 90: u'by',\n",
       " 91: u'cipher',\n",
       " 92: u'cng',\n",
       " 93: u'configure',\n",
       " 94: u'create',\n",
       " 95: u'credentials',\n",
       " 96: u'curious',\n",
       " 97: u'default',\n",
       " 98: u'effectively',\n",
       " 99: u'email',\n",
       " 100: u'enough',\n",
       " 101: u'files',\n",
       " 102: u'force',\n",
       " 103: u'how',\n",
       " 104: u'if',\n",
       " 105: u'info',\n",
       " 106: u'itself',\n",
       " 107: u'key',\n",
       " 108: u'lets',\n",
       " 109: u'like',\n",
       " 110: u'login',\n",
       " 111: u'looks',\n",
       " 112: u'number',\n",
       " 113: u'on',\n",
       " 114: u'once',\n",
       " 115: u'party',\n",
       " 116: u'secure',\n",
       " 117: u'send',\n",
       " 118: u'sent',\n",
       " 119: u'service',\n",
       " 120: u'should',\n",
       " 121: u'they',\n",
       " 122: u'third',\n",
       " 123: u'use',\n",
       " 124: u'used',\n",
       " 125: u'via',\n",
       " 126: u'we',\n",
       " 127: u'when',\n",
       " 128: u'where',\n",
       " 129: u'which',\n",
       " 130: u'while',\n",
       " 131: u'you'}"
      ]
     },
     "execution_count": 7,
     "metadata": {},
     "output_type": "execute_result"
    }
   ],
   "source": [
    "custom_target_corpus.dictionary.id2token"
   ]
  },
  {
   "cell_type": "markdown",
   "metadata": {
    "slideshow": {
     "slide_type": "subslide"
    }
   },
   "source": [
    "## Word Count Vectors"
   ]
  },
  {
   "cell_type": "code",
   "execution_count": 8,
   "metadata": {
    "ExecuteTime": {
     "end_time": "2018-10-09T17:39:08.690546Z",
     "start_time": "2018-10-09T17:39:08.171071Z"
    },
    "scrolled": true,
    "slideshow": {
     "slide_type": "subslide"
    }
   },
   "outputs": [
    {
     "data": {
      "text/html": [
       "<style  type=\"text/css\" >\n",
       "    #T_39c35a26_cbea_11e8_aaaf_9801a791dcdf th {\n",
       "          font-size: 30px;\n",
       "    }    #T_39c35a26_cbea_11e8_aaaf_9801a791dcdf td {\n",
       "          font-size: 30px;\n",
       "    }</style>  \n",
       "<table id=\"T_39c35a26_cbea_11e8_aaaf_9801a791dcdf\" > \n",
       "<thead>    <tr> \n",
       "        <th class=\"blank level0\" ></th> \n",
       "        <th class=\"col_heading level0 col0\" >token</th> \n",
       "        <th class=\"col_heading level0 col1\" >word_count</th> \n",
       "    </tr>    <tr> \n",
       "        <th class=\"index_name level0\" >vocab_index</th> \n",
       "        <th class=\"blank\" ></th> \n",
       "        <th class=\"blank\" ></th> \n",
       "    </tr></thead> \n",
       "<tbody>    <tr> \n",
       "        <th id=\"T_39c35a26_cbea_11e8_aaaf_9801a791dcdflevel0_row0\" class=\"row_heading level0 row0\" >11</th> \n",
       "        <td id=\"T_39c35a26_cbea_11e8_aaaf_9801a791dcdfrow0_col0\" class=\"data row0 col0\" >excel</td> \n",
       "        <td id=\"T_39c35a26_cbea_11e8_aaaf_9801a791dcdfrow0_col1\" class=\"data row0 col1\" >4</td> \n",
       "    </tr>    <tr> \n",
       "        <th id=\"T_39c35a26_cbea_11e8_aaaf_9801a791dcdflevel0_row1\" class=\"row_heading level0 row1\" >12</th> \n",
       "        <td id=\"T_39c35a26_cbea_11e8_aaaf_9801a791dcdfrow1_col0\" class=\"data row1 col0\" >file</td> \n",
       "        <td id=\"T_39c35a26_cbea_11e8_aaaf_9801a791dcdfrow1_col1\" class=\"data row1 col1\" >1</td> \n",
       "    </tr>    <tr> \n",
       "        <th id=\"T_39c35a26_cbea_11e8_aaaf_9801a791dcdflevel0_row2\" class=\"row_heading level0 row2\" >13</th> \n",
       "        <td id=\"T_39c35a26_cbea_11e8_aaaf_9801a791dcdfrow2_col0\" class=\"data row2 col0\" >for</td> \n",
       "        <td id=\"T_39c35a26_cbea_11e8_aaaf_9801a791dcdfrow2_col1\" class=\"data row2 col1\" >1</td> \n",
       "    </tr>    <tr> \n",
       "        <th id=\"T_39c35a26_cbea_11e8_aaaf_9801a791dcdflevel0_row3\" class=\"row_heading level0 row3\" >21</th> \n",
       "        <td id=\"T_39c35a26_cbea_11e8_aaaf_9801a791dcdfrow3_col0\" class=\"data row3 col0\" >have</td> \n",
       "        <td id=\"T_39c35a26_cbea_11e8_aaaf_9801a791dcdfrow3_col1\" class=\"data row3 col1\" >1</td> \n",
       "    </tr>    <tr> \n",
       "        <th id=\"T_39c35a26_cbea_11e8_aaaf_9801a791dcdflevel0_row4\" class=\"row_heading level0 row4\" >22</th> \n",
       "        <td id=\"T_39c35a26_cbea_11e8_aaaf_9801a791dcdfrow4_col0\" class=\"data row4 col0\" >i</td> \n",
       "        <td id=\"T_39c35a26_cbea_11e8_aaaf_9801a791dcdfrow4_col1\" class=\"data row4 col1\" >1</td> \n",
       "    </tr>    <tr> \n",
       "        <th id=\"T_39c35a26_cbea_11e8_aaaf_9801a791dcdflevel0_row5\" class=\"row_heading level0 row5\" >23</th> \n",
       "        <td id=\"T_39c35a26_cbea_11e8_aaaf_9801a791dcdfrow5_col0\" class=\"data row5 col0\" >is</td> \n",
       "        <td id=\"T_39c35a26_cbea_11e8_aaaf_9801a791dcdfrow5_col1\" class=\"data row5 col1\" >4</td> \n",
       "    </tr>    <tr> \n",
       "        <th id=\"T_39c35a26_cbea_11e8_aaaf_9801a791dcdflevel0_row6\" class=\"row_heading level0 row6\" >24</th> \n",
       "        <td id=\"T_39c35a26_cbea_11e8_aaaf_9801a791dcdfrow6_col0\" class=\"data row6 col0\" >it</td> \n",
       "        <td id=\"T_39c35a26_cbea_11e8_aaaf_9801a791dcdfrow6_col1\" class=\"data row6 col1\" >1</td> \n",
       "    </tr>    <tr> \n",
       "        <th id=\"T_39c35a26_cbea_11e8_aaaf_9801a791dcdflevel0_row7\" class=\"row_heading level0 row7\" >26</th> \n",
       "        <td id=\"T_39c35a26_cbea_11e8_aaaf_9801a791dcdfrow7_col0\" class=\"data row7 col0\" >m</td> \n",
       "        <td id=\"T_39c35a26_cbea_11e8_aaaf_9801a791dcdfrow7_col1\" class=\"data row7 col1\" >1</td> \n",
       "    </tr>    <tr> \n",
       "        <th id=\"T_39c35a26_cbea_11e8_aaaf_9801a791dcdflevel0_row8\" class=\"row_heading level0 row8\" >28</th> \n",
       "        <td id=\"T_39c35a26_cbea_11e8_aaaf_9801a791dcdfrow8_col0\" class=\"data row8 col0\" >need</td> \n",
       "        <td id=\"T_39c35a26_cbea_11e8_aaaf_9801a791dcdfrow8_col1\" class=\"data row8 col1\" >1</td> \n",
       "    </tr>    <tr> \n",
       "        <th id=\"T_39c35a26_cbea_11e8_aaaf_9801a791dcdflevel0_row9\" class=\"row_heading level0 row9\" >29</th> \n",
       "        <td id=\"T_39c35a26_cbea_11e8_aaaf_9801a791dcdfrow9_col0\" class=\"data row9 col0\" >of</td> \n",
       "        <td id=\"T_39c35a26_cbea_11e8_aaaf_9801a791dcdfrow9_col1\" class=\"data row9 col1\" >1</td> \n",
       "    </tr>    <tr> \n",
       "        <th id=\"T_39c35a26_cbea_11e8_aaaf_9801a791dcdflevel0_row10\" class=\"row_heading level0 row10\" >32</th> \n",
       "        <td id=\"T_39c35a26_cbea_11e8_aaaf_9801a791dcdfrow10_col0\" class=\"data row10 col0\" >password</td> \n",
       "        <td id=\"T_39c35a26_cbea_11e8_aaaf_9801a791dcdfrow10_col1\" class=\"data row10 col1\" >2</td> \n",
       "    </tr>    <tr> \n",
       "        <th id=\"T_39c35a26_cbea_11e8_aaaf_9801a791dcdflevel0_row11\" class=\"row_heading level0 row11\" >33</th> \n",
       "        <td id=\"T_39c35a26_cbea_11e8_aaaf_9801a791dcdfrow11_col0\" class=\"data row11 col0\" >protected</td> \n",
       "        <td id=\"T_39c35a26_cbea_11e8_aaaf_9801a791dcdfrow11_col1\" class=\"data row11 col1\" >2</td> \n",
       "    </tr>    <tr> \n",
       "        <th id=\"T_39c35a26_cbea_11e8_aaaf_9801a791dcdflevel0_row12\" class=\"row_heading level0 row12\" >35</th> \n",
       "        <td id=\"T_39c35a26_cbea_11e8_aaaf_9801a791dcdfrow12_col0\" class=\"data row12 col0\" >see</td> \n",
       "        <td id=\"T_39c35a26_cbea_11e8_aaaf_9801a791dcdfrow12_col1\" class=\"data row12 col1\" >1</td> \n",
       "    </tr>    <tr> \n",
       "        <th id=\"T_39c35a26_cbea_11e8_aaaf_9801a791dcdflevel0_row13\" class=\"row_heading level0 row13\" >40</th> \n",
       "        <td id=\"T_39c35a26_cbea_11e8_aaaf_9801a791dcdfrow13_col0\" class=\"data row13 col0\" >the</td> \n",
       "        <td id=\"T_39c35a26_cbea_11e8_aaaf_9801a791dcdfrow13_col1\" class=\"data row13 col1\" >8</td> \n",
       "    </tr>    <tr> \n",
       "        <th id=\"T_39c35a26_cbea_11e8_aaaf_9801a791dcdflevel0_row14\" class=\"row_heading level0 row14\" >41</th> \n",
       "        <td id=\"T_39c35a26_cbea_11e8_aaaf_9801a791dcdfrow14_col0\" class=\"data row14 col0\" >this</td> \n",
       "        <td id=\"T_39c35a26_cbea_11e8_aaaf_9801a791dcdfrow14_col1\" class=\"data row14 col1\" >1</td> \n",
       "    </tr>    <tr> \n",
       "        <th id=\"T_39c35a26_cbea_11e8_aaaf_9801a791dcdflevel0_row15\" class=\"row_heading level0 row15\" >42</th> \n",
       "        <td id=\"T_39c35a26_cbea_11e8_aaaf_9801a791dcdfrow15_col0\" class=\"data row15 col0\" >to</td> \n",
       "        <td id=\"T_39c35a26_cbea_11e8_aaaf_9801a791dcdfrow15_col1\" class=\"data row15 col1\" >5</td> \n",
       "    </tr>    <tr> \n",
       "        <th id=\"T_39c35a26_cbea_11e8_aaaf_9801a791dcdflevel0_row16\" class=\"row_heading level0 row16\" >53</th> \n",
       "        <td id=\"T_39c35a26_cbea_11e8_aaaf_9801a791dcdfrow16_col0\" class=\"data row16 col0\" >2016</td> \n",
       "        <td id=\"T_39c35a26_cbea_11e8_aaaf_9801a791dcdfrow16_col1\" class=\"data row16 col1\" >1</td> \n",
       "    </tr>    <tr> \n",
       "        <th id=\"T_39c35a26_cbea_11e8_aaaf_9801a791dcdflevel0_row17\" class=\"row_heading level0 row17\" >56</th> \n",
       "        <td id=\"T_39c35a26_cbea_11e8_aaaf_9801a791dcdfrow17_col0\" class=\"data row17 col0\" >at</td> \n",
       "        <td id=\"T_39c35a26_cbea_11e8_aaaf_9801a791dcdfrow17_col1\" class=\"data row17 col1\" >1</td> \n",
       "    </tr>    <tr> \n",
       "        <th id=\"T_39c35a26_cbea_11e8_aaaf_9801a791dcdflevel0_row18\" class=\"row_heading level0 row18\" >57</th> \n",
       "        <td id=\"T_39c35a26_cbea_11e8_aaaf_9801a791dcdfrow18_col0\" class=\"data row18 col0\" >be</td> \n",
       "        <td id=\"T_39c35a26_cbea_11e8_aaaf_9801a791dcdfrow18_col1\" class=\"data row18 col1\" >2</td> \n",
       "    </tr>    <tr> \n",
       "        <th id=\"T_39c35a26_cbea_11e8_aaaf_9801a791dcdflevel0_row19\" class=\"row_heading level0 row19\" >63</th> \n",
       "        <td id=\"T_39c35a26_cbea_11e8_aaaf_9801a791dcdfrow19_col0\" class=\"data row19 col0\" >in</td> \n",
       "        <td id=\"T_39c35a26_cbea_11e8_aaaf_9801a791dcdfrow19_col1\" class=\"data row19 col1\" >1</td> \n",
       "    </tr></tbody> \n",
       "</table> "
      ],
      "text/plain": [
       "<pandas.io.formats.style.Styler at 0x14d54d950>"
      ]
     },
     "execution_count": 8,
     "metadata": {},
     "output_type": "execute_result"
    }
   ],
   "source": [
    "display_wordcount_vector(3, prepro='custom')"
   ]
  },
  {
   "cell_type": "markdown",
   "metadata": {
    "ExecuteTime": {
     "end_time": "2018-05-30T23:06:18.578766Z",
     "start_time": "2018-05-30T23:06:18.559949Z"
    },
    "slideshow": {
     "slide_type": "subslide"
    }
   },
   "source": [
    "## TF-IDF Vectors"
   ]
  },
  {
   "cell_type": "markdown",
   "metadata": {
    "slideshow": {
     "slide_type": "fragment"
    }
   },
   "source": [
    "TF-IDF = Term Frequency-Inverse Document Frequency \n",
    "\n",
    "https://en.wikipedia.org/wiki/Tf-idf\n",
    "\n",
    "Discount the frequency of terms common to many documents in the (training/target) corpus. "
   ]
  },
  {
   "cell_type": "markdown",
   "metadata": {
    "slideshow": {
     "slide_type": "subslide"
    }
   },
   "source": [
    "### Discount the importance of common words"
   ]
  },
  {
   "cell_type": "code",
   "execution_count": 9,
   "metadata": {
    "ExecuteTime": {
     "end_time": "2018-10-09T17:39:08.716968Z",
     "start_time": "2018-10-09T17:39:08.694924Z"
    },
    "scrolled": true,
    "slideshow": {
     "slide_type": "fragment"
    }
   },
   "outputs": [
    {
     "data": {
      "text/html": [
       "<style  type=\"text/css\" >\n",
       "    #T_39c8d480_cbea_11e8_a363_9801a791dcdf th {\n",
       "          font-size: 30px;\n",
       "    }    #T_39c8d480_cbea_11e8_a363_9801a791dcdf td {\n",
       "          font-size: 30px;\n",
       "    }</style>  \n",
       "<table id=\"T_39c8d480_cbea_11e8_a363_9801a791dcdf\" > \n",
       "<thead>    <tr> \n",
       "        <th class=\"blank level0\" ></th> \n",
       "        <th class=\"col_heading level0 col0\" >token</th> \n",
       "        <th class=\"col_heading level0 col1\" >word_count</th> \n",
       "        <th class=\"col_heading level0 col2\" >tfidf_score</th> \n",
       "    </tr>    <tr> \n",
       "        <th class=\"index_name level0\" >vocab_index</th> \n",
       "        <th class=\"blank\" ></th> \n",
       "        <th class=\"blank\" ></th> \n",
       "        <th class=\"blank\" ></th> \n",
       "    </tr></thead> \n",
       "<tbody>    <tr> \n",
       "        <th id=\"T_39c8d480_cbea_11e8_a363_9801a791dcdflevel0_row0\" class=\"row_heading level0 row0\" >11</th> \n",
       "        <td id=\"T_39c8d480_cbea_11e8_a363_9801a791dcdfrow0_col0\" class=\"data row0 col0\" >excel</td> \n",
       "        <td id=\"T_39c8d480_cbea_11e8_a363_9801a791dcdfrow0_col1\" class=\"data row0 col1\" >4</td> \n",
       "        <td id=\"T_39c8d480_cbea_11e8_a363_9801a791dcdfrow0_col2\" class=\"data row0 col2\" >0.345436</td> \n",
       "    </tr>    <tr> \n",
       "        <th id=\"T_39c8d480_cbea_11e8_a363_9801a791dcdflevel0_row1\" class=\"row_heading level0 row1\" >12</th> \n",
       "        <td id=\"T_39c8d480_cbea_11e8_a363_9801a791dcdfrow1_col0\" class=\"data row1 col0\" >file</td> \n",
       "        <td id=\"T_39c8d480_cbea_11e8_a363_9801a791dcdfrow1_col1\" class=\"data row1 col1\" >1</td> \n",
       "        <td id=\"T_39c8d480_cbea_11e8_a363_9801a791dcdfrow1_col2\" class=\"data row1 col2\" >0.0535144</td> \n",
       "    </tr>    <tr> \n",
       "        <th id=\"T_39c8d480_cbea_11e8_a363_9801a791dcdflevel0_row2\" class=\"row_heading level0 row2\" >13</th> \n",
       "        <td id=\"T_39c8d480_cbea_11e8_a363_9801a791dcdfrow2_col0\" class=\"data row2 col0\" >for</td> \n",
       "        <td id=\"T_39c8d480_cbea_11e8_a363_9801a791dcdfrow2_col1\" class=\"data row2 col1\" >1</td> \n",
       "        <td id=\"T_39c8d480_cbea_11e8_a363_9801a791dcdfrow2_col2\" class=\"data row2 col2\" >0.0137609</td> \n",
       "    </tr>    <tr> \n",
       "        <th id=\"T_39c8d480_cbea_11e8_a363_9801a791dcdflevel0_row3\" class=\"row_heading level0 row3\" >21</th> \n",
       "        <td id=\"T_39c8d480_cbea_11e8_a363_9801a791dcdfrow3_col0\" class=\"data row3 col0\" >have</td> \n",
       "        <td id=\"T_39c8d480_cbea_11e8_a363_9801a791dcdfrow3_col1\" class=\"data row3 col1\" >1</td> \n",
       "        <td id=\"T_39c8d480_cbea_11e8_a363_9801a791dcdfrow3_col2\" class=\"data row3 col2\" >0.0178104</td> \n",
       "    </tr>    <tr> \n",
       "        <th id=\"T_39c8d480_cbea_11e8_a363_9801a791dcdflevel0_row4\" class=\"row_heading level0 row4\" >22</th> \n",
       "        <td id=\"T_39c8d480_cbea_11e8_a363_9801a791dcdfrow4_col0\" class=\"data row4 col0\" >i</td> \n",
       "        <td id=\"T_39c8d480_cbea_11e8_a363_9801a791dcdfrow4_col1\" class=\"data row4 col1\" >1</td> \n",
       "        <td id=\"T_39c8d480_cbea_11e8_a363_9801a791dcdfrow4_col2\" class=\"data row4 col2\" >0.00901051</td> \n",
       "    </tr>    <tr> \n",
       "        <th id=\"T_39c8d480_cbea_11e8_a363_9801a791dcdflevel0_row5\" class=\"row_heading level0 row5\" >23</th> \n",
       "        <td id=\"T_39c8d480_cbea_11e8_a363_9801a791dcdfrow5_col0\" class=\"data row5 col0\" >is</td> \n",
       "        <td id=\"T_39c8d480_cbea_11e8_a363_9801a791dcdfrow5_col1\" class=\"data row5 col1\" >4</td> \n",
       "        <td id=\"T_39c8d480_cbea_11e8_a363_9801a791dcdfrow5_col2\" class=\"data row5 col2\" >0.0525061</td> \n",
       "    </tr>    <tr> \n",
       "        <th id=\"T_39c8d480_cbea_11e8_a363_9801a791dcdflevel0_row6\" class=\"row_heading level0 row6\" >24</th> \n",
       "        <td id=\"T_39c8d480_cbea_11e8_a363_9801a791dcdfrow6_col0\" class=\"data row6 col0\" >it</td> \n",
       "        <td id=\"T_39c8d480_cbea_11e8_a363_9801a791dcdfrow6_col1\" class=\"data row6 col1\" >1</td> \n",
       "        <td id=\"T_39c8d480_cbea_11e8_a363_9801a791dcdfrow6_col2\" class=\"data row6 col2\" >0.0114644</td> \n",
       "    </tr>    <tr> \n",
       "        <th id=\"T_39c8d480_cbea_11e8_a363_9801a791dcdflevel0_row7\" class=\"row_heading level0 row7\" >26</th> \n",
       "        <td id=\"T_39c8d480_cbea_11e8_a363_9801a791dcdfrow7_col0\" class=\"data row7 col0\" >m</td> \n",
       "        <td id=\"T_39c8d480_cbea_11e8_a363_9801a791dcdfrow7_col1\" class=\"data row7 col1\" >1</td> \n",
       "        <td id=\"T_39c8d480_cbea_11e8_a363_9801a791dcdfrow7_col2\" class=\"data row7 col2\" >0.0372693</td> \n",
       "    </tr>    <tr> \n",
       "        <th id=\"T_39c8d480_cbea_11e8_a363_9801a791dcdflevel0_row8\" class=\"row_heading level0 row8\" >28</th> \n",
       "        <td id=\"T_39c8d480_cbea_11e8_a363_9801a791dcdfrow8_col0\" class=\"data row8 col0\" >need</td> \n",
       "        <td id=\"T_39c8d480_cbea_11e8_a363_9801a791dcdfrow8_col1\" class=\"data row8 col1\" >1</td> \n",
       "        <td id=\"T_39c8d480_cbea_11e8_a363_9801a791dcdfrow8_col2\" class=\"data row8 col2\" >0.0363116</td> \n",
       "    </tr>    <tr> \n",
       "        <th id=\"T_39c8d480_cbea_11e8_a363_9801a791dcdflevel0_row9\" class=\"row_heading level0 row9\" >29</th> \n",
       "        <td id=\"T_39c8d480_cbea_11e8_a363_9801a791dcdfrow9_col0\" class=\"data row9 col0\" >of</td> \n",
       "        <td id=\"T_39c8d480_cbea_11e8_a363_9801a791dcdfrow9_col1\" class=\"data row9 col1\" >1</td> \n",
       "        <td id=\"T_39c8d480_cbea_11e8_a363_9801a791dcdfrow9_col2\" class=\"data row9 col2\" >0.013615</td> \n",
       "    </tr>    <tr> \n",
       "        <th id=\"T_39c8d480_cbea_11e8_a363_9801a791dcdflevel0_row10\" class=\"row_heading level0 row10\" >32</th> \n",
       "        <td id=\"T_39c8d480_cbea_11e8_a363_9801a791dcdfrow10_col0\" class=\"data row10 col0\" >password</td> \n",
       "        <td id=\"T_39c8d480_cbea_11e8_a363_9801a791dcdfrow10_col1\" class=\"data row10 col1\" >2</td> \n",
       "        <td id=\"T_39c8d480_cbea_11e8_a363_9801a791dcdfrow10_col2\" class=\"data row10 col2\" >0.13451</td> \n",
       "    </tr>    <tr> \n",
       "        <th id=\"T_39c8d480_cbea_11e8_a363_9801a791dcdflevel0_row11\" class=\"row_heading level0 row11\" >33</th> \n",
       "        <td id=\"T_39c8d480_cbea_11e8_a363_9801a791dcdfrow11_col0\" class=\"data row11 col0\" >protected</td> \n",
       "        <td id=\"T_39c8d480_cbea_11e8_a363_9801a791dcdfrow11_col1\" class=\"data row11 col1\" >2</td> \n",
       "        <td id=\"T_39c8d480_cbea_11e8_a363_9801a791dcdfrow11_col2\" class=\"data row11 col2\" >0.207547</td> \n",
       "    </tr>    <tr> \n",
       "        <th id=\"T_39c8d480_cbea_11e8_a363_9801a791dcdflevel0_row12\" class=\"row_heading level0 row12\" >35</th> \n",
       "        <td id=\"T_39c8d480_cbea_11e8_a363_9801a791dcdfrow12_col0\" class=\"data row12 col0\" >see</td> \n",
       "        <td id=\"T_39c8d480_cbea_11e8_a363_9801a791dcdfrow12_col1\" class=\"data row12 col1\" >1</td> \n",
       "        <td id=\"T_39c8d480_cbea_11e8_a363_9801a791dcdfrow12_col2\" class=\"data row12 col2\" >0.0399654</td> \n",
       "    </tr>    <tr> \n",
       "        <th id=\"T_39c8d480_cbea_11e8_a363_9801a791dcdflevel0_row13\" class=\"row_heading level0 row13\" >40</th> \n",
       "        <td id=\"T_39c8d480_cbea_11e8_a363_9801a791dcdfrow13_col0\" class=\"data row13 col0\" >the</td> \n",
       "        <td id=\"T_39c8d480_cbea_11e8_a363_9801a791dcdfrow13_col1\" class=\"data row13 col1\" >8</td> \n",
       "        <td id=\"T_39c8d480_cbea_11e8_a363_9801a791dcdfrow13_col2\" class=\"data row13 col2\" >0.0439927</td> \n",
       "    </tr>    <tr> \n",
       "        <th id=\"T_39c8d480_cbea_11e8_a363_9801a791dcdflevel0_row14\" class=\"row_heading level0 row14\" >41</th> \n",
       "        <td id=\"T_39c8d480_cbea_11e8_a363_9801a791dcdfrow14_col0\" class=\"data row14 col0\" >this</td> \n",
       "        <td id=\"T_39c8d480_cbea_11e8_a363_9801a791dcdfrow14_col1\" class=\"data row14 col1\" >1</td> \n",
       "        <td id=\"T_39c8d480_cbea_11e8_a363_9801a791dcdfrow14_col2\" class=\"data row14 col2\" >0.0194919</td> \n",
       "    </tr>    <tr> \n",
       "        <th id=\"T_39c8d480_cbea_11e8_a363_9801a791dcdflevel0_row15\" class=\"row_heading level0 row15\" >42</th> \n",
       "        <td id=\"T_39c8d480_cbea_11e8_a363_9801a791dcdfrow15_col0\" class=\"data row15 col0\" >to</td> \n",
       "        <td id=\"T_39c8d480_cbea_11e8_a363_9801a791dcdfrow15_col1\" class=\"data row15 col1\" >5</td> \n",
       "        <td id=\"T_39c8d480_cbea_11e8_a363_9801a791dcdfrow15_col2\" class=\"data row15 col2\" >0.0326363</td> \n",
       "    </tr>    <tr> \n",
       "        <th id=\"T_39c8d480_cbea_11e8_a363_9801a791dcdflevel0_row16\" class=\"row_heading level0 row16\" >53</th> \n",
       "        <td id=\"T_39c8d480_cbea_11e8_a363_9801a791dcdfrow16_col0\" class=\"data row16 col0\" >2016</td> \n",
       "        <td id=\"T_39c8d480_cbea_11e8_a363_9801a791dcdfrow16_col1\" class=\"data row16 col1\" >1</td> \n",
       "        <td id=\"T_39c8d480_cbea_11e8_a363_9801a791dcdfrow16_col2\" class=\"data row16 col2\" >0.0874139</td> \n",
       "    </tr>    <tr> \n",
       "        <th id=\"T_39c8d480_cbea_11e8_a363_9801a791dcdflevel0_row17\" class=\"row_heading level0 row17\" >56</th> \n",
       "        <td id=\"T_39c8d480_cbea_11e8_a363_9801a791dcdfrow17_col0\" class=\"data row17 col0\" >at</td> \n",
       "        <td id=\"T_39c8d480_cbea_11e8_a363_9801a791dcdfrow17_col1\" class=\"data row17 col1\" >1</td> \n",
       "        <td id=\"T_39c8d480_cbea_11e8_a363_9801a791dcdfrow17_col2\" class=\"data row17 col2\" >0.0283577</td> \n",
       "    </tr>    <tr> \n",
       "        <th id=\"T_39c8d480_cbea_11e8_a363_9801a791dcdflevel0_row18\" class=\"row_heading level0 row18\" >57</th> \n",
       "        <td id=\"T_39c8d480_cbea_11e8_a363_9801a791dcdfrow18_col0\" class=\"data row18 col0\" >be</td> \n",
       "        <td id=\"T_39c8d480_cbea_11e8_a363_9801a791dcdfrow18_col1\" class=\"data row18 col1\" >2</td> \n",
       "        <td id=\"T_39c8d480_cbea_11e8_a363_9801a791dcdfrow18_col2\" class=\"data row18 col2\" >0.0435219</td> \n",
       "    </tr>    <tr> \n",
       "        <th id=\"T_39c8d480_cbea_11e8_a363_9801a791dcdflevel0_row19\" class=\"row_heading level0 row19\" >63</th> \n",
       "        <td id=\"T_39c8d480_cbea_11e8_a363_9801a791dcdfrow19_col0\" class=\"data row19 col0\" >in</td> \n",
       "        <td id=\"T_39c8d480_cbea_11e8_a363_9801a791dcdfrow19_col1\" class=\"data row19 col1\" >1</td> \n",
       "        <td id=\"T_39c8d480_cbea_11e8_a363_9801a791dcdfrow19_col2\" class=\"data row19 col2\" >0.0143975</td> \n",
       "    </tr></tbody> \n",
       "</table> "
      ],
      "text/plain": [
       "<pandas.io.formats.style.Styler at 0x11642ce90>"
      ]
     },
     "execution_count": 9,
     "metadata": {},
     "output_type": "execute_result"
    }
   ],
   "source": [
    "display_tfidf_vector(3, prepro='custom')"
   ]
  },
  {
   "cell_type": "markdown",
   "metadata": {
    "heading_collapsed": true,
    "slideshow": {
     "slide_type": "slide"
    }
   },
   "source": [
    "# Question Similarity"
   ]
  },
  {
   "cell_type": "markdown",
   "metadata": {
    "hidden": true,
    "slideshow": {
     "slide_type": "subslide"
    }
   },
   "source": [
    "## Cosine Similarity\n",
    "\n",
    "- $N$: Size of the vocabulary \n",
    "- $X_1, X_2$: Document vectors, $N\\times 1$ dimensional\n",
    "\n",
    "\\begin{eqnarray} \n",
    "\\cos(X_1, X_2) &=& \\frac{X_1\\cdot X_2}{\\sqrt{X_1\\cdot X_1}\\sqrt{X_2 \\cdot X_2}}\\\\\n",
    "\\end{eqnarray}"
   ]
  },
  {
   "cell_type": "markdown",
   "metadata": {
    "hidden": true,
    "slideshow": {
     "slide_type": "subslide"
    }
   },
   "source": [
    "### Dot Product"
   ]
  },
  {
   "cell_type": "markdown",
   "metadata": {
    "slideshow": {
     "slide_type": "fragment"
    }
   },
   "source": [
    "Sum of the element-wise products,\n",
    "$$X_1\\cdot X_2 = \\begin{pmatrix}1 \\\\ 2 \\\\ 3 \\end{pmatrix} \\cdot \\begin{pmatrix} 0\\\\ 1\\\\ 1 \\end{pmatrix} = 1(0)+2(1)+3(1)=5$$"
   ]
  },
  {
   "cell_type": "code",
   "execution_count": 10,
   "metadata": {
    "ExecuteTime": {
     "end_time": "2018-10-09T17:39:08.731144Z",
     "start_time": "2018-10-09T17:39:08.721355Z"
    },
    "slideshow": {
     "slide_type": "fragment"
    }
   },
   "outputs": [
    {
     "data": {
      "text/plain": [
       "5"
      ]
     },
     "execution_count": 10,
     "metadata": {},
     "output_type": "execute_result"
    }
   ],
   "source": [
    "import scipy as sp\n",
    "sp.dot([1,2,3],[0,1,1])"
   ]
  },
  {
   "cell_type": "markdown",
   "metadata": {
    "slideshow": {
     "slide_type": "subslide"
    }
   },
   "source": [
    "### Cosine Similarity of Word Count Vectors\n",
    "\n",
    "Does this match our observations about the example documents?"
   ]
  },
  {
   "cell_type": "code",
   "execution_count": 11,
   "metadata": {
    "ExecuteTime": {
     "end_time": "2018-10-09T17:39:08.748493Z",
     "start_time": "2018-10-09T17:39:08.735891Z"
    },
    "slideshow": {
     "slide_type": "fragment"
    }
   },
   "outputs": [
    {
     "data": {
      "text/html": [
       "<style  type=\"text/css\" >\n",
       "    #T_39ce2d2b_cbea_11e8_a4da_9801a791dcdf th {\n",
       "          font-size: 30px;\n",
       "    }    #T_39ce2d2b_cbea_11e8_a4da_9801a791dcdf td {\n",
       "          font-size: 30px;\n",
       "    }</style>  \n",
       "<table id=\"T_39ce2d2b_cbea_11e8_a4da_9801a791dcdf\" > \n",
       "<thead>    <tr> \n",
       "        <th class=\"blank level0\" ></th> \n",
       "        <th class=\"col_heading level0 col0\" >doc1</th> \n",
       "        <th class=\"col_heading level0 col1\" >doc2</th> \n",
       "        <th class=\"col_heading level0 col2\" >doc3</th> \n",
       "    </tr></thead> \n",
       "<tbody>    <tr> \n",
       "        <th id=\"T_39ce2d2b_cbea_11e8_a4da_9801a791dcdflevel0_row0\" class=\"row_heading level0 row0\" >doc1</th> \n",
       "        <td id=\"T_39ce2d2b_cbea_11e8_a4da_9801a791dcdfrow0_col0\" class=\"data row0 col0\" >1</td> \n",
       "        <td id=\"T_39ce2d2b_cbea_11e8_a4da_9801a791dcdfrow0_col1\" class=\"data row0 col1\" >0.327461</td> \n",
       "        <td id=\"T_39ce2d2b_cbea_11e8_a4da_9801a791dcdfrow0_col2\" class=\"data row0 col2\" >0.438927</td> \n",
       "    </tr>    <tr> \n",
       "        <th id=\"T_39ce2d2b_cbea_11e8_a4da_9801a791dcdflevel0_row1\" class=\"row_heading level0 row1\" >doc2</th> \n",
       "        <td id=\"T_39ce2d2b_cbea_11e8_a4da_9801a791dcdfrow1_col0\" class=\"data row1 col0\" >0.327461</td> \n",
       "        <td id=\"T_39ce2d2b_cbea_11e8_a4da_9801a791dcdfrow1_col1\" class=\"data row1 col1\" >1</td> \n",
       "        <td id=\"T_39ce2d2b_cbea_11e8_a4da_9801a791dcdfrow1_col2\" class=\"data row1 col2\" >0.344955</td> \n",
       "    </tr>    <tr> \n",
       "        <th id=\"T_39ce2d2b_cbea_11e8_a4da_9801a791dcdflevel0_row2\" class=\"row_heading level0 row2\" >doc3</th> \n",
       "        <td id=\"T_39ce2d2b_cbea_11e8_a4da_9801a791dcdfrow2_col0\" class=\"data row2 col0\" >0.438927</td> \n",
       "        <td id=\"T_39ce2d2b_cbea_11e8_a4da_9801a791dcdfrow2_col1\" class=\"data row2 col1\" >0.344955</td> \n",
       "        <td id=\"T_39ce2d2b_cbea_11e8_a4da_9801a791dcdfrow2_col2\" class=\"data row2 col2\" >1</td> \n",
       "    </tr></tbody> \n",
       "</table> "
      ],
      "text/plain": [
       "<pandas.io.formats.style.Styler at 0x11643b650>"
      ]
     },
     "execution_count": 11,
     "metadata": {},
     "output_type": "execute_result"
    }
   ],
   "source": [
    "display_doc_similarities(cosim_index[custom_target_corpus])"
   ]
  },
  {
   "cell_type": "markdown",
   "metadata": {
    "slideshow": {
     "slide_type": "subslide"
    }
   },
   "source": [
    "### Cosine Similarity of Tf-idf Vectors\n",
    "\n",
    "Does this match our observations about the example documents? "
   ]
  },
  {
   "cell_type": "code",
   "execution_count": 12,
   "metadata": {
    "ExecuteTime": {
     "end_time": "2018-10-09T17:39:08.767285Z",
     "start_time": "2018-10-09T17:39:08.752895Z"
    },
    "slideshow": {
     "slide_type": "fragment"
    }
   },
   "outputs": [
    {
     "data": {
      "text/html": [
       "<style  type=\"text/css\" >\n",
       "    #T_39d11ceb_cbea_11e8_923f_9801a791dcdf th {\n",
       "          font-size: 30px;\n",
       "    }    #T_39d11ceb_cbea_11e8_923f_9801a791dcdf td {\n",
       "          font-size: 30px;\n",
       "    }</style>  \n",
       "<table id=\"T_39d11ceb_cbea_11e8_923f_9801a791dcdf\" > \n",
       "<thead>    <tr> \n",
       "        <th class=\"blank level0\" ></th> \n",
       "        <th class=\"col_heading level0 col0\" >doc1</th> \n",
       "        <th class=\"col_heading level0 col1\" >doc2</th> \n",
       "        <th class=\"col_heading level0 col2\" >doc3</th> \n",
       "    </tr></thead> \n",
       "<tbody>    <tr> \n",
       "        <th id=\"T_39d11ceb_cbea_11e8_923f_9801a791dcdflevel0_row0\" class=\"row_heading level0 row0\" >doc1</th> \n",
       "        <td id=\"T_39d11ceb_cbea_11e8_923f_9801a791dcdfrow0_col0\" class=\"data row0 col0\" >1</td> \n",
       "        <td id=\"T_39d11ceb_cbea_11e8_923f_9801a791dcdfrow0_col1\" class=\"data row0 col1\" >0.296398</td> \n",
       "        <td id=\"T_39d11ceb_cbea_11e8_923f_9801a791dcdfrow0_col2\" class=\"data row0 col2\" >0.187408</td> \n",
       "    </tr>    <tr> \n",
       "        <th id=\"T_39d11ceb_cbea_11e8_923f_9801a791dcdflevel0_row1\" class=\"row_heading level0 row1\" >doc2</th> \n",
       "        <td id=\"T_39d11ceb_cbea_11e8_923f_9801a791dcdfrow1_col0\" class=\"data row1 col0\" >0.296398</td> \n",
       "        <td id=\"T_39d11ceb_cbea_11e8_923f_9801a791dcdfrow1_col1\" class=\"data row1 col1\" >1</td> \n",
       "        <td id=\"T_39d11ceb_cbea_11e8_923f_9801a791dcdfrow1_col2\" class=\"data row1 col2\" >0.240988</td> \n",
       "    </tr>    <tr> \n",
       "        <th id=\"T_39d11ceb_cbea_11e8_923f_9801a791dcdflevel0_row2\" class=\"row_heading level0 row2\" >doc3</th> \n",
       "        <td id=\"T_39d11ceb_cbea_11e8_923f_9801a791dcdfrow2_col0\" class=\"data row2 col0\" >0.187408</td> \n",
       "        <td id=\"T_39d11ceb_cbea_11e8_923f_9801a791dcdfrow2_col1\" class=\"data row2 col1\" >0.240988</td> \n",
       "        <td id=\"T_39d11ceb_cbea_11e8_923f_9801a791dcdfrow2_col2\" class=\"data row2 col2\" >1</td> \n",
       "    </tr></tbody> \n",
       "</table> "
      ],
      "text/plain": [
       "<pandas.io.formats.style.Styler at 0x11643bc90>"
      ]
     },
     "execution_count": 12,
     "metadata": {},
     "output_type": "execute_result"
    }
   ],
   "source": [
    "display_doc_similarities(cosim_index_tfidf[custom_background_tfidf])"
   ]
  },
  {
   "cell_type": "markdown",
   "metadata": {
    "slideshow": {
     "slide_type": "fragment"
    }
   },
   "source": [
    "Good enough for this toy problem with three documents!"
   ]
  },
  {
   "cell_type": "markdown",
   "metadata": {
    "slideshow": {
     "slide_type": "subslide"
    }
   },
   "source": [
    "### So are we good? "
   ]
  },
  {
   "cell_type": "markdown",
   "metadata": {
    "slideshow": {
     "slide_type": "fragment"
    }
   },
   "source": [
    "Consider these example \"documents\": \n",
    "\n",
    "1. Fix broken laptop.\n",
    "2. Troubleshoot crashed computer.\n",
    "\n",
    "These sentences express related meanings. Let's attempt to compute a cosine similarity of tf-idf vectors..."
   ]
  },
  {
   "cell_type": "markdown",
   "metadata": {
    "slideshow": {
     "slide_type": "subslide"
    }
   },
   "source": [
    "### Failure of Cosine Similarity"
   ]
  },
  {
   "cell_type": "markdown",
   "metadata": {
    "slideshow": {
     "slide_type": "fragment"
    }
   },
   "source": [
    "$ \\left(\\begin{array}{r|l} \n",
    "\\text{broken} & 1 \\\\\n",
    "\\text{fix} & 1 \\\\\n",
    "\\text{laptop} & 1 \\\\\n",
    "\\text{computer} & 0 \\\\\n",
    "\\text{crashed} & 0 \\\\\n",
    "\\text{troubleshoot} & 0 \\\\\n",
    "\\end{array}\\right)\\cdot\n",
    "\\left(\\begin{array}{r|l} \n",
    "\\text{broken} & 0 \\\\\n",
    "\\text{fix} & 0 \\\\\n",
    "\\text{laptop} & 0 \\\\\n",
    "\\text{computer} & 1 \\\\\n",
    "\\text{crashed} & 1 \\\\\n",
    "\\text{troubleshoot} & 1 \\\\\n",
    "\\end{array}\\right)=0$"
   ]
  },
  {
   "cell_type": "markdown",
   "metadata": {
    "slideshow": {
     "slide_type": "fragment"
    }
   },
   "source": [
    "These sentences have zero term overlap, yet they are \"semantically similar\". \n",
    "\n",
    "Need a way to capture similarity between individual words... "
   ]
  },
  {
   "cell_type": "markdown",
   "metadata": {
    "slideshow": {
     "slide_type": "subslide"
    }
   },
   "source": [
    "## Words and their Vector Space Representations"
   ]
  },
  {
   "cell_type": "markdown",
   "metadata": {
    "ExecuteTime": {
     "end_time": "2018-10-04T19:18:55.523098Z",
     "start_time": "2018-10-04T19:18:50.687166Z"
    },
    "slideshow": {
     "slide_type": "fragment"
    }
   },
   "source": [
    "If we want to compute similarity between words, just as for documents, we need a way to represent words as vectors in a space that represents the context of our corpus.\n",
    "\n",
    "How do we get vector representations of words? "
   ]
  },
  {
   "cell_type": "markdown",
   "metadata": {
    "slideshow": {
     "slide_type": "subslide"
    }
   },
   "source": [
    "### Neural Net embeddings:\n",
    "\n",
    "* Word2Vec\n",
    "* Fasttext\n",
    "\n",
    "Allows us to convert a word to a vector representing the context of the word in our corpus."
   ]
  },
  {
   "cell_type": "markdown",
   "metadata": {
    "slideshow": {
     "slide_type": "subslide"
    }
   },
   "source": [
    "### Representing a Word as a Vector"
   ]
  },
  {
   "cell_type": "code",
   "execution_count": 13,
   "metadata": {
    "ExecuteTime": {
     "end_time": "2018-10-09T17:39:08.783983Z",
     "start_time": "2018-10-09T17:39:08.771853Z"
    },
    "scrolled": true,
    "slideshow": {
     "slide_type": "fragment"
    }
   },
   "outputs": [
    {
     "data": {
      "text/plain": [
       "array([ 6.694591  ,  0.38895807,  0.21677095, -1.5421165 ,  0.3427277 ,\n",
       "       -3.0070813 ,  3.3640888 , -2.1859026 , -0.5321782 ,  0.39831161,\n",
       "        0.14850397, -0.34108832, -0.43903095, -4.2409334 ,  4.750981  ,\n",
       "        1.519706  ,  2.2364984 ,  2.6070676 , -1.9528129 , -1.7099503 ,\n",
       "       -0.3922034 ,  2.4955602 , -2.095561  ,  0.59517896, -3.9916465 ,\n",
       "       -1.3998742 ,  2.2457292 , -0.2607091 ,  0.5151659 , -3.0636802 ,\n",
       "       -1.8669338 ,  3.8606756 , -1.7043344 ,  0.8678547 , -0.09430644,\n",
       "       -2.0161386 ,  3.0171952 , -5.9563336 ,  0.34313664, -1.7600299 ,\n",
       "       -1.1861383 , -1.6441221 ,  3.4817317 ,  2.0064442 ,  1.8825552 ,\n",
       "       -0.93692595,  0.9545581 ,  0.88767725, -0.25365126, -4.8420334 ,\n",
       "        1.8458993 , -4.6424503 , -0.2995679 ,  2.85827   ,  2.4341018 ,\n",
       "        0.6355176 ,  3.1100776 ,  0.61656976, -0.3025384 ,  2.0341814 ,\n",
       "       -3.4752703 ,  3.4563332 , -1.1403524 ,  2.7354548 , -5.389078  ,\n",
       "       -2.0250793 , -1.0329027 , -2.7134142 ,  4.2701206 , -2.4232833 ,\n",
       "       -1.6973151 ,  2.2349324 ,  0.27167565,  2.4942074 , -2.1068437 ,\n",
       "        3.492115  , -0.48141274, -1.0287368 ,  5.2063966 ,  5.2061024 ,\n",
       "        0.58976334,  0.13375227,  0.5866552 ,  5.1604156 ,  4.9384828 ,\n",
       "       -0.53747046,  4.3960876 ,  1.122552  , -3.655679  , -1.7357795 ,\n",
       "       -0.17357762, -0.31013188,  0.24718489,  3.469989  , -0.9873766 ,\n",
       "       -2.0775974 , -1.5141501 , -1.2634599 , -1.9545801 , -2.1829195 ,\n",
       "        4.3347273 ,  1.402046  , -1.0888788 ,  2.2604418 ,  2.0535445 ,\n",
       "        0.6189935 ,  3.686332  , -4.3181252 , -3.8312051 ,  0.9520428 ,\n",
       "        3.574413  ,  3.0603764 ,  2.6562135 , -1.6622652 , -2.1425269 ,\n",
       "       -2.029612  , -0.4269985 , -0.3872894 ,  1.5007062 ,  1.9023511 ,\n",
       "        1.6788528 ,  0.57999575,  1.7072138 ,  2.6545312 , -2.42481   ,\n",
       "        1.0359797 , -2.0442286 ,  1.9563363 , -0.64548254,  2.786297  ,\n",
       "       -3.1839392 , -0.80616105,  0.7182212 , -1.2113322 ,  1.5224029 ,\n",
       "        0.16080208,  4.6399374 ,  0.5382286 ,  0.18348293, -2.5933096 ,\n",
       "        0.3864574 ,  3.1873696 , -1.649182  ,  3.7165744 , -0.633116  ,\n",
       "        2.5700188 , -2.8877068 ,  0.14395484, -2.7072368 ,  3.2748313 ,\n",
       "        3.8248634 , -0.01761018, -0.04120568, -0.74410826, -3.153931  ,\n",
       "        0.6564478 , -0.77904075,  3.1527994 ,  0.5036778 ,  0.54254824,\n",
       "       -1.9500622 ,  1.0611713 ,  2.9091535 , -5.406746  ,  4.637801  ,\n",
       "        0.51357883, -0.6944246 ,  1.5368595 ,  2.027075  , -5.148254  ,\n",
       "       -0.51068914, -0.619793  ,  0.29961047,  1.3489952 , -2.0970802 ,\n",
       "       -3.1136825 , -2.7760851 ,  1.7612687 , -0.6314733 , -2.1063998 ,\n",
       "       -2.4901516 , -0.7505758 , -0.5576386 ,  2.2599125 ,  0.84559935,\n",
       "        1.4031283 , -1.073646  ,  0.76517385,  1.6438723 ,  0.02267118,\n",
       "        0.8797886 ,  6.105235  , -0.7520137 ,  0.3692846 , -2.8204627 ,\n",
       "        4.41362   ,  1.5348475 , -1.9668368 , -6.4355063 , -3.8345919 ],\n",
       "      dtype=float32)"
      ]
     },
     "execution_count": 13,
     "metadata": {},
     "output_type": "execute_result"
    }
   ],
   "source": [
    "w2v.wv[\"computer\"]"
   ]
  },
  {
   "cell_type": "markdown",
   "metadata": {
    "slideshow": {
     "slide_type": "subslide"
    }
   },
   "source": [
    "### Similarity in the Word2Vec Model"
   ]
  },
  {
   "cell_type": "code",
   "execution_count": 21,
   "metadata": {
    "ExecuteTime": {
     "end_time": "2018-10-09T17:44:55.916724Z",
     "start_time": "2018-10-09T17:44:55.900577Z"
    },
    "slideshow": {
     "slide_type": "fragment"
    }
   },
   "outputs": [
    {
     "data": {
      "text/plain": [
       "[(u'pc', 0.804652214050293),\n",
       " (u'machine', 0.7396371364593506),\n",
       " (u'workstation', 0.687087893486023),\n",
       " (u'laptop', 0.6701804399490356),\n",
       " (u'computers', 0.6077813506126404),\n",
       " (u'printer', 0.5282449722290039),\n",
       " (u'desktop', 0.5122043490409851),\n",
       " (u'device', 0.470727801322937),\n",
       " (u'pcand', 0.462885320186615),\n",
       " (u'pcs', 0.4616956114768982),\n",
       " (u'user', 0.45968934893608093),\n",
       " (u'remotly', 0.43686848878860474),\n",
       " (u'account', 0.43058717250823975),\n",
       " (u'notebook', 0.4266224801540375),\n",
       " (u'comptuer', 0.42558860778808594)]"
      ]
     },
     "execution_count": 21,
     "metadata": {},
     "output_type": "execute_result"
    }
   ],
   "source": [
    "w2v.wv.most_similar('computer', topn=15)"
   ]
  },
  {
   "cell_type": "markdown",
   "metadata": {
    "slideshow": {
     "slide_type": "subslide"
    }
   },
   "source": [
    "### Similarity in the Fasttext Model"
   ]
  },
  {
   "cell_type": "code",
   "execution_count": 22,
   "metadata": {
    "ExecuteTime": {
     "end_time": "2018-10-09T17:45:03.364941Z",
     "start_time": "2018-10-09T17:45:03.348305Z"
    },
    "slideshow": {
     "slide_type": "fragment"
    }
   },
   "outputs": [
    {
     "data": {
      "text/plain": [
       "[(u'acomputer', 0.9429256916046143),\n",
       " (u'scomputer', 0.9186970591545105),\n",
       " (u'tocomputer', 0.9176599383354187),\n",
       " (u'computer4', 0.9165210127830505),\n",
       " (u'computeri', 0.9112850427627563),\n",
       " (u'komputer', 0.9096609354019165),\n",
       " (u'minicomputer', 0.9090799689292908),\n",
       " (u'computerin', 0.9068394303321838),\n",
       " (u'colcomputer', 0.9036481976509094),\n",
       " (u'computer3', 0.9017834663391113),\n",
       " (u'computerhdd', 0.895560622215271),\n",
       " (u'computerip', 0.8941247463226318),\n",
       " (u'computer002', 0.8937199711799622),\n",
       " (u'computerb', 0.8900644183158875),\n",
       " (u'computerand', 0.888690710067749)]"
      ]
     },
     "execution_count": 22,
     "metadata": {},
     "output_type": "execute_result"
    }
   ],
   "source": [
    "ftx.wv.most_similar('computer', topn=15)"
   ]
  },
  {
   "cell_type": "markdown",
   "metadata": {
    "slideshow": {
     "slide_type": "subslide"
    }
   },
   "source": [
    "### Term Similarity Matrix\n",
    "\n",
    "Before, we computed pairwise document similarities for all documents in our corpus. \n",
    "\n",
    "Now, we compute pairwise term similarities for all terms in our vocabulary. "
   ]
  },
  {
   "cell_type": "code",
   "execution_count": 16,
   "metadata": {
    "ExecuteTime": {
     "end_time": "2018-10-09T17:39:08.845730Z",
     "start_time": "2018-10-09T17:39:08.832677Z"
    },
    "slideshow": {
     "slide_type": "fragment"
    }
   },
   "outputs": [
    {
     "data": {
      "text/html": [
       "<style  type=\"text/css\" >\n",
       "    #T_39dcab51_cbea_11e8_afea_9801a791dcdf th {\n",
       "          font-size: 30px;\n",
       "    }    #T_39dcab51_cbea_11e8_afea_9801a791dcdf td {\n",
       "          font-size: 30px;\n",
       "    }</style>  \n",
       "<table id=\"T_39dcab51_cbea_11e8_afea_9801a791dcdf\" > \n",
       "<thead>    <tr> \n",
       "        <th class=\"blank level0\" ></th> \n",
       "        <th class=\"col_heading level0 col0\" >broken</th> \n",
       "        <th class=\"col_heading level0 col1\" >fix</th> \n",
       "        <th class=\"col_heading level0 col2\" >laptop</th> \n",
       "        <th class=\"col_heading level0 col3\" >computer</th> \n",
       "        <th class=\"col_heading level0 col4\" >crashed</th> \n",
       "        <th class=\"col_heading level0 col5\" >troubleshoot</th> \n",
       "    </tr></thead> \n",
       "<tbody>    <tr> \n",
       "        <th id=\"T_39dcab51_cbea_11e8_afea_9801a791dcdflevel0_row0\" class=\"row_heading level0 row0\" >broken</th> \n",
       "        <td id=\"T_39dcab51_cbea_11e8_afea_9801a791dcdfrow0_col0\" class=\"data row0 col0\" >1</td> \n",
       "        <td id=\"T_39dcab51_cbea_11e8_afea_9801a791dcdfrow0_col1\" class=\"data row0 col1\" >0.0835181</td> \n",
       "        <td id=\"T_39dcab51_cbea_11e8_afea_9801a791dcdfrow0_col2\" class=\"data row0 col2\" >0.0143308</td> \n",
       "        <td id=\"T_39dcab51_cbea_11e8_afea_9801a791dcdfrow0_col3\" class=\"data row0 col3\" >0.0166764</td> \n",
       "        <td id=\"T_39dcab51_cbea_11e8_afea_9801a791dcdfrow0_col4\" class=\"data row0 col4\" >0.126778</td> \n",
       "        <td id=\"T_39dcab51_cbea_11e8_afea_9801a791dcdfrow0_col5\" class=\"data row0 col5\" >0.0100578</td> \n",
       "    </tr>    <tr> \n",
       "        <th id=\"T_39dcab51_cbea_11e8_afea_9801a791dcdflevel0_row1\" class=\"row_heading level0 row1\" >fix</th> \n",
       "        <td id=\"T_39dcab51_cbea_11e8_afea_9801a791dcdfrow1_col0\" class=\"data row1 col0\" >0.0835181</td> \n",
       "        <td id=\"T_39dcab51_cbea_11e8_afea_9801a791dcdfrow1_col1\" class=\"data row1 col1\" >1</td> \n",
       "        <td id=\"T_39dcab51_cbea_11e8_afea_9801a791dcdfrow1_col2\" class=\"data row1 col2\" >0.0156713</td> \n",
       "        <td id=\"T_39dcab51_cbea_11e8_afea_9801a791dcdfrow1_col3\" class=\"data row1 col3\" >0.0323089</td> \n",
       "        <td id=\"T_39dcab51_cbea_11e8_afea_9801a791dcdfrow1_col4\" class=\"data row1 col4\" >0.059446</td> \n",
       "        <td id=\"T_39dcab51_cbea_11e8_afea_9801a791dcdfrow1_col5\" class=\"data row1 col5\" >0.429156</td> \n",
       "    </tr>    <tr> \n",
       "        <th id=\"T_39dcab51_cbea_11e8_afea_9801a791dcdflevel0_row2\" class=\"row_heading level0 row2\" >laptop</th> \n",
       "        <td id=\"T_39dcab51_cbea_11e8_afea_9801a791dcdfrow2_col0\" class=\"data row2 col0\" >0.0143308</td> \n",
       "        <td id=\"T_39dcab51_cbea_11e8_afea_9801a791dcdfrow2_col1\" class=\"data row2 col1\" >0.0156713</td> \n",
       "        <td id=\"T_39dcab51_cbea_11e8_afea_9801a791dcdfrow2_col2\" class=\"data row2 col2\" >1</td> \n",
       "        <td id=\"T_39dcab51_cbea_11e8_afea_9801a791dcdfrow2_col3\" class=\"data row2 col3\" >0.449142</td> \n",
       "        <td id=\"T_39dcab51_cbea_11e8_afea_9801a791dcdfrow2_col4\" class=\"data row2 col4\" >0.0468678</td> \n",
       "        <td id=\"T_39dcab51_cbea_11e8_afea_9801a791dcdfrow2_col5\" class=\"data row2 col5\" >0.00492678</td> \n",
       "    </tr>    <tr> \n",
       "        <th id=\"T_39dcab51_cbea_11e8_afea_9801a791dcdflevel0_row3\" class=\"row_heading level0 row3\" >computer</th> \n",
       "        <td id=\"T_39dcab51_cbea_11e8_afea_9801a791dcdfrow3_col0\" class=\"data row3 col0\" >0.0166764</td> \n",
       "        <td id=\"T_39dcab51_cbea_11e8_afea_9801a791dcdfrow3_col1\" class=\"data row3 col1\" >0.0323089</td> \n",
       "        <td id=\"T_39dcab51_cbea_11e8_afea_9801a791dcdfrow3_col2\" class=\"data row3 col2\" >0.449142</td> \n",
       "        <td id=\"T_39dcab51_cbea_11e8_afea_9801a791dcdfrow3_col3\" class=\"data row3 col3\" >1</td> \n",
       "        <td id=\"T_39dcab51_cbea_11e8_afea_9801a791dcdfrow3_col4\" class=\"data row3 col4\" >0.0202786</td> \n",
       "        <td id=\"T_39dcab51_cbea_11e8_afea_9801a791dcdfrow3_col5\" class=\"data row3 col5\" >0.0171988</td> \n",
       "    </tr>    <tr> \n",
       "        <th id=\"T_39dcab51_cbea_11e8_afea_9801a791dcdflevel0_row4\" class=\"row_heading level0 row4\" >crashed</th> \n",
       "        <td id=\"T_39dcab51_cbea_11e8_afea_9801a791dcdfrow4_col0\" class=\"data row4 col0\" >0.126778</td> \n",
       "        <td id=\"T_39dcab51_cbea_11e8_afea_9801a791dcdfrow4_col1\" class=\"data row4 col1\" >0.059446</td> \n",
       "        <td id=\"T_39dcab51_cbea_11e8_afea_9801a791dcdfrow4_col2\" class=\"data row4 col2\" >0.0468678</td> \n",
       "        <td id=\"T_39dcab51_cbea_11e8_afea_9801a791dcdfrow4_col3\" class=\"data row4 col3\" >0.0202786</td> \n",
       "        <td id=\"T_39dcab51_cbea_11e8_afea_9801a791dcdfrow4_col4\" class=\"data row4 col4\" >1</td> \n",
       "        <td id=\"T_39dcab51_cbea_11e8_afea_9801a791dcdfrow4_col5\" class=\"data row4 col5\" >0.0169646</td> \n",
       "    </tr>    <tr> \n",
       "        <th id=\"T_39dcab51_cbea_11e8_afea_9801a791dcdflevel0_row5\" class=\"row_heading level0 row5\" >troubleshoot</th> \n",
       "        <td id=\"T_39dcab51_cbea_11e8_afea_9801a791dcdfrow5_col0\" class=\"data row5 col0\" >0.0100578</td> \n",
       "        <td id=\"T_39dcab51_cbea_11e8_afea_9801a791dcdfrow5_col1\" class=\"data row5 col1\" >0.429156</td> \n",
       "        <td id=\"T_39dcab51_cbea_11e8_afea_9801a791dcdfrow5_col2\" class=\"data row5 col2\" >0.00492678</td> \n",
       "        <td id=\"T_39dcab51_cbea_11e8_afea_9801a791dcdfrow5_col3\" class=\"data row5 col3\" >0.0171988</td> \n",
       "        <td id=\"T_39dcab51_cbea_11e8_afea_9801a791dcdfrow5_col4\" class=\"data row5 col4\" >0.0169646</td> \n",
       "        <td id=\"T_39dcab51_cbea_11e8_afea_9801a791dcdfrow5_col5\" class=\"data row5 col5\" >1</td> \n",
       "    </tr></tbody> \n",
       "</table> "
      ],
      "text/plain": [
       "<pandas.io.formats.style.Styler at 0x11642c810>"
      ]
     },
     "execution_count": 16,
     "metadata": {},
     "output_type": "execute_result"
    }
   ],
   "source": [
    "display_term_similarities(dict_stub, M_eg) "
   ]
  },
  {
   "cell_type": "markdown",
   "metadata": {
    "hidden": true,
    "slideshow": {
     "slide_type": "subslide"
    }
   },
   "source": [
    "## Soft Cosine Similarity\n",
    "$M$: Term-similarity matrix, $N\\times N$ dimensional\n",
    "\n",
    "$$ \\cos_M (X_1, X_2) = \\frac{X_1^T M X_2}{\\sqrt{X_1^T M X_1}\\sqrt{X_2^T M X_2}}$$"
   ]
  },
  {
   "cell_type": "markdown",
   "metadata": {
    "slideshow": {
     "slide_type": "subslide"
    }
   },
   "source": [
    "### Capturing Semantic Similarity "
   ]
  },
  {
   "cell_type": "markdown",
   "metadata": {
    "slideshow": {
     "slide_type": "fragment"
    }
   },
   "source": [
    "\\begin{eqnarray*}\n",
    "(X_1^T M)\\cdot X_2 &=&\n",
    "\\left(\\begin{array}{r|l} \n",
    "\\text{broken} & 1.0978489 \\\\\n",
    "\\text{fix} & 1.0991894 \\\\\n",
    "\\text{laptop} & 1.0300021 \\\\\n",
    "\\text{computer} & 0.4981273 \\\\\n",
    "\\text{crashed} & 0.2330918 \\\\\n",
    "\\text{troubleshoot} & 0.4441406 \\\\\n",
    "\\end{array}\\right)\\cdot\n",
    "\\left(\\begin{array}{r|l} \n",
    "\\text{broken} & 0 \\\\\n",
    "\\text{fix} & 0 \\\\\n",
    "\\text{laptop} & 0 \\\\\n",
    "\\text{computer} & 1 \\\\\n",
    "\\text{crashed} & 1 \\\\\n",
    "\\text{troubleshoot} & 1 \\\\\n",
    "\\end{array}\\right) \\\\ \n",
    "&=& 1.18 \\neq 0\n",
    "\\end{eqnarray*}"
   ]
  },
  {
   "cell_type": "markdown",
   "metadata": {
    "slideshow": {
     "slide_type": "subslide"
    }
   },
   "source": [
    "### Word2Vec Softcosine Similarity on Example Documents\n",
    "Still matches our intuition!"
   ]
  },
  {
   "cell_type": "code",
   "execution_count": 17,
   "metadata": {
    "ExecuteTime": {
     "end_time": "2018-10-09T17:39:08.879080Z",
     "start_time": "2018-10-09T17:39:08.849986Z"
    },
    "scrolled": true,
    "slideshow": {
     "slide_type": "fragment"
    }
   },
   "outputs": [
    {
     "data": {
      "text/html": [
       "<style  type=\"text/css\" >\n",
       "    #T_39e222bd_cbea_11e8_9e90_9801a791dcdf th {\n",
       "          font-size: 30px;\n",
       "    }    #T_39e222bd_cbea_11e8_9e90_9801a791dcdf td {\n",
       "          font-size: 30px;\n",
       "    }</style>  \n",
       "<table id=\"T_39e222bd_cbea_11e8_9e90_9801a791dcdf\" > \n",
       "<thead>    <tr> \n",
       "        <th class=\"blank level0\" ></th> \n",
       "        <th class=\"col_heading level0 col0\" >doc1</th> \n",
       "        <th class=\"col_heading level0 col1\" >doc2</th> \n",
       "        <th class=\"col_heading level0 col2\" >doc3</th> \n",
       "    </tr></thead> \n",
       "<tbody>    <tr> \n",
       "        <th id=\"T_39e222bd_cbea_11e8_9e90_9801a791dcdflevel0_row0\" class=\"row_heading level0 row0\" >doc1</th> \n",
       "        <td id=\"T_39e222bd_cbea_11e8_9e90_9801a791dcdfrow0_col0\" class=\"data row0 col0\" >1</td> \n",
       "        <td id=\"T_39e222bd_cbea_11e8_9e90_9801a791dcdfrow0_col1\" class=\"data row0 col1\" >0.439403</td> \n",
       "        <td id=\"T_39e222bd_cbea_11e8_9e90_9801a791dcdfrow0_col2\" class=\"data row0 col2\" >0.293199</td> \n",
       "    </tr>    <tr> \n",
       "        <th id=\"T_39e222bd_cbea_11e8_9e90_9801a791dcdflevel0_row1\" class=\"row_heading level0 row1\" >doc2</th> \n",
       "        <td id=\"T_39e222bd_cbea_11e8_9e90_9801a791dcdfrow1_col0\" class=\"data row1 col0\" >0.439403</td> \n",
       "        <td id=\"T_39e222bd_cbea_11e8_9e90_9801a791dcdfrow1_col1\" class=\"data row1 col1\" >1</td> \n",
       "        <td id=\"T_39e222bd_cbea_11e8_9e90_9801a791dcdfrow1_col2\" class=\"data row1 col2\" >0.309793</td> \n",
       "    </tr>    <tr> \n",
       "        <th id=\"T_39e222bd_cbea_11e8_9e90_9801a791dcdflevel0_row2\" class=\"row_heading level0 row2\" >doc3</th> \n",
       "        <td id=\"T_39e222bd_cbea_11e8_9e90_9801a791dcdfrow2_col0\" class=\"data row2 col0\" >0.293199</td> \n",
       "        <td id=\"T_39e222bd_cbea_11e8_9e90_9801a791dcdfrow2_col1\" class=\"data row2 col1\" >0.309793</td> \n",
       "        <td id=\"T_39e222bd_cbea_11e8_9e90_9801a791dcdfrow2_col2\" class=\"data row2 col2\" >1</td> \n",
       "    </tr></tbody> \n",
       "</table> "
      ],
      "text/plain": [
       "<pandas.io.formats.style.Styler at 0x1163d5410>"
      ]
     },
     "execution_count": 17,
     "metadata": {},
     "output_type": "execute_result"
    }
   ],
   "source": [
    "display_doc_similarities(doc_w2vsim_index[[bow for bow in custom_background_tfidf]])"
   ]
  },
  {
   "cell_type": "markdown",
   "metadata": {
    "slideshow": {
     "slide_type": "subslide"
    }
   },
   "source": [
    "### Fasttext Softcosine Similarity on Example Documents \n",
    "\n",
    "Still matches our intuition!"
   ]
  },
  {
   "cell_type": "code",
   "execution_count": 18,
   "metadata": {
    "ExecuteTime": {
     "end_time": "2018-10-09T17:39:08.914598Z",
     "start_time": "2018-10-09T17:39:08.884309Z"
    },
    "scrolled": false,
    "slideshow": {
     "slide_type": "fragment"
    }
   },
   "outputs": [
    {
     "data": {
      "text/html": [
       "<style  type=\"text/css\" >\n",
       "    #T_39e79726_cbea_11e8_ad29_9801a791dcdf th {\n",
       "          font-size: 30px;\n",
       "    }    #T_39e79726_cbea_11e8_ad29_9801a791dcdf td {\n",
       "          font-size: 30px;\n",
       "    }</style>  \n",
       "<table id=\"T_39e79726_cbea_11e8_ad29_9801a791dcdf\" > \n",
       "<thead>    <tr> \n",
       "        <th class=\"blank level0\" ></th> \n",
       "        <th class=\"col_heading level0 col0\" >doc1</th> \n",
       "        <th class=\"col_heading level0 col1\" >doc2</th> \n",
       "        <th class=\"col_heading level0 col2\" >doc3</th> \n",
       "    </tr></thead> \n",
       "<tbody>    <tr> \n",
       "        <th id=\"T_39e79726_cbea_11e8_ad29_9801a791dcdflevel0_row0\" class=\"row_heading level0 row0\" >doc1</th> \n",
       "        <td id=\"T_39e79726_cbea_11e8_ad29_9801a791dcdfrow0_col0\" class=\"data row0 col0\" >1</td> \n",
       "        <td id=\"T_39e79726_cbea_11e8_ad29_9801a791dcdfrow0_col1\" class=\"data row0 col1\" >0.431391</td> \n",
       "        <td id=\"T_39e79726_cbea_11e8_ad29_9801a791dcdfrow0_col2\" class=\"data row0 col2\" >0.275671</td> \n",
       "    </tr>    <tr> \n",
       "        <th id=\"T_39e79726_cbea_11e8_ad29_9801a791dcdflevel0_row1\" class=\"row_heading level0 row1\" >doc2</th> \n",
       "        <td id=\"T_39e79726_cbea_11e8_ad29_9801a791dcdfrow1_col0\" class=\"data row1 col0\" >0.431391</td> \n",
       "        <td id=\"T_39e79726_cbea_11e8_ad29_9801a791dcdfrow1_col1\" class=\"data row1 col1\" >1</td> \n",
       "        <td id=\"T_39e79726_cbea_11e8_ad29_9801a791dcdfrow1_col2\" class=\"data row1 col2\" >0.312305</td> \n",
       "    </tr>    <tr> \n",
       "        <th id=\"T_39e79726_cbea_11e8_ad29_9801a791dcdflevel0_row2\" class=\"row_heading level0 row2\" >doc3</th> \n",
       "        <td id=\"T_39e79726_cbea_11e8_ad29_9801a791dcdfrow2_col0\" class=\"data row2 col0\" >0.275671</td> \n",
       "        <td id=\"T_39e79726_cbea_11e8_ad29_9801a791dcdfrow2_col1\" class=\"data row2 col1\" >0.312305</td> \n",
       "        <td id=\"T_39e79726_cbea_11e8_ad29_9801a791dcdfrow2_col2\" class=\"data row2 col2\" >1</td> \n",
       "    </tr></tbody> \n",
       "</table> "
      ],
      "text/plain": [
       "<pandas.io.formats.style.Styler at 0x1163d5050>"
      ]
     },
     "execution_count": 18,
     "metadata": {},
     "output_type": "execute_result"
    }
   ],
   "source": [
    "display_doc_similarities(doc_ftxsim_index[[bow for bow in custom_background_tfidf]])"
   ]
  },
  {
   "cell_type": "markdown",
   "metadata": {
    "slideshow": {
     "slide_type": "slide"
    }
   },
   "source": [
    "\n",
    "# Question Clustering"
   ]
  },
  {
   "cell_type": "markdown",
   "metadata": {
    "slideshow": {
     "slide_type": "subslide"
    }
   },
   "source": [
    "Once we have document similarity scores, how do we choose what goes together? "
   ]
  },
  {
   "cell_type": "markdown",
   "metadata": {
    "slideshow": {
     "slide_type": "subslide"
    }
   },
   "source": [
    "Rank topics by popularity: \n",
    "\n",
    "$$\n",
    "\\begin{array}{r|l}\n",
    "                      & \\text{Pageview Score}\\\\\\hline\n",
    "\\textbf{doc1} & 10000 \\\\\n",
    "\\textbf{doc3} & 1000 \\\\\n",
    "\\textbf{doc2} & 10\n",
    "\\end{array}\n",
    "$$"
   ]
  },
  {
   "cell_type": "markdown",
   "metadata": {
    "slideshow": {
     "slide_type": "subslide"
    }
   },
   "source": [
    "Iterative Greedy Approach: \n",
    "\n",
    "$$\n",
    "\\begin{array}{r|l}\n",
    "                      & \\cos_{M_{w2v}}\\\\\\hline\n",
    "\\textbf{(doc1, doc2)} & 0.43940265 \\\\\n",
    "\\textbf{(doc1, doc3)} & 0.29319931 \\\\\n",
    "\\textbf{(doc2, doc3)} & 0.30979306\n",
    "\\end{array}\n",
    "$$\n",
    "\n",
    "* doc1 is the highest ranking so it gets first pick (doc2)\n",
    "* doc3 picks from whatever is left"
   ]
  },
  {
   "cell_type": "markdown",
   "metadata": {
    "slideshow": {
     "slide_type": "notes"
    }
   },
   "source": [
    "# Supervised Model"
   ]
  },
  {
   "cell_type": "markdown",
   "metadata": {
    "slideshow": {
     "slide_type": "notes"
    }
   },
   "source": [
    "## Model Setup\n",
    "$$\n",
    "\\begin{array}{r|llll}\n",
    "                   & \\cos_{M_{w2v}} & \\cos_{M_{ftx}} & \\cos_{M_{lev}} & \\textbf{label}\\\\\\hline\n",
    "\\textbf{doc1, doc2} & 0.55085301 & 0.64283401 & \\cdots & 1\\\\\n",
    "\\textbf{doc1, doc3} & 0.40678137 & 0.52912646 & \\cdots & 0 \\\\\n",
    "\\textbf{doc2, doc3} & 0.37607284 & 0.49222433 & \\cdots & 0\n",
    "\\end{array}\n",
    "$$\n",
    "\n",
    "- Train some standard regressors on selected features to obtain a final score\n",
    "- Leverage Human-in-the-Loop patterns to grow repository of training data"
   ]
  },
  {
   "cell_type": "markdown",
   "metadata": {
    "slideshow": {
     "slide_type": "slide"
    }
   },
   "source": [
    "# Deployment"
   ]
  },
  {
   "cell_type": "markdown",
   "metadata": {
    "slideshow": {
     "slide_type": "subslide"
    }
   },
   "source": [
    "* Docker\n",
    "* AWS ECR/ECS/S3\n",
    "* Airflow "
   ]
  },
  {
   "cell_type": "markdown",
   "metadata": {
    "slideshow": {
     "slide_type": "slide"
    }
   },
   "source": [
    "# Future Work"
   ]
  },
  {
   "cell_type": "markdown",
   "metadata": {
    "slideshow": {
     "slide_type": "subslide"
    }
   },
   "source": [
    "## Some Clusters... Need Improvement "
   ]
  },
  {
   "cell_type": "markdown",
   "metadata": {
    "ExecuteTime": {
     "end_time": "2018-10-08T17:30:59.710956Z",
     "start_time": "2018-10-08T17:30:59.700704Z"
    },
    "slideshow": {
     "slide_type": "fragment"
    }
   },
   "source": [
    "https://community.spiceworks.com/canonical_answer_pages/2563\n",
    "\n",
    "- New to Python: How do I stop script in an if statement?   \n",
    "- Build text message app\n",
    "- Need help with powershell script\n",
    "\n",
    "Sometimes rare topics or rare, unimportant words can flummox the algorithm. "
   ]
  },
  {
   "cell_type": "markdown",
   "metadata": {
    "slideshow": {
     "slide_type": "subslide"
    }
   },
   "source": [
    "## Some Clusters Rule"
   ]
  },
  {
   "cell_type": "markdown",
   "metadata": {
    "ExecuteTime": {
     "end_time": "2018-10-08T17:49:05.578380Z",
     "start_time": "2018-10-08T17:49:05.549732Z"
    },
    "slideshow": {
     "slide_type": "fragment"
    }
   },
   "source": [
    "https://community.spiceworks.com/canonical_answer_pages/5520\n",
    "\n",
    "- <Question> Radius Server + Fortigate + UNIFI AP \n",
    "- Radius and Wireless \n",
    "- Captive Portal or WPA? \n",
    "    \n",
    "(Cluster with highest engagement)"
   ]
  }
 ],
 "metadata": {
  "celltoolbar": "Slideshow",
  "hide_input": false,
  "kernelspec": {
   "display_name": "Python 2",
   "language": "python",
   "name": "python2"
  },
  "language_info": {
   "codemirror_mode": {
    "name": "ipython",
    "version": 2
   },
   "file_extension": ".py",
   "mimetype": "text/x-python",
   "name": "python",
   "nbconvert_exporter": "python",
   "pygments_lexer": "ipython2",
   "version": "2.7.13"
  },
  "latex_envs": {
   "LaTeX_envs_menu_present": true,
   "autoclose": false,
   "autocomplete": true,
   "bibliofile": "biblio.bib",
   "cite_by": "apalike",
   "current_citInitial": 1,
   "eqLabelWithNumbers": true,
   "eqNumInitial": 1,
   "hotkeys": {
    "equation": "Ctrl-E",
    "itemize": "Ctrl-I"
   },
   "labels_anchors": false,
   "latex_user_defs": false,
   "report_style_numbering": false,
   "user_envs_cfg": false
  },
  "livereveal": {
   "scroll": true
  }
 },
 "nbformat": 4,
 "nbformat_minor": 2
}
