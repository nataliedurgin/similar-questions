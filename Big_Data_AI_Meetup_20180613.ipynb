{
 "cells": [
  {
   "cell_type": "markdown",
   "metadata": {
    "slideshow": {
     "slide_type": "slide"
    }
   },
   "source": [
    "\n",
    "# Grouping Similar Questions\n",
    "<img src=\"images/SpiceworksLogo.png\" width=\"300px\" style=\"float: right;\"/>\n",
    "\n",
    "#### Spiceworks Data Science\n",
    "\n",
    "\n",
    "##### Natalie Durgin\n",
    "\n"
   ]
  },
  {
   "cell_type": "markdown",
   "metadata": {
    "slideshow": {
     "slide_type": "subslide"
    }
   },
   "source": [
    "Notebook: https://github.com/nataliedurgin/similar-questions"
   ]
  },
  {
   "cell_type": "markdown",
   "metadata": {
    "slideshow": {
     "slide_type": "subslide"
    }
   },
   "source": [
    "## Community Question Answering"
   ]
  },
  {
   "cell_type": "markdown",
   "metadata": {
    "slideshow": {
     "slide_type": "subslide"
    }
   },
   "source": [
    "#### Example Document 1\n",
    "\n",
    "- **URL**: https://community.spiceworks.com/topic/328118\n",
    "- **Subject**: need to unlock a password protected Excel 2010 workbook\n",
    "- **Body**: I have a user who had forgotten the password for an Excel 2010 file.  She cannot open it.  I tried changing the name to a zip file and opening the workbook file with an xml editor, but I can't get a readable format to come up so I can see the line of text with the password (so I can delete it).  What I'm getting is this gobbledy-gook: ºʝZܡ M/ؽ(+蝤¤7"
   ]
  },
  {
   "cell_type": "markdown",
   "metadata": {
    "slideshow": {
     "slide_type": "subslide"
    }
   },
   "source": [
    "#### Example Document 2\n",
    "\n",
    "- **URL**: https://community.spiceworks.com/topic/1766186\n",
    "- **Subject**: Password protected Excel 2016 spreadsheet---user forgot password!\n",
    "- **Body**: Face palm time.  A user has forgotten their password to an Excel 2016 spreadsheet. Anybody have any slick tool that will at least let them open in read-only mode?  Something to bust through the password would be excellent."
   ]
  },
  {
   "cell_type": "markdown",
   "metadata": {
    "slideshow": {
     "slide_type": "subslide"
    }
   },
   "source": [
    "##### 2017 Survey\n",
    "<a href= \"https://arxiv.org/abs/1705.04009\">A survey of Community Question Answering </a>\n",
    "\n",
    "##### Main Reference\n",
    "<a href= \"http://www.aclweb.org/anthology/S17-2051\"> SimBow at SemEval-2017 Task 3: Soft-Cosine Semantic Similarity between Questions for Community Question Answering </a>\n",
    "\n",
    "##### Gensim Softcosine \n",
    "https://github.com/RaRe-Technologies/gensim/blob/develop/docs/notebooks/soft_cosine_tutorial.ipynb"
   ]
  },
  {
   "cell_type": "markdown",
   "metadata": {
    "slideshow": {
     "slide_type": "subslide"
    }
   },
   "source": [
    "#### Example Document 3\n",
    "\n",
    "- **URL**: https://community.spiceworks.com/topic/1984626\n",
    "- **Subject**: How secure are password protected Excel files?\n",
    "- **Body**: Once in a while if we need to send credentials to a third party we will use password protected Excel files sent via secure email (third party service where they have to login to see the email). I'm curious if the Excel file is secure enough by itself? Based on this info it looks like the default for Excel 2016 will be AES 256, which should be effectively secure at least against a brute force attack. \\__url\\__ \"Lets you configure the CNG cipher algorithm that is used. The default is AES.\" \" Lets you configure the number of bits to use when you create the cipher key. The default is 256 bits.\""
   ]
  },
  {
   "cell_type": "markdown",
   "metadata": {
    "slideshow": {
     "slide_type": "slide"
    }
   },
   "source": [
    "# Preprocessing"
   ]
  },
  {
   "cell_type": "markdown",
   "metadata": {
    "slideshow": {
     "slide_type": "subslide"
    }
   },
   "source": [
    "**Word**, **Term**, **Token** := Collection of characters \n",
    "\n",
    "**Document** := Collection of words\n",
    "\n",
    "**Corpus** := Collection of documents\n",
    "\n",
    "**Vocabulary** := Collection of distinct terms that appear in a corpus\n",
    "\n",
    "Allowable collections depend upon preprocessing choices"
   ]
  },
  {
   "cell_type": "markdown",
   "metadata": {
    "slideshow": {
     "slide_type": "subslide"
    }
   },
   "source": [
    "## Preprocessing the Example Documents\n",
    "\n",
    "We choose to concatenate subject and body "
   ]
  },
  {
   "cell_type": "code",
   "execution_count": 225,
   "metadata": {
    "ExecuteTime": {
     "end_time": "2018-06-13T17:01:27.139295Z",
     "start_time": "2018-06-13T17:01:27.129269Z"
    },
    "slideshow": {
     "slide_type": "fragment"
    }
   },
   "outputs": [
    {
     "data": {
      "text/plain": [
       "'need to unlock a password protected Excel 2010 workbook <p>I have a user who had forgotten the password for an Excel 2010 file.&nbsp; She cannot open it.&nbsp; I tried changing the name to a zip file and opening the workbook file with an xml editor, but I can&#39;t get a readable format to come up so I can see the line of text with the password (so I can delete it).&nbsp; What I&#39;m getting is this gobbledy-gook:</p><p>\\xc2\\xba\\xca\\x9d\\xc2\\x99Z\\xdc\\xa1 \\xc2\\x84M/\\xd8\\xbd(+\\xe8\\x9d\\xa4\\xc2\\xa47</p>'"
      ]
     },
     "execution_count": 225,
     "metadata": {},
     "output_type": "execute_result"
    }
   ],
   "source": [
    "doc1 = \"\"\"need to unlock a password protected Excel 2010 workbook <p>I have a user who had forgotten the password for an Excel 2010 file.&nbsp; She cannot open it.&nbsp; I tried changing the name to a zip file and opening the workbook file with an xml editor, but I can&#39;t get a readable format to come up so I can see the line of text with the password (so I can delete it).&nbsp; What I&#39;m getting is this gobbledy-gook:</p><p>ºʝZܡ M/ؽ(+蝤¤7</p>\"\"\"\n",
    "doc2 = \"\"\"Password protected Excel 2016 spreadsheet---user forgot password! <p>Face palm time.  A user has forgotten their password to an Excel 2016 spreadsheet.<br><br>Anybody have any slick tool that will at least let them open in read-only mode?  Something to bust through the password would be excellent.</p>\"\"\"\n",
    "doc3 = \"\"\"How secure are password protected Excel files? <p>Once in a while if we need to send credentials to a third party we will use password protected Excel files sent via secure email (third party service where they have to login to see the email).<br><br></p><div>I'm curious if the Excel file is secure enough by itself? Based on this info it looks like the default for Excel 2016 will be AES 256, which should be effectively secure at least against a brute force attack.<div><a href=\"https://technet.microsoft.com/en-us/library/cc179125%28v=office.16%29.aspx?f=255&amp;MSPPError=-2147217396\">https://technet.microsoft.com/en-us/library/cc179125%28v=office.16%29.aspx?f=255&amp;MSPPError=-2147...</a><br></div><div><ul><li><i>\"Lets you configure the CNG cipher algorithm that is used. </i><b><i>The default is AES</i></b><i>.\"</i></li><li><i>\"Lets you configure the number of bits to use when you create the cipher key. </i><b><i>The default is 256 bits</i></b><i>.\"</i></li></ul></div> </div>\"\"\"\n",
    "docs = [doc1, doc2, doc3]\n",
    "doc1"
   ]
  },
  {
   "cell_type": "markdown",
   "metadata": {
    "slideshow": {
     "slide_type": "subslide"
    }
   },
   "source": [
    "- Do you keep punctuation?\n",
    "- Do you preserve letter case?\n",
    "- Do you remove stopwords? \n",
    "- Do you impose minimum word frequencies? \n",
    "- Do you stem tokens?\n",
    "\n",
    "Results can be sensitive to these choices to varying extents. These choices will likely be different for each corpus and application. "
   ]
  },
  {
   "cell_type": "markdown",
   "metadata": {
    "slideshow": {
     "slide_type": "subslide"
    }
   },
   "source": [
    "## Gensim Default Preprocessing"
   ]
  },
  {
   "cell_type": "code",
   "execution_count": 226,
   "metadata": {
    "ExecuteTime": {
     "end_time": "2018-06-13T17:01:27.155186Z",
     "start_time": "2018-06-13T17:01:27.143717Z"
    },
    "code_folding": [
     5
    ],
    "slideshow": {
     "slide_type": "fragment"
    }
   },
   "outputs": [],
   "source": [
    "import os\n",
    "import gensim\n",
    "DATA_DIR = 'data'\n",
    "\n",
    "# Helper IO Function\n",
    "def list2txt(doc_list, filename):\n",
    "    filepath = os.path.join(DATA_DIR, filename)\n",
    "    outfile = open(filepath, 'w')\n",
    "    outfile.write(\"\\n\".join(doc_list))\n",
    "    return filepath\n",
    "\n",
    "default_target_corpus = gensim.corpora.TextCorpus(list2txt(docs, 'raw.txt'))"
   ]
  },
  {
   "cell_type": "code",
   "execution_count": 227,
   "metadata": {
    "ExecuteTime": {
     "end_time": "2018-06-13T17:01:27.173444Z",
     "start_time": "2018-06-13T17:01:27.159481Z"
    },
    "slideshow": {
     "slide_type": "subslide"
    }
   },
   "outputs": [
    {
     "data": {
      "text/plain": [
       "{0: u'changing',\n",
       " 1: u'come',\n",
       " 2: u'delete',\n",
       " 3: u'editor',\n",
       " 4: u'excel',\n",
       " 5: u'file',\n",
       " 6: u'forgotten',\n",
       " 7: u'format',\n",
       " 8: u'getting',\n",
       " 9: u'gobbledy',\n",
       " 10: u'gook',\n",
       " 11: u'line',\n",
       " 12: u'nbsp',\n",
       " 13: u'need',\n",
       " 14: u'open',\n",
       " 15: u'opening',\n",
       " 16: u'password',\n",
       " 17: u'protected',\n",
       " 18: u'readable',\n",
       " 19: u'text',\n",
       " 20: u'tried',\n",
       " 21: u'unlock',\n",
       " 22: u'user',\n",
       " 23: u'workbook',\n",
       " 24: u'xml',\n",
       " 25: u'zip',\n",
       " 26: u'anybody',\n",
       " 27: u'bust',\n",
       " 28: u'excellent',\n",
       " 29: u'face',\n",
       " 30: u'forgot',\n",
       " 31: u'let',\n",
       " 32: u'mode',\n",
       " 33: u'palm',\n",
       " 34: u'read',\n",
       " 35: u'slick',\n",
       " 36: u'spreadsheet',\n",
       " 37: u'time',\n",
       " 38: u'tool',\n",
       " 39: u'aes',\n",
       " 40: u'algorithm',\n",
       " 41: u'amp',\n",
       " 42: u'aspx',\n",
       " 43: u'attack',\n",
       " 44: u'based',\n",
       " 45: u'bits',\n",
       " 46: u'brute',\n",
       " 47: u'cipher',\n",
       " 48: u'cng',\n",
       " 49: u'com',\n",
       " 50: u'configure',\n",
       " 51: u'create',\n",
       " 52: u'credentials',\n",
       " 53: u'curious',\n",
       " 54: u'default',\n",
       " 55: u'div',\n",
       " 56: u'effectively',\n",
       " 57: u'email',\n",
       " 58: u'files',\n",
       " 59: u'force',\n",
       " 60: u'href',\n",
       " 61: u'https',\n",
       " 62: u'info',\n",
       " 63: u'key',\n",
       " 64: u'lets',\n",
       " 65: u'library',\n",
       " 66: u'like',\n",
       " 67: u'login',\n",
       " 68: u'looks',\n",
       " 69: u'microsoft',\n",
       " 70: u'mspperror',\n",
       " 71: u'number',\n",
       " 72: u'office',\n",
       " 73: u'party',\n",
       " 74: u'secure',\n",
       " 75: u'send',\n",
       " 76: u'sent',\n",
       " 77: u'service',\n",
       " 78: u'technet',\n",
       " 79: u'use'}"
      ]
     },
     "execution_count": 227,
     "metadata": {},
     "output_type": "execute_result"
    }
   ],
   "source": [
    "default_target_corpus.dictionary.items()\n",
    "default_target_corpus.dictionary.id2token"
   ]
  },
  {
   "cell_type": "markdown",
   "metadata": {
    "slideshow": {
     "slide_type": "notes"
    }
   },
   "source": [
    "Default preprocessing gotchas:\n",
    "- Filters out words shorter than three characters (e.g. IT, MS, IP, 64, GB, PC, sw etc.)\n",
    "- Aggressive stopword list? \n",
    "- No numbers? (2010, v0.1 etc.)"
   ]
  },
  {
   "cell_type": "markdown",
   "metadata": {
    "slideshow": {
     "slide_type": "subslide"
    }
   },
   "source": [
    "## Custom Preprocessing"
   ]
  },
  {
   "cell_type": "code",
   "execution_count": 228,
   "metadata": {
    "ExecuteTime": {
     "end_time": "2018-06-13T17:01:27.205290Z",
     "start_time": "2018-06-13T17:01:27.177843Z"
    },
    "code_folding": [
     7,
     16,
     24,
     27,
     34,
     53
    ],
    "hide_input": false,
    "slideshow": {
     "slide_type": "subslide"
    }
   },
   "outputs": [],
   "source": [
    "import re # python regular expression library\n",
    "import bs4 # python html parsing library \"beautiful soup\" \n",
    "\n",
    "# Sample custom preprocessing sequence\n",
    "DELIMITER_PATTERN = u'[!?,;:\\t\\\\\\\\\"\\\\(\\\\)\\\\\\'\\u2026\\u201c\\u2013\\u2019\\u2026\\n]|\\\\s\\\\-\\\\s|\\.\\s'\n",
    "TOKEN_PATTERN = r'(?u)[\\_][a-zA-Z0-9\\_]*|[a-zA-Z0-9][a-zA-Z0-9.]*\\b'\n",
    "\n",
    "def html_parser(html):\n",
    "    try:\n",
    "        html = re.sub(r\"<img.*?>\", \" __img__ \", html)\n",
    "        html = re.sub(r\"< .*?/a>\", \" __url__ \", html)\n",
    "        soup = bs4.BeautifulSoup(html, \"html.parser\")\n",
    "        for br in soup.find_all(\"br\"):\n",
    "            br.replace_with(\"\\n\")\n",
    "        return soup.get_text()\n",
    "    except:  \n",
    "        return ''\n",
    "    \n",
    "def split_sentences(doc):\n",
    "    try:\n",
    "        delimiters = re.compile(DELIMITER_PATTERN)\n",
    "        sentences = delimiters.split(doc)\n",
    "        return sentences\n",
    "    except:\n",
    "        return []\n",
    "\n",
    "def tokenizer(sentence, token_pattern=TOKEN_PATTERN, lowercase=True):\n",
    "    try:\n",
    "        token_pattern = re.compile(token_pattern)\n",
    "        if lowercase:\n",
    "            sentence = sentence.lower()\n",
    "        return token_pattern.findall(sentence)\n",
    "\n",
    "    except:\n",
    "        return []\n",
    "\n",
    "def clean_text(html, lowercase=True):\n",
    "    text = html_parser(html)\n",
    "    if lowercase:\n",
    "        text = text.lower()\n",
    "\n",
    "    sents = split_sentences(text)\n",
    "    sents = [' '.join(tokenizer(sent, lowercase=lowercase)) for sent in sents]\n",
    "    try:\n",
    "        sents = map(lambda x: x.strip(), sents)\n",
    "    except:\n",
    "        pass\n",
    "    try:\n",
    "        sents = [sent for sent in sents if len(sent) > 0]\n",
    "    except:\n",
    "        pass\n",
    "    return ' '.join(sents)"
   ]
  },
  {
   "cell_type": "code",
   "execution_count": 229,
   "metadata": {
    "ExecuteTime": {
     "end_time": "2018-06-13T17:01:27.217790Z",
     "start_time": "2018-06-13T17:01:27.209318Z"
    },
    "slideshow": {
     "slide_type": "subslide"
    }
   },
   "outputs": [
    {
     "data": {
      "text/plain": [
       "'How secure are password protected Excel files? <p>Once in a while if we need to send credentials to a third party we will use password protected Excel files sent via secure email (third party service where they have to login to see the email).<br><br></p><div>I\\'m curious if the Excel file is secure enough by itself? Based on this info it looks like the default for Excel 2016 will be AES 256, which should be effectively secure at least against a brute force attack.<div><a href=\"https://technet.microsoft.com/en-us/library/cc179125%28v=office.16%29.aspx?f=255&amp;MSPPError=-2147217396\">https://technet.microsoft.com/en-us/library/cc179125%28v=office.16%29.aspx?f=255&amp;MSPPError=-2147...</a><br></div><div><ul><li><i>\"Lets you configure the CNG cipher algorithm that is used. </i><b><i>The default is AES</i></b><i>.\"</i></li><li><i>\"Lets you configure the number of bits to use when you create the cipher key. </i><b><i>The default is 256 bits</i></b><i>.\"</i></li></ul></div>\\xc2\\xa0</div>'"
      ]
     },
     "execution_count": 229,
     "metadata": {},
     "output_type": "execute_result"
    }
   ],
   "source": [
    "doc3"
   ]
  },
  {
   "cell_type": "code",
   "execution_count": 230,
   "metadata": {
    "ExecuteTime": {
     "end_time": "2018-06-13T17:01:27.260032Z",
     "start_time": "2018-06-13T17:01:27.220774Z"
    },
    "slideshow": {
     "slide_type": "fragment"
    }
   },
   "outputs": [
    {
     "data": {
      "text/plain": [
       "u'how secure are password protected excel files once in a while if we need to send credentials to a third party we will use password protected excel files sent via secure email third party service where they have to login to see the email i m curious if the excel file is secure enough by itself based on this info it looks like the default for excel 2016 will be aes 256 which should be effectively secure at least against a brute force attack.https technet.microsoft.com en us library cc179125 28v office.16 29.aspx f 255 mspperror 2147 lets you configure the cng cipher algorithm that is used the default is aes lets you configure the number of bits to use when you create the cipher key the default is 256 bits'"
      ]
     },
     "execution_count": 230,
     "metadata": {},
     "output_type": "execute_result"
    }
   ],
   "source": [
    "clean_text(doc3)"
   ]
  },
  {
   "cell_type": "code",
   "execution_count": 231,
   "metadata": {
    "ExecuteTime": {
     "end_time": "2018-06-13T17:01:27.309272Z",
     "start_time": "2018-06-13T17:01:27.264561Z"
    },
    "slideshow": {
     "slide_type": "subslide"
    }
   },
   "outputs": [],
   "source": [
    "# Subclass gensim TextCorpus object to apply custom preprocesing\n",
    "# Preprocessing functions need to be efficient if performance is a concern!\n",
    "class CustomTextCorpus(gensim.corpora.TextCorpus):\n",
    "  def get_texts(self):\n",
    "    for doc in self.getstream():\n",
    "        yield [word for word in clean_text(doc).split()]\n",
    "  def __len__(self): \n",
    "    self.length = sum(1 for _ in self.get_texts())\n",
    "    return self.length\n",
    "\n",
    "preprocessed_docs = [clean_text(doc) for doc in docs]\n",
    "custom_target_corpus = CustomTextCorpus(list2txt(preprocessed_docs, 'preprocessed.txt'))"
   ]
  },
  {
   "cell_type": "code",
   "execution_count": 232,
   "metadata": {
    "ExecuteTime": {
     "end_time": "2018-06-13T17:01:27.331254Z",
     "start_time": "2018-06-13T17:01:27.313705Z"
    },
    "slideshow": {
     "slide_type": "subslide"
    }
   },
   "outputs": [
    {
     "data": {
      "text/plain": [
       "{0: u'2010',\n",
       " 1: u'7',\n",
       " 2: u'a',\n",
       " 3: u'an',\n",
       " 4: u'and',\n",
       " 5: u'but',\n",
       " 6: u'can',\n",
       " 7: u'cannot',\n",
       " 8: u'changing',\n",
       " 9: u'come',\n",
       " 10: u'delete',\n",
       " 11: u'editor',\n",
       " 12: u'excel',\n",
       " 13: u'file',\n",
       " 14: u'for',\n",
       " 15: u'forgotten',\n",
       " 16: u'format',\n",
       " 17: u'get',\n",
       " 18: u'getting',\n",
       " 19: u'gobbledy',\n",
       " 20: u'gook',\n",
       " 21: u'had',\n",
       " 22: u'have',\n",
       " 23: u'i',\n",
       " 24: u'is',\n",
       " 25: u'it',\n",
       " 26: u'line',\n",
       " 27: u'm',\n",
       " 28: u'name',\n",
       " 29: u'need',\n",
       " 30: u'of',\n",
       " 31: u'open',\n",
       " 32: u'opening',\n",
       " 33: u'password',\n",
       " 34: u'protected',\n",
       " 35: u'readable',\n",
       " 36: u'see',\n",
       " 37: u'she',\n",
       " 38: u'so',\n",
       " 39: u't',\n",
       " 40: u'text',\n",
       " 41: u'the',\n",
       " 42: u'this',\n",
       " 43: u'to',\n",
       " 44: u'tried',\n",
       " 45: u'unlock',\n",
       " 46: u'up',\n",
       " 47: u'user',\n",
       " 48: u'what',\n",
       " 49: u'who',\n",
       " 50: u'with',\n",
       " 51: u'workbook',\n",
       " 52: u'xml',\n",
       " 53: u'zip',\n",
       " 54: u'2016',\n",
       " 55: u'any',\n",
       " 56: u'anybody',\n",
       " 57: u'at',\n",
       " 58: u'be',\n",
       " 59: u'bust',\n",
       " 60: u'excellent',\n",
       " 61: u'face',\n",
       " 62: u'forgot',\n",
       " 63: u'has',\n",
       " 64: u'in',\n",
       " 65: u'least',\n",
       " 66: u'let',\n",
       " 67: u'mode',\n",
       " 68: u'only',\n",
       " 69: u'palm',\n",
       " 70: u'read',\n",
       " 71: u'slick',\n",
       " 72: u'something',\n",
       " 73: u'spreadsheet',\n",
       " 74: u'that',\n",
       " 75: u'their',\n",
       " 76: u'them',\n",
       " 77: u'through',\n",
       " 78: u'time',\n",
       " 79: u'tool',\n",
       " 80: u'will',\n",
       " 81: u'would',\n",
       " 82: u'2147',\n",
       " 83: u'255',\n",
       " 84: u'256',\n",
       " 85: u'28v',\n",
       " 86: u'29.aspx',\n",
       " 87: u'aes',\n",
       " 88: u'against',\n",
       " 89: u'algorithm',\n",
       " 90: u'are',\n",
       " 91: u'attack.https',\n",
       " 92: u'based',\n",
       " 93: u'bits',\n",
       " 94: u'brute',\n",
       " 95: u'by',\n",
       " 96: u'cc179125',\n",
       " 97: u'cipher',\n",
       " 98: u'cng',\n",
       " 99: u'configure',\n",
       " 100: u'create',\n",
       " 101: u'credentials',\n",
       " 102: u'curious',\n",
       " 103: u'default',\n",
       " 104: u'effectively',\n",
       " 105: u'email',\n",
       " 106: u'en',\n",
       " 107: u'enough',\n",
       " 108: u'f',\n",
       " 109: u'files',\n",
       " 110: u'force',\n",
       " 111: u'how',\n",
       " 112: u'if',\n",
       " 113: u'info',\n",
       " 114: u'itself',\n",
       " 115: u'key',\n",
       " 116: u'lets',\n",
       " 117: u'library',\n",
       " 118: u'like',\n",
       " 119: u'login',\n",
       " 120: u'looks',\n",
       " 121: u'mspperror',\n",
       " 122: u'number',\n",
       " 123: u'office.16',\n",
       " 124: u'on',\n",
       " 125: u'once',\n",
       " 126: u'party',\n",
       " 127: u'secure',\n",
       " 128: u'send',\n",
       " 129: u'sent',\n",
       " 130: u'service',\n",
       " 131: u'should',\n",
       " 132: u'technet.microsoft.com',\n",
       " 133: u'they',\n",
       " 134: u'third',\n",
       " 135: u'us',\n",
       " 136: u'use',\n",
       " 137: u'used',\n",
       " 138: u'via',\n",
       " 139: u'we',\n",
       " 140: u'when',\n",
       " 141: u'where',\n",
       " 142: u'which',\n",
       " 143: u'while',\n",
       " 144: u'you'}"
      ]
     },
     "execution_count": 232,
     "metadata": {},
     "output_type": "execute_result"
    }
   ],
   "source": [
    "custom_target_corpus.dictionary.items()\n",
    "custom_target_corpus.dictionary.id2token"
   ]
  },
  {
   "cell_type": "markdown",
   "metadata": {
    "heading_collapsed": true,
    "slideshow": {
     "slide_type": "slide"
    }
   },
   "source": [
    "# Documents and their Vector Space Representations"
   ]
  },
  {
   "cell_type": "markdown",
   "metadata": {
    "slideshow": {
     "slide_type": "subslide"
    }
   },
   "source": [
    "## Word Count Vectors"
   ]
  },
  {
   "cell_type": "markdown",
   "metadata": {
    "slideshow": {
     "slide_type": "fragment"
    }
   },
   "source": [
    "A gensim corpus object is an iterable of list of (int, num)"
   ]
  },
  {
   "cell_type": "code",
   "execution_count": 233,
   "metadata": {
    "ExecuteTime": {
     "end_time": "2018-06-13T17:01:27.353713Z",
     "start_time": "2018-06-13T17:01:27.336324Z"
    },
    "slideshow": {
     "slide_type": "fragment"
    }
   },
   "outputs": [
    {
     "data": {
      "text/plain": [
       "[(4, 2),\n",
       " (6, 1),\n",
       " (14, 1),\n",
       " (16, 4),\n",
       " (17, 1),\n",
       " (22, 2),\n",
       " (26, 1),\n",
       " (27, 1),\n",
       " (28, 1),\n",
       " (29, 1),\n",
       " (30, 1),\n",
       " (31, 1),\n",
       " (32, 1),\n",
       " (33, 1),\n",
       " (34, 1),\n",
       " (35, 1),\n",
       " (36, 2),\n",
       " (37, 1),\n",
       " (38, 1)]"
      ]
     },
     "execution_count": 233,
     "metadata": {},
     "output_type": "execute_result"
    }
   ],
   "source": [
    "TARGET_CORPUS = default_target_corpus\n",
    "doc_vectors = [word_count_vector for word_count_vector in TARGET_CORPUS]\n",
    "doc_vector = doc_vectors[1]\n",
    "doc_vector"
   ]
  },
  {
   "cell_type": "code",
   "execution_count": 234,
   "metadata": {
    "ExecuteTime": {
     "end_time": "2018-06-13T17:01:27.364727Z",
     "start_time": "2018-06-13T17:01:27.358053Z"
    },
    "slideshow": {
     "slide_type": "skip"
    }
   },
   "outputs": [],
   "source": [
    "# Make Pandas dataframe preview font larger\n",
    "# Set CSS properties for th elements in dataframe\n",
    "# Set CSS properties for td elements in dataframe\n",
    "# Set table display styles\n",
    "styles = [\n",
    "  dict(selector=\"th\", props=[('font-size', '30px')]),\n",
    "  dict(selector=\"td\", props=[('font-size','30px')])\n",
    "  ]"
   ]
  },
  {
   "cell_type": "code",
   "execution_count": 235,
   "metadata": {
    "ExecuteTime": {
     "end_time": "2018-06-13T17:01:27.387285Z",
     "start_time": "2018-06-13T17:01:27.369145Z"
    },
    "slideshow": {
     "slide_type": "subslide"
    }
   },
   "outputs": [
    {
     "data": {
      "text/html": [
       "<style  type=\"text/css\" >\n",
       "    #T_692e8451_6f2b_11e8_96ce_9801a791dcdf th {\n",
       "          font-size: 30px;\n",
       "    }    #T_692e8451_6f2b_11e8_96ce_9801a791dcdf td {\n",
       "          font-size: 30px;\n",
       "    }</style>  \n",
       "<table id=\"T_692e8451_6f2b_11e8_96ce_9801a791dcdf\" > \n",
       "<thead>    <tr> \n",
       "        <th class=\"blank level0\" ></th> \n",
       "        <th class=\"col_heading level0 col0\" >vocab_index</th> \n",
       "        <th class=\"col_heading level0 col1\" >word_count</th> \n",
       "        <th class=\"col_heading level0 col2\" >token</th> \n",
       "    </tr></thead> \n",
       "<tbody>    <tr> \n",
       "        <th id=\"T_692e8451_6f2b_11e8_96ce_9801a791dcdflevel0_row0\" class=\"row_heading level0 row0\" >0</th> \n",
       "        <td id=\"T_692e8451_6f2b_11e8_96ce_9801a791dcdfrow0_col0\" class=\"data row0 col0\" >4</td> \n",
       "        <td id=\"T_692e8451_6f2b_11e8_96ce_9801a791dcdfrow0_col1\" class=\"data row0 col1\" >2</td> \n",
       "        <td id=\"T_692e8451_6f2b_11e8_96ce_9801a791dcdfrow0_col2\" class=\"data row0 col2\" >excel</td> \n",
       "    </tr>    <tr> \n",
       "        <th id=\"T_692e8451_6f2b_11e8_96ce_9801a791dcdflevel0_row1\" class=\"row_heading level0 row1\" >1</th> \n",
       "        <td id=\"T_692e8451_6f2b_11e8_96ce_9801a791dcdfrow1_col0\" class=\"data row1 col0\" >6</td> \n",
       "        <td id=\"T_692e8451_6f2b_11e8_96ce_9801a791dcdfrow1_col1\" class=\"data row1 col1\" >1</td> \n",
       "        <td id=\"T_692e8451_6f2b_11e8_96ce_9801a791dcdfrow1_col2\" class=\"data row1 col2\" >forgotten</td> \n",
       "    </tr>    <tr> \n",
       "        <th id=\"T_692e8451_6f2b_11e8_96ce_9801a791dcdflevel0_row2\" class=\"row_heading level0 row2\" >2</th> \n",
       "        <td id=\"T_692e8451_6f2b_11e8_96ce_9801a791dcdfrow2_col0\" class=\"data row2 col0\" >14</td> \n",
       "        <td id=\"T_692e8451_6f2b_11e8_96ce_9801a791dcdfrow2_col1\" class=\"data row2 col1\" >1</td> \n",
       "        <td id=\"T_692e8451_6f2b_11e8_96ce_9801a791dcdfrow2_col2\" class=\"data row2 col2\" >open</td> \n",
       "    </tr>    <tr> \n",
       "        <th id=\"T_692e8451_6f2b_11e8_96ce_9801a791dcdflevel0_row3\" class=\"row_heading level0 row3\" >3</th> \n",
       "        <td id=\"T_692e8451_6f2b_11e8_96ce_9801a791dcdfrow3_col0\" class=\"data row3 col0\" >16</td> \n",
       "        <td id=\"T_692e8451_6f2b_11e8_96ce_9801a791dcdfrow3_col1\" class=\"data row3 col1\" >4</td> \n",
       "        <td id=\"T_692e8451_6f2b_11e8_96ce_9801a791dcdfrow3_col2\" class=\"data row3 col2\" >password</td> \n",
       "    </tr>    <tr> \n",
       "        <th id=\"T_692e8451_6f2b_11e8_96ce_9801a791dcdflevel0_row4\" class=\"row_heading level0 row4\" >4</th> \n",
       "        <td id=\"T_692e8451_6f2b_11e8_96ce_9801a791dcdfrow4_col0\" class=\"data row4 col0\" >17</td> \n",
       "        <td id=\"T_692e8451_6f2b_11e8_96ce_9801a791dcdfrow4_col1\" class=\"data row4 col1\" >1</td> \n",
       "        <td id=\"T_692e8451_6f2b_11e8_96ce_9801a791dcdfrow4_col2\" class=\"data row4 col2\" >protected</td> \n",
       "    </tr>    <tr> \n",
       "        <th id=\"T_692e8451_6f2b_11e8_96ce_9801a791dcdflevel0_row5\" class=\"row_heading level0 row5\" >5</th> \n",
       "        <td id=\"T_692e8451_6f2b_11e8_96ce_9801a791dcdfrow5_col0\" class=\"data row5 col0\" >22</td> \n",
       "        <td id=\"T_692e8451_6f2b_11e8_96ce_9801a791dcdfrow5_col1\" class=\"data row5 col1\" >2</td> \n",
       "        <td id=\"T_692e8451_6f2b_11e8_96ce_9801a791dcdfrow5_col2\" class=\"data row5 col2\" >user</td> \n",
       "    </tr>    <tr> \n",
       "        <th id=\"T_692e8451_6f2b_11e8_96ce_9801a791dcdflevel0_row6\" class=\"row_heading level0 row6\" >6</th> \n",
       "        <td id=\"T_692e8451_6f2b_11e8_96ce_9801a791dcdfrow6_col0\" class=\"data row6 col0\" >26</td> \n",
       "        <td id=\"T_692e8451_6f2b_11e8_96ce_9801a791dcdfrow6_col1\" class=\"data row6 col1\" >1</td> \n",
       "        <td id=\"T_692e8451_6f2b_11e8_96ce_9801a791dcdfrow6_col2\" class=\"data row6 col2\" >anybody</td> \n",
       "    </tr>    <tr> \n",
       "        <th id=\"T_692e8451_6f2b_11e8_96ce_9801a791dcdflevel0_row7\" class=\"row_heading level0 row7\" >7</th> \n",
       "        <td id=\"T_692e8451_6f2b_11e8_96ce_9801a791dcdfrow7_col0\" class=\"data row7 col0\" >27</td> \n",
       "        <td id=\"T_692e8451_6f2b_11e8_96ce_9801a791dcdfrow7_col1\" class=\"data row7 col1\" >1</td> \n",
       "        <td id=\"T_692e8451_6f2b_11e8_96ce_9801a791dcdfrow7_col2\" class=\"data row7 col2\" >bust</td> \n",
       "    </tr>    <tr> \n",
       "        <th id=\"T_692e8451_6f2b_11e8_96ce_9801a791dcdflevel0_row8\" class=\"row_heading level0 row8\" >8</th> \n",
       "        <td id=\"T_692e8451_6f2b_11e8_96ce_9801a791dcdfrow8_col0\" class=\"data row8 col0\" >28</td> \n",
       "        <td id=\"T_692e8451_6f2b_11e8_96ce_9801a791dcdfrow8_col1\" class=\"data row8 col1\" >1</td> \n",
       "        <td id=\"T_692e8451_6f2b_11e8_96ce_9801a791dcdfrow8_col2\" class=\"data row8 col2\" >excellent</td> \n",
       "    </tr>    <tr> \n",
       "        <th id=\"T_692e8451_6f2b_11e8_96ce_9801a791dcdflevel0_row9\" class=\"row_heading level0 row9\" >9</th> \n",
       "        <td id=\"T_692e8451_6f2b_11e8_96ce_9801a791dcdfrow9_col0\" class=\"data row9 col0\" >29</td> \n",
       "        <td id=\"T_692e8451_6f2b_11e8_96ce_9801a791dcdfrow9_col1\" class=\"data row9 col1\" >1</td> \n",
       "        <td id=\"T_692e8451_6f2b_11e8_96ce_9801a791dcdfrow9_col2\" class=\"data row9 col2\" >face</td> \n",
       "    </tr>    <tr> \n",
       "        <th id=\"T_692e8451_6f2b_11e8_96ce_9801a791dcdflevel0_row10\" class=\"row_heading level0 row10\" >10</th> \n",
       "        <td id=\"T_692e8451_6f2b_11e8_96ce_9801a791dcdfrow10_col0\" class=\"data row10 col0\" >30</td> \n",
       "        <td id=\"T_692e8451_6f2b_11e8_96ce_9801a791dcdfrow10_col1\" class=\"data row10 col1\" >1</td> \n",
       "        <td id=\"T_692e8451_6f2b_11e8_96ce_9801a791dcdfrow10_col2\" class=\"data row10 col2\" >forgot</td> \n",
       "    </tr>    <tr> \n",
       "        <th id=\"T_692e8451_6f2b_11e8_96ce_9801a791dcdflevel0_row11\" class=\"row_heading level0 row11\" >11</th> \n",
       "        <td id=\"T_692e8451_6f2b_11e8_96ce_9801a791dcdfrow11_col0\" class=\"data row11 col0\" >31</td> \n",
       "        <td id=\"T_692e8451_6f2b_11e8_96ce_9801a791dcdfrow11_col1\" class=\"data row11 col1\" >1</td> \n",
       "        <td id=\"T_692e8451_6f2b_11e8_96ce_9801a791dcdfrow11_col2\" class=\"data row11 col2\" >let</td> \n",
       "    </tr>    <tr> \n",
       "        <th id=\"T_692e8451_6f2b_11e8_96ce_9801a791dcdflevel0_row12\" class=\"row_heading level0 row12\" >12</th> \n",
       "        <td id=\"T_692e8451_6f2b_11e8_96ce_9801a791dcdfrow12_col0\" class=\"data row12 col0\" >32</td> \n",
       "        <td id=\"T_692e8451_6f2b_11e8_96ce_9801a791dcdfrow12_col1\" class=\"data row12 col1\" >1</td> \n",
       "        <td id=\"T_692e8451_6f2b_11e8_96ce_9801a791dcdfrow12_col2\" class=\"data row12 col2\" >mode</td> \n",
       "    </tr>    <tr> \n",
       "        <th id=\"T_692e8451_6f2b_11e8_96ce_9801a791dcdflevel0_row13\" class=\"row_heading level0 row13\" >13</th> \n",
       "        <td id=\"T_692e8451_6f2b_11e8_96ce_9801a791dcdfrow13_col0\" class=\"data row13 col0\" >33</td> \n",
       "        <td id=\"T_692e8451_6f2b_11e8_96ce_9801a791dcdfrow13_col1\" class=\"data row13 col1\" >1</td> \n",
       "        <td id=\"T_692e8451_6f2b_11e8_96ce_9801a791dcdfrow13_col2\" class=\"data row13 col2\" >palm</td> \n",
       "    </tr>    <tr> \n",
       "        <th id=\"T_692e8451_6f2b_11e8_96ce_9801a791dcdflevel0_row14\" class=\"row_heading level0 row14\" >14</th> \n",
       "        <td id=\"T_692e8451_6f2b_11e8_96ce_9801a791dcdfrow14_col0\" class=\"data row14 col0\" >34</td> \n",
       "        <td id=\"T_692e8451_6f2b_11e8_96ce_9801a791dcdfrow14_col1\" class=\"data row14 col1\" >1</td> \n",
       "        <td id=\"T_692e8451_6f2b_11e8_96ce_9801a791dcdfrow14_col2\" class=\"data row14 col2\" >read</td> \n",
       "    </tr>    <tr> \n",
       "        <th id=\"T_692e8451_6f2b_11e8_96ce_9801a791dcdflevel0_row15\" class=\"row_heading level0 row15\" >15</th> \n",
       "        <td id=\"T_692e8451_6f2b_11e8_96ce_9801a791dcdfrow15_col0\" class=\"data row15 col0\" >35</td> \n",
       "        <td id=\"T_692e8451_6f2b_11e8_96ce_9801a791dcdfrow15_col1\" class=\"data row15 col1\" >1</td> \n",
       "        <td id=\"T_692e8451_6f2b_11e8_96ce_9801a791dcdfrow15_col2\" class=\"data row15 col2\" >slick</td> \n",
       "    </tr>    <tr> \n",
       "        <th id=\"T_692e8451_6f2b_11e8_96ce_9801a791dcdflevel0_row16\" class=\"row_heading level0 row16\" >16</th> \n",
       "        <td id=\"T_692e8451_6f2b_11e8_96ce_9801a791dcdfrow16_col0\" class=\"data row16 col0\" >36</td> \n",
       "        <td id=\"T_692e8451_6f2b_11e8_96ce_9801a791dcdfrow16_col1\" class=\"data row16 col1\" >2</td> \n",
       "        <td id=\"T_692e8451_6f2b_11e8_96ce_9801a791dcdfrow16_col2\" class=\"data row16 col2\" >spreadsheet</td> \n",
       "    </tr>    <tr> \n",
       "        <th id=\"T_692e8451_6f2b_11e8_96ce_9801a791dcdflevel0_row17\" class=\"row_heading level0 row17\" >17</th> \n",
       "        <td id=\"T_692e8451_6f2b_11e8_96ce_9801a791dcdfrow17_col0\" class=\"data row17 col0\" >37</td> \n",
       "        <td id=\"T_692e8451_6f2b_11e8_96ce_9801a791dcdfrow17_col1\" class=\"data row17 col1\" >1</td> \n",
       "        <td id=\"T_692e8451_6f2b_11e8_96ce_9801a791dcdfrow17_col2\" class=\"data row17 col2\" >time</td> \n",
       "    </tr>    <tr> \n",
       "        <th id=\"T_692e8451_6f2b_11e8_96ce_9801a791dcdflevel0_row18\" class=\"row_heading level0 row18\" >18</th> \n",
       "        <td id=\"T_692e8451_6f2b_11e8_96ce_9801a791dcdfrow18_col0\" class=\"data row18 col0\" >38</td> \n",
       "        <td id=\"T_692e8451_6f2b_11e8_96ce_9801a791dcdfrow18_col1\" class=\"data row18 col1\" >1</td> \n",
       "        <td id=\"T_692e8451_6f2b_11e8_96ce_9801a791dcdfrow18_col2\" class=\"data row18 col2\" >tool</td> \n",
       "    </tr></tbody> \n",
       "</table> "
      ],
      "text/plain": [
       "<pandas.io.formats.style.Styler at 0x12b8d4ad0>"
      ]
     },
     "execution_count": 235,
     "metadata": {},
     "output_type": "execute_result"
    }
   ],
   "source": [
    "import pandas as pd\n",
    "pd.DataFrame([(k,v,TARGET_CORPUS.dictionary.id2token[k]) for k,v in doc_vector], \n",
    "             columns=['vocab_index', 'word_count', 'token']).style.set_table_styles(styles)"
   ]
  },
  {
   "cell_type": "markdown",
   "metadata": {
    "ExecuteTime": {
     "end_time": "2018-05-30T23:06:18.578766Z",
     "start_time": "2018-05-30T23:06:18.559949Z"
    },
    "slideshow": {
     "slide_type": "subslide"
    }
   },
   "source": [
    "## TF-IDF Vectors"
   ]
  },
  {
   "cell_type": "markdown",
   "metadata": {
    "slideshow": {
     "slide_type": "fragment"
    }
   },
   "source": [
    "TF-IDF = Term Frequency-Inverse Document Frequency \n",
    "\n",
    "https://en.wikipedia.org/wiki/Tf-idf\n",
    "\n",
    "Discount the frequency of terms common to many documents in the (training/target) corpus. "
   ]
  },
  {
   "cell_type": "code",
   "execution_count": 236,
   "metadata": {
    "ExecuteTime": {
     "end_time": "2018-06-13T17:01:27.410139Z",
     "start_time": "2018-06-13T17:01:27.393547Z"
    },
    "slideshow": {
     "slide_type": "subslide"
    }
   },
   "outputs": [
    {
     "data": {
      "text/plain": [
       "[(0, 0.18027306351311892),\n",
       " (1, 0.18027306351311892),\n",
       " (2, 0.18027306351311892),\n",
       " (3, 0.18027306351311892),\n",
       " (5, 0.1996002719256453),\n",
       " (6, 0.0665334239752151),\n",
       " (7, 0.18027306351311892),\n",
       " (8, 0.18027306351311892),\n",
       " (9, 0.18027306351311892),\n",
       " (10, 0.18027306351311892),\n",
       " (11, 0.18027306351311892),\n",
       " (12, 0.5408191905393568),\n",
       " (13, 0.0665334239752151),\n",
       " (14, 0.0665334239752151),\n",
       " (15, 0.18027306351311892),\n",
       " (18, 0.18027306351311892),\n",
       " (19, 0.18027306351311892),\n",
       " (20, 0.18027306351311892),\n",
       " (21, 0.18027306351311892),\n",
       " (22, 0.0665334239752151),\n",
       " (23, 0.36054612702623784),\n",
       " (24, 0.18027306351311892),\n",
       " (25, 0.18027306351311892)]"
      ]
     },
     "execution_count": 236,
     "metadata": {},
     "output_type": "execute_result"
    }
   ],
   "source": [
    "# IDF's coming from the small target corpus\n",
    "def get_target_tfidf(target_corpus):\n",
    "    return gensim.models.TfidfModel(target_corpus, dictionary=target_corpus.dictionary)[target_corpus]\n",
    "\n",
    "iter(get_target_tfidf(default_target_corpus)).next()"
   ]
  },
  {
   "cell_type": "code",
   "execution_count": 237,
   "metadata": {
    "ExecuteTime": {
     "end_time": "2018-06-13T17:01:27.423105Z",
     "start_time": "2018-06-13T17:01:27.414462Z"
    },
    "slideshow": {
     "slide_type": "skip"
    }
   },
   "outputs": [],
   "source": [
    "# Term mapping logic\n",
    "# Subclass the corpus transormation interface\n",
    "class MapTermIds(gensim.interfaces.TransformationABC):\n",
    "  def __init__(self, termid_map):\n",
    "      self.termid_map = termid_map\n",
    "\n",
    "  def __getitem__(self, bow):\n",
    "      is_corpus, bow = gensim.utils.is_corpus(bow)\n",
    "      if is_corpus:\n",
    "          return self._apply(bow)\n",
    "\n",
    "      vector = [(self.termid_map.get(termid), weight)\n",
    "                for termid, weight in bow if self.termid_map.get(termid)]\n",
    "      return vector"
   ]
  },
  {
   "cell_type": "code",
   "execution_count": 238,
   "metadata": {
    "ExecuteTime": {
     "end_time": "2018-06-13T17:01:27.439492Z",
     "start_time": "2018-06-13T17:01:27.427553Z"
    },
    "slideshow": {
     "slide_type": "skip"
    }
   },
   "outputs": [],
   "source": [
    "def create_compatible_termid_maps(target_dictionary, training_dictionary):\n",
    "    token_training_map = training_dictionary.token2id\n",
    "    target_training_map = {k: token_training_map.get(v) for k, v\n",
    "                       in target_dictionary.iteritems()}\n",
    "    missing_indices = [k for k, v in target_training_map.iteritems() if not v]\n",
    "    target_dictionary.filter_tokens(missing_indices)\n",
    "    \n",
    "    # Remove terms not found in the training dictionary\n",
    "    target_dictionary.compactify() \n",
    "\n",
    "    target_training_map = {k: token_training_map.get(v) for k, v\n",
    "                       in target_dictionary.iteritems()}\n",
    "    training_target_map = {v: k for k, v in target_training_map.iteritems()}\n",
    "    target_training_transform = MapTermIds(target_training_map)\n",
    "    training_target_transform = MapTermIds(training_target_map)\n",
    "\n",
    "    return target_dictionary, target_training_transform, training_target_transform"
   ]
  },
  {
   "cell_type": "code",
   "execution_count": 239,
   "metadata": {
    "ExecuteTime": {
     "end_time": "2018-06-13T17:01:32.340269Z",
     "start_time": "2018-06-13T17:01:27.443775Z"
    },
    "slideshow": {
     "slide_type": "fragment"
    }
   },
   "outputs": [
    {
     "data": {
      "text/plain": [
       "[(1, 0.07473674755927918),\n",
       " (2, 0.09200057163139172),\n",
       " (3, 0.13275710823384462),\n",
       " (4, 0.21101504992672906),\n",
       " (5, 0.1961408770877077),\n",
       " (6, 0.14156305707543346),\n",
       " (7, 0.10845870953425936),\n",
       " (8, 0.06585867821235018),\n",
       " (9, 0.27237547353737984),\n",
       " (10, 0.2364510047341792),\n",
       " (11, 0.08207047632413615),\n",
       " (12, 0.6235888690447704),\n",
       " (13, 0.04436301952147567),\n",
       " (14, 0.07219695476235263),\n",
       " (15, 0.11180220841097105),\n",
       " (16, 0.24650265310704142),\n",
       " (17, 0.1267836592437009),\n",
       " (18, 0.16594137798421438),\n",
       " (19, 0.09988745088314074),\n",
       " (20, 0.07386295088617181),\n",
       " (21, 0.14034464090874477),\n",
       " (22, 0.05435583471519226),\n",
       " (23, 0.34089112777540964),\n",
       " (24, 0.13566354175600648),\n",
       " (25, 0.1311927519650724)]"
      ]
     },
     "execution_count": 239,
     "metadata": {},
     "output_type": "execute_result"
    }
   ],
   "source": [
    "# Uses custom method \"create_compatible_termid_maps\"\n",
    "# IDF's coming from the large training corpus\n",
    "def get_training_tfidf(target_corpus):\n",
    "    training_tfidf = gensim.models.TfidfModel.load('models/posts_parsed_text.tfidf')\n",
    "    training_dictionary = gensim.corpora.Dictionary.load(\n",
    "        os.path.join(DATA_DIR, 'posts_parsed_text.dict'))\n",
    "    target_dictionary, target_training_transform, training_target_transform = \\\n",
    "        create_compatible_termid_maps(target_corpus.dictionary, training_dictionary)\n",
    "    return training_target_transform[\n",
    "        training_tfidf[\n",
    "            target_training_transform[\n",
    "                target_corpus]]]\n",
    "\n",
    "\n",
    "iter(get_training_tfidf(default_target_corpus)).next()"
   ]
  },
  {
   "cell_type": "code",
   "execution_count": null,
   "metadata": {},
   "outputs": [],
   "source": []
  },
  {
   "cell_type": "code",
   "execution_count": 240,
   "metadata": {
    "ExecuteTime": {
     "end_time": "2018-06-13T17:01:32.364256Z",
     "start_time": "2018-06-13T17:01:32.346321Z"
    },
    "slideshow": {
     "slide_type": "skip"
    }
   },
   "outputs": [
    {
     "data": {
      "text/plain": [
       "[[], [(1, 1.0)], [(1, 0.34624155305796134), (2, 0.9381453975456102)]]"
      ]
     },
     "execution_count": 240,
     "metadata": {},
     "output_type": "execute_result"
    }
   ],
   "source": [
    "# Note, gensim will eliminate terms that appear in every document\n",
    "# This probably is not a concern when you are dealing with even slightly larger corpora \n",
    "test_docs = ['foo', 'foo bar', 'foo bar baz']\n",
    "test_texts = [[word for word in doc.lower().split()] for doc in test_docs]\n",
    "test_dict = gensim.corpora.Dictionary(test_texts)\n",
    "test_corpus = [test_dict.doc2bow(text) for text in test_texts]\n",
    "test_tfidf = gensim.models.TfidfModel(test_corpus)\n",
    "[doc for doc in test_tfidf[test_corpus]]"
   ]
  },
  {
   "cell_type": "markdown",
   "metadata": {
    "slideshow": {
     "slide_type": "subslide"
    }
   },
   "source": [
    "## Weighted-Average of Word Vectors "
   ]
  },
  {
   "cell_type": "markdown",
   "metadata": {
    "slideshow": {
     "slide_type": "subslide"
    }
   },
   "source": [
    "### Tf-idf document representation:  \n",
    "$$\n",
    "\\left(\n",
    "\\begin{array}{r|l}\n",
    "\\text{\"come\"} & 0.075\\\\\n",
    "\\text{\"delete\"} & 0.092\\\\\n",
    "\\text{\"editor\"} & 0.133\\\\\n",
    "\\text{\"excel\"} & 0.211\\\\\n",
    "\\text{\"file\"} & 0.196\\\\\n",
    "\\end{array}\n",
    "\\right)\n",
    "$$"
   ]
  },
  {
   "cell_type": "markdown",
   "metadata": {
    "slideshow": {
     "slide_type": "subslide"
    }
   },
   "source": [
    "### If you had a vector representation of words...\n",
    "$$\n",
    "\\left(\n",
    "\\begin{array}{r|l}\n",
    "\\text{\"come\"} & (0.1, \\ldots, 0.5)\\\\\n",
    "\\text{\"delete\"} & (0.3, \\ldots, 0.2)\\\\\n",
    "\\text{\"editor\"} & (0.1, \\ldots, 0.4)\\\\\n",
    "\\text{\"excel\"} & (0.6, \\ldots, 0.2)\\\\\n",
    "\\text{\"file\"} & (0.1, \\ldots, 0.3)\\\\\n",
    "\\end{array}\n",
    "\\right)\n",
    "$$"
   ]
  },
  {
   "cell_type": "markdown",
   "metadata": {
    "slideshow": {
     "slide_type": "subslide"
    }
   },
   "source": [
    "### Weighted-average of word vectors:\n",
    "\n",
    "$$\n",
    "\\text{\"come\" } 0.075 \\begin{pmatrix} 0.1\\\\ \\vdots\\\\ 0.5\\end{pmatrix} + \\text{\"delete\" }0.092 \\begin{pmatrix}0.3\\\\ \\vdots\\\\ 0.2 \\end{pmatrix} + \\text{\"editor\" }0.133\\begin{pmatrix} 0.1\\\\ \\vdots\\\\ 0.4\\end{pmatrix} + \\\\\n",
    "\\ldots \\text{\"excel\" }0.211\\begin{pmatrix} 0.6\\\\ \\vdots\\\\ 0.2\\end{pmatrix} + \\text{\"file\" }0.196\\begin{pmatrix} 0.1\\\\ \\vdots\\\\ 0.3\\end{pmatrix}\n",
    "$$\n",
    "\n",
    "Get another vector representation of a document."
   ]
  },
  {
   "cell_type": "markdown",
   "metadata": {
    "slideshow": {
     "slide_type": "notes"
    }
   },
   "source": [
    "The audience is probably familiar with ways to obtain word vectors... "
   ]
  },
  {
   "cell_type": "markdown",
   "metadata": {
    "slideshow": {
     "slide_type": "slide"
    }
   },
   "source": [
    "# Words and their Vector Space Representations"
   ]
  },
  {
   "cell_type": "markdown",
   "metadata": {
    "hidden": true,
    "slideshow": {
     "slide_type": "subslide"
    }
   },
   "source": [
    "#### Note:\n",
    "- Speaker models: trained on Spiceworks Community custom pre-processed corpus \n",
    "- Audience models: stubs from the gensim test repo; included so some cells will compile\n",
    "- Please train your own models for meaningful results\n",
    "- For more on training your own models using gensim see, for example: http://kavita-ganesan.com/gensim-word2vec-tutorial-starter-code"
   ]
  },
  {
   "cell_type": "code",
   "execution_count": 241,
   "metadata": {
    "ExecuteTime": {
     "end_time": "2018-06-13T17:01:37.203769Z",
     "start_time": "2018-06-13T17:01:32.368820Z"
    },
    "slideshow": {
     "slide_type": "notes"
    }
   },
   "outputs": [],
   "source": [
    "# For Audience: \n",
    "# import gensim.test.utils\n",
    "# w2v_path = gensim.test.utils.datapath('word2vec_old')\n",
    "# w2v = gensim.models.Word2Vec.load(w2v_path)\n",
    "# ftx_path = gensim.test.utils.datapath('fasttext_old')\n",
    "# ftx = gensim.models.FastText.load(ftx_path)\n",
    "\n",
    "# For Speaker:\n",
    "#skip-gram, min_count=20, size=200, window=10\n",
    "w2v = gensim.models.Word2Vec.load(\"models/word2vec_model_unigram_lowercase\")\n",
    "ftx = gensim.models.FastText.load(\"models/fasttext_model_unigram_lowercase\")"
   ]
  },
  {
   "cell_type": "code",
   "execution_count": 242,
   "metadata": {
    "ExecuteTime": {
     "end_time": "2018-06-13T17:01:37.591646Z",
     "start_time": "2018-06-13T17:01:37.207283Z"
    },
    "slideshow": {
     "slide_type": "subslide"
    }
   },
   "outputs": [
    {
     "data": {
      "text/plain": [
       "[(u'pc', 0.804652214050293),\n",
       " (u'machine', 0.7396371364593506),\n",
       " (u'workstation', 0.687087893486023),\n",
       " (u'laptop', 0.6701804399490356),\n",
       " (u'computers', 0.6077813506126404),\n",
       " (u'printer', 0.5282449722290039),\n",
       " (u'desktop', 0.5122043490409851),\n",
       " (u'device', 0.470727801322937),\n",
       " (u'pcand', 0.462885320186615),\n",
       " (u'pcs', 0.4616956114768982)]"
      ]
     },
     "execution_count": 242,
     "metadata": {},
     "output_type": "execute_result"
    }
   ],
   "source": [
    "w2v.wv.most_similar('computer', topn=10)"
   ]
  },
  {
   "cell_type": "code",
   "execution_count": 243,
   "metadata": {
    "ExecuteTime": {
     "end_time": "2018-06-13T17:01:39.405990Z",
     "start_time": "2018-06-13T17:01:37.595747Z"
    },
    "slideshow": {
     "slide_type": "subslide"
    }
   },
   "outputs": [
    {
     "data": {
      "text/plain": [
       "[(u'acomputer', 0.9429256916046143),\n",
       " (u'scomputer', 0.9186970591545105),\n",
       " (u'tocomputer', 0.9176599383354187),\n",
       " (u'computer4', 0.9165210127830505),\n",
       " (u'computeri', 0.9112850427627563),\n",
       " (u'komputer', 0.9096609354019165),\n",
       " (u'minicomputer', 0.9090799689292908),\n",
       " (u'computerin', 0.9068394303321838),\n",
       " (u'colcomputer', 0.9036481976509094),\n",
       " (u'computer3', 0.9017834663391113)]"
      ]
     },
     "execution_count": 243,
     "metadata": {},
     "output_type": "execute_result"
    }
   ],
   "source": [
    "ftx.wv.most_similar('computer', topn=10)"
   ]
  },
  {
   "cell_type": "code",
   "execution_count": 244,
   "metadata": {
    "ExecuteTime": {
     "end_time": "2018-06-13T17:01:39.423648Z",
     "start_time": "2018-06-13T17:01:39.410424Z"
    },
    "slideshow": {
     "slide_type": "subslide"
    }
   },
   "outputs": [
    {
     "data": {
      "text/plain": [
       "array([ 4.0282183 ,  1.2013625 , -1.3921268 ,  0.8217582 ,  1.5519204 ,\n",
       "        0.844429  ,  5.9267664 ,  2.5641832 , -4.6224465 ,  1.3624501 ,\n",
       "       -5.061894  , -5.43022   ,  2.5380747 ,  2.8784335 ,  1.3708048 ,\n",
       "        0.6266576 , -4.250798  , -2.3694801 , -2.706934  ,  0.65685004,\n",
       "       -0.05581836,  0.06307846, -0.29421508, -1.1435201 , -3.6387348 ,\n",
       "        1.7892005 , -1.147864  , -5.599832  , -0.62359476,  1.970613  ,\n",
       "        2.1880927 , -0.2966052 ,  1.2801863 , -3.3769345 ,  2.1860697 ,\n",
       "        2.68782   ,  3.9020295 , -5.001813  ,  4.845451  , -1.6881222 ,\n",
       "        0.61382407, -3.2506828 ,  0.5206685 , -1.7164947 ,  0.16390201,\n",
       "       -0.68463844,  0.10834248, -0.77222353, -5.5950685 , -2.3295124 ,\n",
       "        1.8326058 ,  3.9277148 ,  2.4197507 ,  2.7926948 , -0.83345634,\n",
       "        0.3857129 , -0.39134166,  1.8342378 , -7.4511786 ,  6.7927704 ,\n",
       "        0.12419615,  0.7974883 , -2.3099947 , -6.5153136 , -4.465302  ,\n",
       "        3.345026  , -0.55666965, -3.5195887 , -1.7074724 , -0.66333306,\n",
       "       -1.8704011 , -3.3207018 ,  1.2882617 , -0.4663062 ,  1.651901  ,\n",
       "       -0.41545436, -1.0838678 ,  2.812444  , -1.2157962 , -0.83793247,\n",
       "       -0.07703689, -0.39428523,  4.770343  , -0.03854206,  2.4206161 ,\n",
       "       -4.3789105 ,  1.4344127 ,  0.47124934, -2.2243922 , -3.3236752 ,\n",
       "        0.18310492,  1.4970471 , -2.956591  ,  3.1750245 ,  0.6356939 ,\n",
       "       -0.3775459 , -0.7365494 ,  0.19111535, -1.8534234 ,  2.4267426 ,\n",
       "        3.891471  , -2.2862809 ,  0.7016609 ,  2.4590802 , -0.06543718,\n",
       "        2.659812  ,  2.7117002 ,  1.7149844 , -0.47453502, -3.507782  ,\n",
       "        0.50247425,  2.0274217 ,  3.8215358 , -5.5554094 , -0.23624884,\n",
       "        0.7049294 ,  4.095532  , -1.7265244 , -1.815209  ,  1.1875826 ,\n",
       "        2.009563  , -1.3299605 ,  4.0039554 ,  0.6682096 , -3.456671  ,\n",
       "        0.50012565, -1.548187  , -0.49155268, -2.7682393 ,  3.0756676 ,\n",
       "       -4.2568774 ,  1.057635  ,  2.206825  , -1.7796956 , -1.5061796 ,\n",
       "       -0.8540875 ,  4.2538977 , -0.00946112,  0.49067658, -0.7620272 ,\n",
       "       -3.2446506 , -0.05231979,  1.4706931 , -2.0022943 , -0.60545826,\n",
       "       -2.449924  , -1.6218947 , -1.2371265 ,  1.9613073 ,  1.0623715 ,\n",
       "       -6.0646577 , -1.3929973 ,  2.6008759 ,  4.5998726 ,  0.4202539 ,\n",
       "        0.21900544, -3.6812558 ,  7.020772  , -0.5757418 , -0.9355355 ,\n",
       "       -0.20299268,  3.2556293 ,  3.9391935 , -0.22526838,  1.887904  ,\n",
       "        2.1020637 , -0.98029345,  3.1654503 ,  2.0808249 , -0.54281265,\n",
       "       -4.0705767 , -4.560238  , -1.0235599 , -1.9653012 , -1.8309628 ,\n",
       "        1.3118424 , -2.9933882 ,  1.3101012 , -1.9321501 ,  1.3623248 ,\n",
       "       -2.0433295 , -1.2424725 , -2.3387077 ,  0.67077106,  2.576598  ,\n",
       "       -4.948263  , -0.9757333 ,  0.01928256, -5.424774  , -1.315062  ,\n",
       "        0.5574184 ,  1.1865679 ,  0.5923284 ,  6.9472528 ,  4.9890523 ,\n",
       "       -3.576554  , -2.349544  , -0.17058642, -2.7685068 ,  1.6180524 ],\n",
       "      dtype=float32)"
      ]
     },
     "execution_count": 244,
     "metadata": {},
     "output_type": "execute_result"
    }
   ],
   "source": [
    "w2v.wv[\"excel\"]"
   ]
  },
  {
   "cell_type": "markdown",
   "metadata": {
    "heading_collapsed": true,
    "slideshow": {
     "slide_type": "slide"
    }
   },
   "source": [
    "# Question Similarity"
   ]
  },
  {
   "cell_type": "markdown",
   "metadata": {
    "hidden": true,
    "slideshow": {
     "slide_type": "subslide"
    }
   },
   "source": [
    "## Dot Product\n",
    "- $N$: Size of the vocabulary \n",
    "- $X_1, X_2$: Document vectors, $N\\times 1$ dimensional  \n",
    "\n",
    "Sum of the pairwise products,\n",
    "\n",
    "\\begin{eqnarray*}\n",
    "X_1\\cdot X_2 &=& \\begin{pmatrix}X_{11} \\\\ \\vdots \\\\ X_{1N}\\end{pmatrix} \\cdot \\begin{pmatrix}X_{21} \\\\ \\vdots \\\\ X_{2N}\\end{pmatrix} = \\sum_{i=1}^N X_{1i}(X_{2i})\\\\\n",
    "&=& X_{11} (X_{21}) + X_{12}(X_{22}) + \\cdots + X_{1N}(X_{2N}).\n",
    "\\end{eqnarray*}"
   ]
  },
  {
   "cell_type": "markdown",
   "metadata": {
    "slideshow": {
     "slide_type": "subslide"
    }
   },
   "source": [
    "$$\\begin{pmatrix}1 \\\\ 2 \\\\ 3 \\end{pmatrix} \\cdot \\begin{pmatrix} 0\\\\ 1\\\\ 1 \\end{pmatrix} = 1(0)+2(1)+3(1)=5.$$"
   ]
  },
  {
   "cell_type": "code",
   "execution_count": 245,
   "metadata": {
    "ExecuteTime": {
     "end_time": "2018-06-13T17:01:39.438093Z",
     "start_time": "2018-06-13T17:01:39.428308Z"
    },
    "slideshow": {
     "slide_type": "fragment"
    }
   },
   "outputs": [
    {
     "data": {
      "text/plain": [
       "0"
      ]
     },
     "execution_count": 245,
     "metadata": {},
     "output_type": "execute_result"
    }
   ],
   "source": [
    "import scipy as sp\n",
    "sp.dot([1,0],[0,1])"
   ]
  },
  {
   "cell_type": "markdown",
   "metadata": {
    "hidden": true,
    "slideshow": {
     "slide_type": "subslide"
    }
   },
   "source": [
    "## Cosine Similarity\n",
    "\n",
    "\\begin{eqnarray} \n",
    "\\cos(X_1, X_2) &=& \\frac{X_1\\cdot X_2}{||X_1||\\text{ }||X_2||}\\\\\n",
    "               &=& \\frac{X_1^T X_2}{\\sqrt{X_1^T X_1}\\sqrt{X_2^T X_2}}\n",
    "\\end{eqnarray}\n"
   ]
  },
  {
   "cell_type": "markdown",
   "metadata": {
    "slideshow": {
     "slide_type": "subslide"
    }
   },
   "source": [
    "### Custom Word Count Vectors"
   ]
  },
  {
   "cell_type": "code",
   "execution_count": 246,
   "metadata": {
    "ExecuteTime": {
     "end_time": "2018-06-13T17:01:39.458391Z",
     "start_time": "2018-06-13T17:01:39.442267Z"
    },
    "slideshow": {
     "slide_type": "fragment"
    }
   },
   "outputs": [
    {
     "data": {
      "text/plain": [
       "array([[1.        , 0.34612355, 0.45574644],\n",
       "       [0.34612355, 1.        , 0.35105228],\n",
       "       [0.45574644, 0.35105228, 1.0000001 ]], dtype=float32)"
      ]
     },
     "execution_count": 246,
     "metadata": {},
     "output_type": "execute_result"
    }
   ],
   "source": [
    "cosim_index = gensim.similarities.MatrixSimilarity(custom_target_corpus)\n",
    "cosim_index[custom_target_corpus]"
   ]
  },
  {
   "cell_type": "markdown",
   "metadata": {
    "slideshow": {
     "slide_type": "subslide"
    }
   },
   "source": [
    "### Custom Tf-idf Vectors \n",
    "With the idfs coming from the small target corpus"
   ]
  },
  {
   "cell_type": "code",
   "execution_count": 247,
   "metadata": {
    "ExecuteTime": {
     "end_time": "2018-06-13T17:01:39.484542Z",
     "start_time": "2018-06-13T17:01:39.462679Z"
    },
    "slideshow": {
     "slide_type": "fragment"
    }
   },
   "outputs": [
    {
     "data": {
      "text/plain": [
       "array([[0.99999994, 0.02023492, 0.03237899],\n",
       "       [0.02023492, 0.9999999 , 0.02258889],\n",
       "       [0.03237899, 0.02258889, 1.        ]], dtype=float32)"
      ]
     },
     "execution_count": 247,
     "metadata": {},
     "output_type": "execute_result"
    }
   ],
   "source": [
    "target_tfidf = get_target_tfidf(custom_target_corpus)\n",
    "cosim_index = gensim.similarities.MatrixSimilarity(target_tfidf)\n",
    "cosim_index[target_tfidf]"
   ]
  },
  {
   "cell_type": "markdown",
   "metadata": {
    "slideshow": {
     "slide_type": "subslide"
    }
   },
   "source": [
    "### Custom Tf-idf Vectors\n",
    "With the idfs from the large training corpus"
   ]
  },
  {
   "cell_type": "code",
   "execution_count": 248,
   "metadata": {
    "ExecuteTime": {
     "end_time": "2018-06-13T17:01:43.467215Z",
     "start_time": "2018-06-13T17:01:39.490012Z"
    },
    "slideshow": {
     "slide_type": "fragment"
    }
   },
   "outputs": [
    {
     "data": {
      "text/plain": [
       "array([[1.        , 0.2963984 , 0.17173567],\n",
       "       [0.2963984 , 1.        , 0.22083548],\n",
       "       [0.17173567, 0.22083548, 1.        ]], dtype=float32)"
      ]
     },
     "execution_count": 248,
     "metadata": {},
     "output_type": "execute_result"
    }
   ],
   "source": [
    "target_corpus = custom_target_corpus\n",
    "training_tfidf = get_training_tfidf(target_corpus)\n",
    "cosim_index = gensim.similarities.MatrixSimilarity(training_tfidf)\n",
    "cosim_index[training_tfidf]"
   ]
  },
  {
   "cell_type": "code",
   "execution_count": 249,
   "metadata": {
    "ExecuteTime": {
     "end_time": "2018-06-13T17:01:43.487155Z",
     "start_time": "2018-06-13T17:01:43.472078Z"
    },
    "slideshow": {
     "slide_type": "subslide"
    }
   },
   "outputs": [
    {
     "data": {
      "text/plain": [
       "array([[1.        , 0.42794803, 0.19976044],\n",
       "       [0.42794803, 1.        , 0.205169  ],\n",
       "       [0.19976044, 0.205169  , 1.        ]], dtype=float32)"
      ]
     },
     "execution_count": 249,
     "metadata": {},
     "output_type": "execute_result"
    }
   ],
   "source": [
    "cosim_index = gensim.similarities.MatrixSimilarity(default_target_corpus)\n",
    "cosim_index[default_target_corpus]"
   ]
  },
  {
   "cell_type": "code",
   "execution_count": 250,
   "metadata": {
    "ExecuteTime": {
     "end_time": "2018-06-13T17:01:43.506308Z",
     "start_time": "2018-06-13T17:01:43.490200Z"
    },
    "slideshow": {
     "slide_type": "fragment"
    }
   },
   "outputs": [
    {
     "data": {
      "text/plain": [
       "array([[1.        , 0.02395141, 0.00793372],\n",
       "       [0.02395141, 1.        , 0.        ],\n",
       "       [0.00793372, 0.        , 1.        ]], dtype=float32)"
      ]
     },
     "execution_count": 250,
     "metadata": {},
     "output_type": "execute_result"
    }
   ],
   "source": [
    "target_tfidf = get_target_tfidf(default_target_corpus)\n",
    "cosim_index = gensim.similarities.MatrixSimilarity(target_tfidf)\n",
    "cosim_index[target_tfidf]"
   ]
  },
  {
   "cell_type": "markdown",
   "metadata": {
    "slideshow": {
     "slide_type": "fragment"
    }
   },
   "source": [
    "Notice that document 2 and 3 have 0 term overlap. \n",
    "\n",
    "Problematic? What about these two sentences: \n",
    "\n",
    "1. \"Fix broken laptop.\"\n",
    "2. \"Troubleshoot crashed computer.\"\n",
    "\n",
    "These sentences have zero term overlap, but express related meanings. They are \"semantically similar\". "
   ]
  },
  {
   "cell_type": "code",
   "execution_count": 251,
   "metadata": {
    "ExecuteTime": {
     "end_time": "2018-06-13T17:01:47.747298Z",
     "start_time": "2018-06-13T17:01:43.510231Z"
    },
    "slideshow": {
     "slide_type": "notes"
    }
   },
   "outputs": [
    {
     "data": {
      "text/plain": [
       "array([[1.        , 0.26191717, 0.10925236],\n",
       "       [0.26191717, 1.        , 0.16283868],\n",
       "       [0.10925236, 0.16283868, 1.        ]], dtype=float32)"
      ]
     },
     "execution_count": 251,
     "metadata": {},
     "output_type": "execute_result"
    }
   ],
   "source": [
    "target_corpus = default_target_corpus\n",
    "training_tfidf = get_training_tfidf(target_corpus)\n",
    "cosim_index = gensim.similarities.MatrixSimilarity(training_tfidf)\n",
    "cosim_index[training_tfidf]"
   ]
  },
  {
   "cell_type": "markdown",
   "metadata": {
    "slideshow": {
     "slide_type": "subslide"
    }
   },
   "source": [
    "### Cosine similarity of word vectors\n",
    "\n",
    "TODO: formula from paper for cosine similarity of words..."
   ]
  },
  {
   "cell_type": "code",
   "execution_count": 252,
   "metadata": {
    "ExecuteTime": {
     "end_time": "2018-06-13T17:01:47.833690Z",
     "start_time": "2018-06-13T17:01:47.753862Z"
    }
   },
   "outputs": [
    {
     "data": {
      "text/plain": [
       "0.8046523"
      ]
     },
     "execution_count": 252,
     "metadata": {},
     "output_type": "execute_result"
    }
   ],
   "source": [
    "wv_computer = w2v.wv['computer']\n",
    "wv_pc = w2v.wv['pc']\n",
    "sp.dot(wv_computer, wv_pc)/(sp.sqrt(sp.dot(wv_computer, wv_computer))* sp.sqrt(sp.dot(wv_pc, wv_pc)))"
   ]
  },
  {
   "cell_type": "code",
   "execution_count": 253,
   "metadata": {
    "ExecuteTime": {
     "end_time": "2018-06-13T17:01:47.868217Z",
     "start_time": "2018-06-13T17:01:47.837780Z"
    }
   },
   "outputs": [
    {
     "data": {
      "text/plain": [
       "[(u'pc', 0.804652214050293)]"
      ]
     },
     "execution_count": 253,
     "metadata": {},
     "output_type": "execute_result"
    }
   ],
   "source": [
    "w2v.wv.most_similar('computer', topn=1)"
   ]
  },
  {
   "cell_type": "code",
   "execution_count": 254,
   "metadata": {
    "ExecuteTime": {
     "end_time": "2018-06-13T17:01:47.879505Z",
     "start_time": "2018-06-13T17:01:47.872991Z"
    },
    "slideshow": {
     "slide_type": "notes"
    }
   },
   "outputs": [],
   "source": [
    "# Display a term-similarity matrix as a pandas dataframe indexed by the terms \n",
    "def display_term_similarities(term_dict, M):\n",
    "    terms = [term_dict[k] for k in sorted(term_dict.iterkeys())]\n",
    "    return pd.DataFrame(M.todense(), \n",
    "             index=terms, \n",
    "             columns=terms).style.set_table_styles(styles)"
   ]
  },
  {
   "cell_type": "markdown",
   "metadata": {
    "slideshow": {
     "slide_type": "subslide"
    }
   },
   "source": [
    "### Term Similarity Matrix\n",
    "\n",
    "Gensim word embedding vectors have a *similarity matrix* feature:\n",
    "\n",
    "    gensim.models.keyedvectors.similarity_matrix()"
   ]
  },
  {
   "cell_type": "code",
   "execution_count": 255,
   "metadata": {
    "ExecuteTime": {
     "end_time": "2018-06-13T17:01:47.901061Z",
     "start_time": "2018-06-13T17:01:47.883542Z"
    },
    "slideshow": {
     "slide_type": "subslide"
    }
   },
   "outputs": [
    {
     "data": {
      "text/html": [
       "<style  type=\"text/css\" >\n",
       "    #T_7569722b_6f2b_11e8_afd4_9801a791dcdf th {\n",
       "          font-size: 30px;\n",
       "    }    #T_7569722b_6f2b_11e8_afd4_9801a791dcdf td {\n",
       "          font-size: 30px;\n",
       "    }</style>  \n",
       "<table id=\"T_7569722b_6f2b_11e8_afd4_9801a791dcdf\" > \n",
       "<thead>    <tr> \n",
       "        <th class=\"blank level0\" ></th> \n",
       "        <th class=\"col_heading level0 col0\" >broken</th> \n",
       "        <th class=\"col_heading level0 col1\" >fix</th> \n",
       "        <th class=\"col_heading level0 col2\" >laptop</th> \n",
       "        <th class=\"col_heading level0 col3\" >computer</th> \n",
       "        <th class=\"col_heading level0 col4\" >crashed</th> \n",
       "        <th class=\"col_heading level0 col5\" >troubleshoot</th> \n",
       "    </tr></thead> \n",
       "<tbody>    <tr> \n",
       "        <th id=\"T_7569722b_6f2b_11e8_afd4_9801a791dcdflevel0_row0\" class=\"row_heading level0 row0\" >broken</th> \n",
       "        <td id=\"T_7569722b_6f2b_11e8_afd4_9801a791dcdfrow0_col0\" class=\"data row0 col0\" >1</td> \n",
       "        <td id=\"T_7569722b_6f2b_11e8_afd4_9801a791dcdfrow0_col1\" class=\"data row0 col1\" >0.0835181</td> \n",
       "        <td id=\"T_7569722b_6f2b_11e8_afd4_9801a791dcdfrow0_col2\" class=\"data row0 col2\" >0.0143308</td> \n",
       "        <td id=\"T_7569722b_6f2b_11e8_afd4_9801a791dcdfrow0_col3\" class=\"data row0 col3\" >0.0166764</td> \n",
       "        <td id=\"T_7569722b_6f2b_11e8_afd4_9801a791dcdfrow0_col4\" class=\"data row0 col4\" >0.126778</td> \n",
       "        <td id=\"T_7569722b_6f2b_11e8_afd4_9801a791dcdfrow0_col5\" class=\"data row0 col5\" >0.0100578</td> \n",
       "    </tr>    <tr> \n",
       "        <th id=\"T_7569722b_6f2b_11e8_afd4_9801a791dcdflevel0_row1\" class=\"row_heading level0 row1\" >fix</th> \n",
       "        <td id=\"T_7569722b_6f2b_11e8_afd4_9801a791dcdfrow1_col0\" class=\"data row1 col0\" >0.0835181</td> \n",
       "        <td id=\"T_7569722b_6f2b_11e8_afd4_9801a791dcdfrow1_col1\" class=\"data row1 col1\" >1</td> \n",
       "        <td id=\"T_7569722b_6f2b_11e8_afd4_9801a791dcdfrow1_col2\" class=\"data row1 col2\" >0.0156713</td> \n",
       "        <td id=\"T_7569722b_6f2b_11e8_afd4_9801a791dcdfrow1_col3\" class=\"data row1 col3\" >0.0323089</td> \n",
       "        <td id=\"T_7569722b_6f2b_11e8_afd4_9801a791dcdfrow1_col4\" class=\"data row1 col4\" >0.059446</td> \n",
       "        <td id=\"T_7569722b_6f2b_11e8_afd4_9801a791dcdfrow1_col5\" class=\"data row1 col5\" >0.429156</td> \n",
       "    </tr>    <tr> \n",
       "        <th id=\"T_7569722b_6f2b_11e8_afd4_9801a791dcdflevel0_row2\" class=\"row_heading level0 row2\" >laptop</th> \n",
       "        <td id=\"T_7569722b_6f2b_11e8_afd4_9801a791dcdfrow2_col0\" class=\"data row2 col0\" >0.0143308</td> \n",
       "        <td id=\"T_7569722b_6f2b_11e8_afd4_9801a791dcdfrow2_col1\" class=\"data row2 col1\" >0.0156713</td> \n",
       "        <td id=\"T_7569722b_6f2b_11e8_afd4_9801a791dcdfrow2_col2\" class=\"data row2 col2\" >1</td> \n",
       "        <td id=\"T_7569722b_6f2b_11e8_afd4_9801a791dcdfrow2_col3\" class=\"data row2 col3\" >0.449142</td> \n",
       "        <td id=\"T_7569722b_6f2b_11e8_afd4_9801a791dcdfrow2_col4\" class=\"data row2 col4\" >0.0468678</td> \n",
       "        <td id=\"T_7569722b_6f2b_11e8_afd4_9801a791dcdfrow2_col5\" class=\"data row2 col5\" >0.00492678</td> \n",
       "    </tr>    <tr> \n",
       "        <th id=\"T_7569722b_6f2b_11e8_afd4_9801a791dcdflevel0_row3\" class=\"row_heading level0 row3\" >computer</th> \n",
       "        <td id=\"T_7569722b_6f2b_11e8_afd4_9801a791dcdfrow3_col0\" class=\"data row3 col0\" >0.0166764</td> \n",
       "        <td id=\"T_7569722b_6f2b_11e8_afd4_9801a791dcdfrow3_col1\" class=\"data row3 col1\" >0.0323089</td> \n",
       "        <td id=\"T_7569722b_6f2b_11e8_afd4_9801a791dcdfrow3_col2\" class=\"data row3 col2\" >0.449142</td> \n",
       "        <td id=\"T_7569722b_6f2b_11e8_afd4_9801a791dcdfrow3_col3\" class=\"data row3 col3\" >1</td> \n",
       "        <td id=\"T_7569722b_6f2b_11e8_afd4_9801a791dcdfrow3_col4\" class=\"data row3 col4\" >0.0202786</td> \n",
       "        <td id=\"T_7569722b_6f2b_11e8_afd4_9801a791dcdfrow3_col5\" class=\"data row3 col5\" >0.0171988</td> \n",
       "    </tr>    <tr> \n",
       "        <th id=\"T_7569722b_6f2b_11e8_afd4_9801a791dcdflevel0_row4\" class=\"row_heading level0 row4\" >crashed</th> \n",
       "        <td id=\"T_7569722b_6f2b_11e8_afd4_9801a791dcdfrow4_col0\" class=\"data row4 col0\" >0.126778</td> \n",
       "        <td id=\"T_7569722b_6f2b_11e8_afd4_9801a791dcdfrow4_col1\" class=\"data row4 col1\" >0.059446</td> \n",
       "        <td id=\"T_7569722b_6f2b_11e8_afd4_9801a791dcdfrow4_col2\" class=\"data row4 col2\" >0.0468678</td> \n",
       "        <td id=\"T_7569722b_6f2b_11e8_afd4_9801a791dcdfrow4_col3\" class=\"data row4 col3\" >0.0202786</td> \n",
       "        <td id=\"T_7569722b_6f2b_11e8_afd4_9801a791dcdfrow4_col4\" class=\"data row4 col4\" >1</td> \n",
       "        <td id=\"T_7569722b_6f2b_11e8_afd4_9801a791dcdfrow4_col5\" class=\"data row4 col5\" >0.0169646</td> \n",
       "    </tr>    <tr> \n",
       "        <th id=\"T_7569722b_6f2b_11e8_afd4_9801a791dcdflevel0_row5\" class=\"row_heading level0 row5\" >troubleshoot</th> \n",
       "        <td id=\"T_7569722b_6f2b_11e8_afd4_9801a791dcdfrow5_col0\" class=\"data row5 col0\" >0.0100578</td> \n",
       "        <td id=\"T_7569722b_6f2b_11e8_afd4_9801a791dcdfrow5_col1\" class=\"data row5 col1\" >0.429156</td> \n",
       "        <td id=\"T_7569722b_6f2b_11e8_afd4_9801a791dcdfrow5_col2\" class=\"data row5 col2\" >0.00492678</td> \n",
       "        <td id=\"T_7569722b_6f2b_11e8_afd4_9801a791dcdfrow5_col3\" class=\"data row5 col3\" >0.0171988</td> \n",
       "        <td id=\"T_7569722b_6f2b_11e8_afd4_9801a791dcdfrow5_col4\" class=\"data row5 col4\" >0.0169646</td> \n",
       "        <td id=\"T_7569722b_6f2b_11e8_afd4_9801a791dcdfrow5_col5\" class=\"data row5 col5\" >1</td> \n",
       "    </tr></tbody> \n",
       "</table> "
      ],
      "text/plain": [
       "<pandas.io.formats.style.Styler at 0x111791490>"
      ]
     },
     "execution_count": 255,
     "metadata": {},
     "output_type": "execute_result"
    }
   ],
   "source": [
    "dict_stub = {0: \"broken\", 1: \"fix\", 2:\"laptop\", 3:\"computer\", 4:\"crashed\", 5:\"troubleshoot\"}\n",
    "M_eg = w2v.wv.similarity_matrix(dict_stub)\n",
    "display_term_similarities(dict_stub, M_eg) "
   ]
  },
  {
   "cell_type": "code",
   "execution_count": 256,
   "metadata": {
    "ExecuteTime": {
     "end_time": "2018-06-13T17:01:49.883697Z",
     "start_time": "2018-06-13T17:01:47.905843Z"
    },
    "slideshow": {
     "slide_type": "subslide"
    }
   },
   "outputs": [
    {
     "data": {
      "text/html": [
       "<style  type=\"text/css\" >\n",
       "    #T_7618dd8c_6f2b_11e8_88d9_9801a791dcdf th {\n",
       "          font-size: 30px;\n",
       "    }    #T_7618dd8c_6f2b_11e8_88d9_9801a791dcdf td {\n",
       "          font-size: 30px;\n",
       "    }</style>  \n",
       "<table id=\"T_7618dd8c_6f2b_11e8_88d9_9801a791dcdf\" > \n",
       "<thead>    <tr> \n",
       "        <th class=\"blank level0\" ></th> \n",
       "        <th class=\"col_heading level0 col0\" >2010</th> \n",
       "        <th class=\"col_heading level0 col1\" >7</th> \n",
       "        <th class=\"col_heading level0 col2\" >an</th> \n",
       "        <th class=\"col_heading level0 col3\" >and</th> \n",
       "        <th class=\"col_heading level0 col4\" >but</th> \n",
       "        <th class=\"col_heading level0 col5\" >can</th> \n",
       "        <th class=\"col_heading level0 col6\" >cannot</th> \n",
       "        <th class=\"col_heading level0 col7\" >changing</th> \n",
       "        <th class=\"col_heading level0 col8\" >come</th> \n",
       "        <th class=\"col_heading level0 col9\" >delete</th> \n",
       "        <th class=\"col_heading level0 col10\" >editor</th> \n",
       "        <th class=\"col_heading level0 col11\" >excel</th> \n",
       "        <th class=\"col_heading level0 col12\" >file</th> \n",
       "        <th class=\"col_heading level0 col13\" >for</th> \n",
       "        <th class=\"col_heading level0 col14\" >forgotten</th> \n",
       "        <th class=\"col_heading level0 col15\" >format</th> \n",
       "        <th class=\"col_heading level0 col16\" >get</th> \n",
       "        <th class=\"col_heading level0 col17\" >getting</th> \n",
       "        <th class=\"col_heading level0 col18\" >gobbledy</th> \n",
       "        <th class=\"col_heading level0 col19\" >gook</th> \n",
       "        <th class=\"col_heading level0 col20\" >had</th> \n",
       "        <th class=\"col_heading level0 col21\" >have</th> \n",
       "        <th class=\"col_heading level0 col22\" >i</th> \n",
       "        <th class=\"col_heading level0 col23\" >is</th> \n",
       "        <th class=\"col_heading level0 col24\" >it</th> \n",
       "        <th class=\"col_heading level0 col25\" >line</th> \n",
       "        <th class=\"col_heading level0 col26\" >m</th> \n",
       "        <th class=\"col_heading level0 col27\" >name</th> \n",
       "        <th class=\"col_heading level0 col28\" >need</th> \n",
       "        <th class=\"col_heading level0 col29\" >of</th> \n",
       "        <th class=\"col_heading level0 col30\" >open</th> \n",
       "        <th class=\"col_heading level0 col31\" >opening</th> \n",
       "        <th class=\"col_heading level0 col32\" >password</th> \n",
       "        <th class=\"col_heading level0 col33\" >protected</th> \n",
       "        <th class=\"col_heading level0 col34\" >readable</th> \n",
       "        <th class=\"col_heading level0 col35\" >see</th> \n",
       "        <th class=\"col_heading level0 col36\" >she</th> \n",
       "        <th class=\"col_heading level0 col37\" >so</th> \n",
       "        <th class=\"col_heading level0 col38\" >t</th> \n",
       "        <th class=\"col_heading level0 col39\" >text</th> \n",
       "        <th class=\"col_heading level0 col40\" >the</th> \n",
       "        <th class=\"col_heading level0 col41\" >this</th> \n",
       "        <th class=\"col_heading level0 col42\" >to</th> \n",
       "        <th class=\"col_heading level0 col43\" >tried</th> \n",
       "        <th class=\"col_heading level0 col44\" >unlock</th> \n",
       "        <th class=\"col_heading level0 col45\" >up</th> \n",
       "        <th class=\"col_heading level0 col46\" >user</th> \n",
       "        <th class=\"col_heading level0 col47\" >what</th> \n",
       "        <th class=\"col_heading level0 col48\" >who</th> \n",
       "        <th class=\"col_heading level0 col49\" >with</th> \n",
       "        <th class=\"col_heading level0 col50\" >workbook</th> \n",
       "        <th class=\"col_heading level0 col51\" >xml</th> \n",
       "        <th class=\"col_heading level0 col52\" >zip</th> \n",
       "        <th class=\"col_heading level0 col53\" >2016</th> \n",
       "        <th class=\"col_heading level0 col54\" >any</th> \n",
       "        <th class=\"col_heading level0 col55\" >anybody</th> \n",
       "        <th class=\"col_heading level0 col56\" >at</th> \n",
       "        <th class=\"col_heading level0 col57\" >be</th> \n",
       "        <th class=\"col_heading level0 col58\" >bust</th> \n",
       "        <th class=\"col_heading level0 col59\" >excellent</th> \n",
       "        <th class=\"col_heading level0 col60\" >face</th> \n",
       "        <th class=\"col_heading level0 col61\" >forgot</th> \n",
       "        <th class=\"col_heading level0 col62\" >has</th> \n",
       "        <th class=\"col_heading level0 col63\" >in</th> \n",
       "        <th class=\"col_heading level0 col64\" >least</th> \n",
       "        <th class=\"col_heading level0 col65\" >let</th> \n",
       "        <th class=\"col_heading level0 col66\" >mode</th> \n",
       "        <th class=\"col_heading level0 col67\" >only</th> \n",
       "        <th class=\"col_heading level0 col68\" >palm</th> \n",
       "        <th class=\"col_heading level0 col69\" >read</th> \n",
       "        <th class=\"col_heading level0 col70\" >slick</th> \n",
       "        <th class=\"col_heading level0 col71\" >something</th> \n",
       "        <th class=\"col_heading level0 col72\" >spreadsheet</th> \n",
       "        <th class=\"col_heading level0 col73\" >that</th> \n",
       "        <th class=\"col_heading level0 col74\" >their</th> \n",
       "        <th class=\"col_heading level0 col75\" >them</th> \n",
       "        <th class=\"col_heading level0 col76\" >through</th> \n",
       "        <th class=\"col_heading level0 col77\" >time</th> \n",
       "        <th class=\"col_heading level0 col78\" >tool</th> \n",
       "        <th class=\"col_heading level0 col79\" >will</th> \n",
       "        <th class=\"col_heading level0 col80\" >would</th> \n",
       "        <th class=\"col_heading level0 col81\" >2147</th> \n",
       "        <th class=\"col_heading level0 col82\" >255</th> \n",
       "        <th class=\"col_heading level0 col83\" >256</th> \n",
       "        <th class=\"col_heading level0 col84\" >28v</th> \n",
       "        <th class=\"col_heading level0 col85\" >29.aspx</th> \n",
       "        <th class=\"col_heading level0 col86\" >aes</th> \n",
       "        <th class=\"col_heading level0 col87\" >against</th> \n",
       "        <th class=\"col_heading level0 col88\" >algorithm</th> \n",
       "        <th class=\"col_heading level0 col89\" >are</th> \n",
       "        <th class=\"col_heading level0 col90\" >based</th> \n",
       "        <th class=\"col_heading level0 col91\" >bits</th> \n",
       "        <th class=\"col_heading level0 col92\" >brute</th> \n",
       "        <th class=\"col_heading level0 col93\" >by</th> \n",
       "        <th class=\"col_heading level0 col94\" >cc179125</th> \n",
       "        <th class=\"col_heading level0 col95\" >cipher</th> \n",
       "        <th class=\"col_heading level0 col96\" >cng</th> \n",
       "        <th class=\"col_heading level0 col97\" >configure</th> \n",
       "        <th class=\"col_heading level0 col98\" >create</th> \n",
       "        <th class=\"col_heading level0 col99\" >credentials</th> \n",
       "        <th class=\"col_heading level0 col100\" >curious</th> \n",
       "        <th class=\"col_heading level0 col101\" >default</th> \n",
       "        <th class=\"col_heading level0 col102\" >effectively</th> \n",
       "        <th class=\"col_heading level0 col103\" >email</th> \n",
       "        <th class=\"col_heading level0 col104\" >en</th> \n",
       "        <th class=\"col_heading level0 col105\" >enough</th> \n",
       "        <th class=\"col_heading level0 col106\" >f</th> \n",
       "        <th class=\"col_heading level0 col107\" >files</th> \n",
       "        <th class=\"col_heading level0 col108\" >force</th> \n",
       "        <th class=\"col_heading level0 col109\" >how</th> \n",
       "        <th class=\"col_heading level0 col110\" >if</th> \n",
       "        <th class=\"col_heading level0 col111\" >info</th> \n",
       "        <th class=\"col_heading level0 col112\" >itself</th> \n",
       "        <th class=\"col_heading level0 col113\" >key</th> \n",
       "        <th class=\"col_heading level0 col114\" >lets</th> \n",
       "        <th class=\"col_heading level0 col115\" >library</th> \n",
       "        <th class=\"col_heading level0 col116\" >like</th> \n",
       "        <th class=\"col_heading level0 col117\" >login</th> \n",
       "        <th class=\"col_heading level0 col118\" >looks</th> \n",
       "        <th class=\"col_heading level0 col119\" >mspperror</th> \n",
       "        <th class=\"col_heading level0 col120\" >number</th> \n",
       "        <th class=\"col_heading level0 col121\" >on</th> \n",
       "        <th class=\"col_heading level0 col122\" >once</th> \n",
       "        <th class=\"col_heading level0 col123\" >party</th> \n",
       "        <th class=\"col_heading level0 col124\" >secure</th> \n",
       "        <th class=\"col_heading level0 col125\" >send</th> \n",
       "        <th class=\"col_heading level0 col126\" >sent</th> \n",
       "        <th class=\"col_heading level0 col127\" >service</th> \n",
       "        <th class=\"col_heading level0 col128\" >should</th> \n",
       "        <th class=\"col_heading level0 col129\" >they</th> \n",
       "        <th class=\"col_heading level0 col130\" >third</th> \n",
       "        <th class=\"col_heading level0 col131\" >us</th> \n",
       "        <th class=\"col_heading level0 col132\" >use</th> \n",
       "        <th class=\"col_heading level0 col133\" >used</th> \n",
       "        <th class=\"col_heading level0 col134\" >via</th> \n",
       "        <th class=\"col_heading level0 col135\" >we</th> \n",
       "        <th class=\"col_heading level0 col136\" >when</th> \n",
       "        <th class=\"col_heading level0 col137\" >where</th> \n",
       "        <th class=\"col_heading level0 col138\" >which</th> \n",
       "        <th class=\"col_heading level0 col139\" >while</th> \n",
       "        <th class=\"col_heading level0 col140\" >you</th> \n",
       "    </tr></thead> \n",
       "<tbody>    <tr> \n",
       "        <th id=\"T_7618dd8c_6f2b_11e8_88d9_9801a791dcdflevel0_row0\" class=\"row_heading level0 row0\" >2010</th> \n",
       "        <td id=\"T_7618dd8c_6f2b_11e8_88d9_9801a791dcdfrow0_col0\" class=\"data row0 col0\" >1</td> \n",
       "        <td id=\"T_7618dd8c_6f2b_11e8_88d9_9801a791dcdfrow0_col1\" class=\"data row0 col1\" >0</td> \n",
       "        <td id=\"T_7618dd8c_6f2b_11e8_88d9_9801a791dcdfrow0_col2\" class=\"data row0 col2\" >0</td> \n",
       "        <td id=\"T_7618dd8c_6f2b_11e8_88d9_9801a791dcdfrow0_col3\" class=\"data row0 col3\" >0</td> \n",
       "        <td id=\"T_7618dd8c_6f2b_11e8_88d9_9801a791dcdfrow0_col4\" class=\"data row0 col4\" >0</td> \n",
       "        <td id=\"T_7618dd8c_6f2b_11e8_88d9_9801a791dcdfrow0_col5\" class=\"data row0 col5\" >0</td> \n",
       "        <td id=\"T_7618dd8c_6f2b_11e8_88d9_9801a791dcdfrow0_col6\" class=\"data row0 col6\" >0</td> \n",
       "        <td id=\"T_7618dd8c_6f2b_11e8_88d9_9801a791dcdfrow0_col7\" class=\"data row0 col7\" >0</td> \n",
       "        <td id=\"T_7618dd8c_6f2b_11e8_88d9_9801a791dcdfrow0_col8\" class=\"data row0 col8\" >0</td> \n",
       "        <td id=\"T_7618dd8c_6f2b_11e8_88d9_9801a791dcdfrow0_col9\" class=\"data row0 col9\" >0</td> \n",
       "        <td id=\"T_7618dd8c_6f2b_11e8_88d9_9801a791dcdfrow0_col10\" class=\"data row0 col10\" >0</td> \n",
       "        <td id=\"T_7618dd8c_6f2b_11e8_88d9_9801a791dcdfrow0_col11\" class=\"data row0 col11\" >0</td> \n",
       "        <td id=\"T_7618dd8c_6f2b_11e8_88d9_9801a791dcdfrow0_col12\" class=\"data row0 col12\" >0</td> \n",
       "        <td id=\"T_7618dd8c_6f2b_11e8_88d9_9801a791dcdfrow0_col13\" class=\"data row0 col13\" >0</td> \n",
       "        <td id=\"T_7618dd8c_"
      ],
      "text/plain": [
       "<pandas.io.formats.style.Styler at 0x12b8d40d0>"
      ]
     },
     "execution_count": 256,
     "metadata": {},
     "output_type": "execute_result"
    },
    {
     "data": {
      "text/html": [
       "<b>limit_output extension: Maximum message size of 10000 exceeded with 2053843 characters</b>"
      ]
     },
     "metadata": {},
     "output_type": "display_data"
    }
   ],
   "source": [
    "target_corpus = custom_target_corpus\n",
    "M_w2v = w2v.wv.similarity_matrix(target_corpus.dictionary)\n",
    "M_ftx = ftx.wv.similarity_matrix(target_corpus.dictionary)\n",
    "display_term_similarities(target_corpus.dictionary, M_ftx)"
   ]
  },
  {
   "cell_type": "markdown",
   "metadata": {
    "hidden": true,
    "slideshow": {
     "slide_type": "subslide"
    }
   },
   "source": [
    "## Soft Cosine Similarity\n",
    "$M$: Term-similarity matrix, $N\\times N$ dimensional\n",
    "\n",
    "$$ \\cos_M (X_1, X_2) = \\frac{X_1^T M X_2}{\\sqrt{X_1^T M X_1}\\sqrt{X_2^T M X_2}}$$"
   ]
  },
  {
   "cell_type": "code",
   "execution_count": 257,
   "metadata": {
    "ExecuteTime": {
     "end_time": "2018-06-13T17:01:54.522379Z",
     "start_time": "2018-06-13T17:01:49.889904Z"
    },
    "slideshow": {
     "slide_type": "subslide"
    }
   },
   "outputs": [],
   "source": [
    "target_corpus = custom_target_corpus\n",
    "training_tfidf = get_training_tfidf(target_corpus)\n",
    "doc_w2vsim_index = gensim.similarities.SoftCosineSimilarity(training_tfidf, M_w2v)\n",
    "doc_ftxsim_index = gensim.similarities.SoftCosineSimilarity(training_tfidf, M_ftx)"
   ]
  },
  {
   "cell_type": "code",
   "execution_count": 258,
   "metadata": {
    "ExecuteTime": {
     "end_time": "2018-06-13T17:01:54.571015Z",
     "start_time": "2018-06-13T17:01:54.526755Z"
    },
    "slideshow": {
     "slide_type": "fragment"
    }
   },
   "outputs": [
    {
     "name": "stdout",
     "output_type": "stream",
     "text": [
      "[[1.         0.43940267 0.26646875]\n",
      " [0.43940267 1.         0.28200864]\n",
      " [0.26646873 0.28200864 1.        ]]\n"
     ]
    }
   ],
   "source": [
    "# Current master branch now accepts corpus object instead of a list\n",
    "print(doc_w2vsim_index[[bow for bow in training_tfidf]])"
   ]
  },
  {
   "cell_type": "code",
   "execution_count": 259,
   "metadata": {
    "ExecuteTime": {
     "end_time": "2018-06-13T17:01:54.600347Z",
     "start_time": "2018-06-13T17:01:54.575354Z"
    },
    "scrolled": true,
    "slideshow": {
     "slide_type": "fragment"
    }
   },
   "outputs": [
    {
     "name": "stdout",
     "output_type": "stream",
     "text": [
      "[[1.         0.43139103 0.25524559]\n",
      " [0.43139106 1.         0.28962182]\n",
      " [0.25524562 0.28962182 1.        ]]\n"
     ]
    }
   ],
   "source": [
    "print(doc_ftxsim_index[[bow for bow in training_tfidf]])"
   ]
  },
  {
   "cell_type": "markdown",
   "metadata": {
    "slideshow": {
     "slide_type": "slide"
    }
   },
   "source": [
    "# Supervised Model"
   ]
  },
  {
   "cell_type": "markdown",
   "metadata": {
    "slideshow": {
     "slide_type": "subslide"
    }
   },
   "source": [
    "## Score Variations\n",
    "\n",
    "### Preprocessing \n",
    "- Default, Custom, Variations\n",
    "\n",
    "### Target Corpus\n",
    "- Questions, Topics, Posts, Subjects, Combinations\n",
    "\n",
    "### Training Corpus\n",
    "- Community,  Serverfault, Superuser\n",
    "\n",
    "### Word  Vector \n",
    "- Characters,  Fasttext,  Word2vec, Various Parameters\n",
    "\n",
    "### Document Vector\n",
    "- Word Count, Tf-idf, Weighted-Avg Word2vec\n",
    "\n",
    "### Word  Similarity\n",
    "- Levenstein, Cosine\n",
    "\n",
    "### Document Similarity \n",
    "- Cosine, Softcosine"
   ]
  },
  {
   "cell_type": "markdown",
   "metadata": {
    "slideshow": {
     "slide_type": "subslide"
    }
   },
   "source": [
    "## Model Setup\n",
    "$$\n",
    "\\begin{array}{r|llll}\n",
    "                   & \\cos_{M_{w2v}} & \\cos_{M_{ftx}} & \\cos_{M_{lev}} & \\textbf{label}\\\\\\hline\n",
    "\\textbf{doc1, doc2} & 0.55085301 & 0.64283401 & \\cdots & 1\\\\\n",
    "\\textbf{doc1, doc3} & 0.40678137 & 0.52912646 & \\cdots & 0 \\\\\n",
    "\\textbf{doc2, doc3} & 0.37607284 & 0.49222433 & \\cdots & 0\n",
    "\\end{array}\n",
    "$$\n",
    "\n",
    "- Train some standard regressors on selected features to obtain a final score\n",
    "- Leverage Human-in-the-Loop patterns to grow repository of training data"
   ]
  },
  {
   "cell_type": "markdown",
   "metadata": {
    "slideshow": {
     "slide_type": "slide"
    }
   },
   "source": [
    "\n",
    "# Question Clustering"
   ]
  },
  {
   "cell_type": "markdown",
   "metadata": {
    "slideshow": {
     "slide_type": "subslide"
    }
   },
   "source": [
    "Once we have document similarity scores, how do we choose what goes together? "
   ]
  },
  {
   "cell_type": "markdown",
   "metadata": {
    "slideshow": {
     "slide_type": "subslide"
    }
   },
   "source": [
    "View as weighted edges in a graph:\n",
    "\n",
    "$$\n",
    "\\begin{array}{r|l}\n",
    "                      & \\cos_{M_{w2v}}\\\\\\hline\n",
    "\\textbf{(doc1, doc2)} & 0.55085301 \\\\\n",
    "\\textbf{(doc1, doc3)} & 0.40678137 \\\\\n",
    "\\textbf{(doc2, doc3)} & 0.37607284\n",
    "\\end{array}\n",
    "$$"
   ]
  },
  {
   "cell_type": "code",
   "execution_count": 260,
   "metadata": {
    "ExecuteTime": {
     "end_time": "2018-06-13T17:01:54.648431Z",
     "start_time": "2018-06-13T17:01:54.604789Z"
    },
    "slideshow": {
     "slide_type": "subslide"
    }
   },
   "outputs": [],
   "source": [
    "doc_w2vsim = doc_w2vsim_index[[bow for bow in training_tfidf]]\n",
    "w2vsim_df = pd.DataFrame([[1, 2, doc_w2vsim[0,1]],\n",
    "                          [1, 3, doc_w2vsim[0,2]],\n",
    "                          [2, 3, doc_w2vsim[1,2]]], \n",
    "                         columns=[\"s\", \"f\", \"weight\"])\n",
    "\n",
    "import matplotlib.pyplot as plt\n",
    "%matplotlib inline\n",
    "import networkx as nx\n",
    "G=nx.Graph()\n",
    "G.add_weighted_edges_from(w2vsim_df.values)"
   ]
  },
  {
   "cell_type": "code",
   "execution_count": 261,
   "metadata": {
    "ExecuteTime": {
     "end_time": "2018-06-13T17:01:55.157534Z",
     "start_time": "2018-06-13T17:01:54.653221Z"
    }
   },
   "outputs": [
    {
     "data": {
      "text/plain": [
       "(-1.0334074806943085,\n",
       " 1.1338368790860103,\n",
       " -0.7386912427851797,\n",
       " 1.1589735901857394)"
      ]
     },
     "execution_count": 261,
     "metadata": {},
     "output_type": "execute_result"
    },
    {
     "data": {
      "image/png": "[encoded data removed]",
      "text/plain": [
       "<Figure size 432x288 with 1 Axes>"
      ]
     },
     "metadata": {},
     "output_type": "display_data"
    }
   ],
   "source": [
    "pos=nx.spring_layout(G)\n",
    "\n",
    "nx.draw_networkx_edges(G,pos, edgelist=G.edges, width=5, arrowsize=100)\n",
    "nx.draw_networkx_nodes(G,pos, node_size=1000)\n",
    "nx.draw_networkx_labels(G,pos, font_size=16)\n",
    "plt.axis('off')"
   ]
  },
  {
   "cell_type": "markdown",
   "metadata": {
    "slideshow": {
     "slide_type": "slide"
    }
   },
   "source": [
    "# Business Impact"
   ]
  },
  {
   "cell_type": "markdown",
   "metadata": {
    "slideshow": {
     "slide_type": "subslide"
    }
   },
   "source": [
    "## Impact of Curating Similar Questions"
   ]
  },
  {
   "cell_type": "markdown",
   "metadata": {
    "slideshow": {
     "slide_type": "fragment"
    }
   },
   "source": [
    "Preliminary experiments showed **30-40% lift in engagement** (pageviews per unique, per week) by conveniently showing users answers to similar questions asked on the site. "
   ]
  },
  {
   "cell_type": "markdown",
   "metadata": {
    "slideshow": {
     "slide_type": "subslide"
    }
   },
   "source": [
    "## Impact of Improving the Model"
   ]
  },
  {
   "cell_type": "markdown",
   "metadata": {
    "slideshow": {
     "slide_type": "fragment"
    }
   },
   "source": [
    "- Semi-manually vetted clusters: **23% lift in engagement** \n",
    "- Unvetted clusters: **16% lift in engagement** \n",
    "\n",
    "(*Early Data*)"
   ]
  },
  {
   "cell_type": "markdown",
   "metadata": {
    "slideshow": {
     "slide_type": "slide"
    }
   },
   "source": [
    "# Future Work"
   ]
  },
  {
   "cell_type": "markdown",
   "metadata": {
    "slideshow": {
     "slide_type": "subslide"
    }
   },
   "source": [
    "- Add text from relevant Stackexchange API's to training corpus (e.g. serverfault, superuser etc.)\n",
    "- Train supervised model\n",
    "- Alternative clustering algorithms"
   ]
  },
  {
   "cell_type": "markdown",
   "metadata": {
    "slideshow": {
     "slide_type": "slide"
    }
   },
   "source": [
    "<img src=\"images/top_10_graph.png\" width=\"1000px\" style=\"float: top;\"/>"
   ]
  }
 ],
 "metadata": {
  "celltoolbar": "Slideshow",
  "hide_input": false,
  "kernelspec": {
   "display_name": "Python 2",
   "language": "python",
   "name": "python2"
  },
  "language_info": {
   "codemirror_mode": {
    "name": "ipython",
    "version": 2
   },
   "file_extension": ".py",
   "mimetype": "text/x-python",
   "name": "python",
   "nbconvert_exporter": "python",
   "pygments_lexer": "ipython2",
   "version": "2.7.13"
  },
  "latex_envs": {
   "LaTeX_envs_menu_present": true,
   "autoclose": false,
   "autocomplete": true,
   "bibliofile": "biblio.bib",
   "cite_by": "apalike",
   "current_citInitial": 1,
   "eqLabelWithNumbers": true,
   "eqNumInitial": 1,
   "hotkeys": {
    "equation": "Ctrl-E",
    "itemize": "Ctrl-I"
   },
   "labels_anchors": false,
   "latex_user_defs": false,
   "report_style_numbering": false,
   "user_envs_cfg": false
  },
  "livereveal": {
   "scroll": true
  }
 },
 "nbformat": 4,
 "nbformat_minor": 1
}
