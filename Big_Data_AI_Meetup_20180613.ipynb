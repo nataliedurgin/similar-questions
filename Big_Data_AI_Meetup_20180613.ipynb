{
 "cells": [
  {
   "cell_type": "markdown",
   "metadata": {
    "collapsed": true
   },
   "source": [
    "# Notes\n",
    "- Write code to train word embedding models, but don't commit the models, just leave a stub of a file that the model would ingest (do some cbow, skip-gram, fasttext, and maybe an edit-distance for some example terms.)\n"
   ]
  },
  {
   "cell_type": "markdown",
   "metadata": {},
   "source": [
    "# Talk Title Here"
   ]
  },
  {
   "cell_type": "markdown",
   "metadata": {},
   "source": [
    "**Main Reference** SimBow at SemEval-2017 Task 3: Soft-Cosine Semantic Similarity\n",
    "between Questions for Community Question Answering http://www.aclweb.org/anthology/S17-2051\n",
    "\n",
    "**Gensim Softcosine Notebook** https://github.com/RaRe-Technologies/gensim/blob/develop/docs/notebooks/soft_cosine_tutorial.ipynb"
   ]
  },
  {
   "cell_type": "markdown",
   "metadata": {},
   "source": [
    "## Introduction"
   ]
  },
  {
   "cell_type": "markdown",
   "metadata": {},
   "source": [
    "### Community Question Answering"
   ]
  },
  {
   "cell_type": "markdown",
   "metadata": {},
   "source": [
    "## Documents and their Vector Space Represenations"
   ]
  },
  {
   "cell_type": "markdown",
   "metadata": {},
   "source": [
    "**Word**, **Term**, **Token** := Collection of characters (allowable collections depend upon preprocessing choices) \n",
    "\n",
    "**Document** := Collection of words\n",
    "\n",
    "**Corpus** := Collection of documents\n",
    "\n",
    "**Vocabulary** := Collection of distinct terms that appear in a corpus"
   ]
  },
  {
   "cell_type": "markdown",
   "metadata": {},
   "source": [
    "#### Example Document 1"
   ]
  },
  {
   "cell_type": "markdown",
   "metadata": {},
   "source": [
    "- **URL**: https://community.spiceworks.com/topic/328118\n",
    "- **Subject**: need to unlock a password protected Excel 2010 workbook\n",
    "- **Body**: I have a user who had forgotten the password for an Excel 2010 file.  She cannot open it.  I tried changing the name to a zip file and opening the workbook file with an xml editor, but I can't get a readable format to come up so I can see the line of text with the password (so I can delete it).  What I'm getting is this gobbledy-gook: ºʝZܡ M/ؽ(+蝤¤7"
   ]
  },
  {
   "cell_type": "markdown",
   "metadata": {},
   "source": [
    "#### Example Document 2"
   ]
  },
  {
   "cell_type": "markdown",
   "metadata": {},
   "source": [
    "- **URL**: https://community.spiceworks.com/topic/1766186\n",
    "- **Subject**: Password protected Excel 2016 spreadsheet---user forgot password!\n",
    "- **Body**: Face palm time.  A user has forgotten their password to an Excel 2016 spreadsheet. Anybody have any slick tool that will at least let them open in read-only mode?  Something to bust through the password would be excellent."
   ]
  },
  {
   "cell_type": "markdown",
   "metadata": {},
   "source": [
    "#### Example Document 3"
   ]
  },
  {
   "cell_type": "markdown",
   "metadata": {},
   "source": [
    "- **URL**: https://community.spiceworks.com/topic/1984626\n",
    "- **Subject**: How secure are password protected Excel files?\n",
    "- **Body**: \\__img\\__ Once in a while if we need to send credentials to a third party we will use password protected Excel files sent via secure email (third party service where they have to login to see the email). I'm curious if the Excel file is secure enough by itself? Based on this info it looks like the default for Excel 2016 will be AES 256, which should be effectively secure at least against a brute force attack. \\__url\\__ \"Lets you configure the CNG cipher algorithm that is used. The default is AES.\" \" Lets you configure the number of bits to use when you create the cipher key. The default is 256 bits.\""
   ]
  },
  {
   "cell_type": "markdown",
   "metadata": {},
   "source": [
    "We choose to concatinate subject and body "
   ]
  },
  {
   "cell_type": "code",
   "execution_count": 67,
   "metadata": {
    "collapsed": false
   },
   "outputs": [],
   "source": [
    "doc1 = 'need to unlock a password protected Excel 2010 workbook I have a user who had forgotten the password for an Excel 2010 file.  She cannot open it.  I tried changing the name to a zip file and opening the workbook file with an xml editor, but I can\\'t get a readable format to come up so I can see the line of text with the password (so I can delete it).  What I\\'m getting is this gobbledy-gook: ºʝZܡ M/ؽ(+蝤¤7'\n",
    "doc2 = 'Password protected Excel 2016 spreadsheet---user forgot password! Face palm time.  A user has forgotten their password to an Excel 2016 spreadsheet. Anybody have any slick tool that will at least let them open in read-only mode? Something to bust through the password would be excellent.'\n",
    "doc3 = 'How secure are password protected Excel files? __img__ Once in a while if we need to send credentials to a third party we will use password protected Excel files sent via secure email (third party service where they have to login to see the email). I\\'m curious if the Excel file is secure enough by itself? Based on this info it looks like the default for Excel 2016 will be AES 256, which should be effectively secure at least against a brute force attack. __url__ \"Lets you configure the CNG cipher algorithm that is used. The default is AES.\" \" Lets you configure the number of bits to use when you create the cipher key. The default is 256 bits.\"'\n",
    "docs = [doc1, doc2, doc3]"
   ]
  },
  {
   "cell_type": "markdown",
   "metadata": {},
   "source": [
    "### Preprocessing\n",
    "- Do you keep punctuation?\n",
    "- Do you preserve letter case?\n",
    "- Do you remove stopwords? \n",
    "- Do you impose minimum word frequencies? \n",
    "- Do you stem tokens? \n",
    "\n",
    "Results can be sensitive to these choices to varying extents. These choices will likely be different for each corpus and application. "
   ]
  },
  {
   "cell_type": "markdown",
   "metadata": {},
   "source": [
    "#### Gensim Default Preprocessing"
   ]
  },
  {
   "cell_type": "code",
   "execution_count": 123,
   "metadata": {
    "collapsed": false
   },
   "outputs": [],
   "source": [
    "import os\n",
    "from gensim.corpora import TextCorpus\n",
    "DATA_DIR = 'data'\n",
    "\n",
    "# Helper IO Function\n",
    "def list2txt(doc_list, filename):\n",
    "    filepath = os.path.join(DATA_DIR, filename)\n",
    "    outfile = open(filepath, 'w')\n",
    "    outfile.write(\"\\n\".join(doc_list))\n",
    "    return filepath"
   ]
  },
  {
   "cell_type": "code",
   "execution_count": 124,
   "metadata": {
    "collapsed": true
   },
   "outputs": [],
   "source": [
    "default_target_corpus = TextCorpus(list2txt(docs, 'raw.txt'))"
   ]
  },
  {
   "cell_type": "code",
   "execution_count": 125,
   "metadata": {
    "collapsed": false,
    "scrolled": true
   },
   "outputs": [
    {
     "data": {
      "text/plain": [
       "{0: u'changing',\n",
       " 1: u'come',\n",
       " 2: u'delete',\n",
       " 3: u'editor',\n",
       " 4: u'excel',\n",
       " 5: u'file',\n",
       " 6: u'forgotten',\n",
       " 7: u'format',\n",
       " 8: u'getting',\n",
       " 9: u'gobbledy',\n",
       " 10: u'gook',\n",
       " 11: u'line',\n",
       " 12: u'need',\n",
       " 13: u'open',\n",
       " 14: u'opening',\n",
       " 15: u'password',\n",
       " 16: u'protected',\n",
       " 17: u'readable',\n",
       " 18: u'text',\n",
       " 19: u'tried',\n",
       " 20: u'unlock',\n",
       " 21: u'user',\n",
       " 22: u'workbook',\n",
       " 23: u'xml',\n",
       " 24: u'zip',\n",
       " 25: u'anybody',\n",
       " 26: u'bust',\n",
       " 27: u'excellent',\n",
       " 28: u'face',\n",
       " 29: u'forgot',\n",
       " 30: u'let',\n",
       " 31: u'mode',\n",
       " 32: u'palm',\n",
       " 33: u'read',\n",
       " 34: u'slick',\n",
       " 35: u'spreadsheet',\n",
       " 36: u'time',\n",
       " 37: u'tool',\n",
       " 38: u'__img__',\n",
       " 39: u'__url__',\n",
       " 40: u'aes',\n",
       " 41: u'algorithm',\n",
       " 42: u'attack',\n",
       " 43: u'based',\n",
       " 44: u'bits',\n",
       " 45: u'brute',\n",
       " 46: u'cipher',\n",
       " 47: u'cng',\n",
       " 48: u'configure',\n",
       " 49: u'create',\n",
       " 50: u'credentials',\n",
       " 51: u'curious',\n",
       " 52: u'default',\n",
       " 53: u'effectively',\n",
       " 54: u'email',\n",
       " 55: u'files',\n",
       " 56: u'force',\n",
       " 57: u'info',\n",
       " 58: u'key',\n",
       " 59: u'lets',\n",
       " 60: u'like',\n",
       " 61: u'login',\n",
       " 62: u'looks',\n",
       " 63: u'number',\n",
       " 64: u'party',\n",
       " 65: u'secure',\n",
       " 66: u'send',\n",
       " 67: u'sent',\n",
       " 68: u'service',\n",
       " 69: u'use'}"
      ]
     },
     "execution_count": 125,
     "metadata": {},
     "output_type": "execute_result"
    }
   ],
   "source": [
    "default_target_corpus.dictionary.items()\n",
    "default_target_corpus.dictionary.id2token"
   ]
  },
  {
   "cell_type": "markdown",
   "metadata": {},
   "source": [
    "Vocabular terms are indexed in order of appearence in the corpus"
   ]
  },
  {
   "cell_type": "markdown",
   "metadata": {},
   "source": [
    "#### Custom Preprocessing"
   ]
  },
  {
   "cell_type": "code",
   "execution_count": 126,
   "metadata": {
    "collapsed": false
   },
   "outputs": [],
   "source": [
    "import re # python regular expression library\n",
    "import bs4 # python html parsing library \"beautiful soup\" \n",
    "\n",
    "# Sample custom preprocessing sequence\n",
    "DELIMITER_PATTERN = u'[!?,;:\\t\\\\\\\\\"\\\\(\\\\)\\\\\\'\\u2026\\u201c\\u2013\\u2019\\u2026\\n]|\\\\s\\\\-\\\\s|\\.\\s'\n",
    "TOKEN_PATTERN = r'(?u)[a-zA-Z\\_][a-zA-Z0-9\\_]*|[0-9][a-zA-Z0-9.]*\\b'\n",
    "\n",
    "def html_parser(html):\n",
    "#     try:\n",
    "    html = re.sub(r'[^\\x00-\\x7f]', r'', html).strip().replace('+', '')\n",
    "    text = bs4.BeautifulSoup(html, \"html.parser\").get_text()\n",
    "    text = re.sub(r'[^\\x00-\\x7f]', r'', text).strip()\n",
    "    return text\n",
    "#     except:\n",
    "#         return ''\n",
    "    \n",
    "def split_sentences(doc):\n",
    "    try:\n",
    "        delimiters = re.compile(DELIMITER_PATTERN)\n",
    "        sentences = delimiters.split(doc)\n",
    "        return sentences\n",
    "    except:\n",
    "        return []\n",
    "\n",
    "def tokenizer(sentence, token_pattern=TOKEN_PATTERN, lowercase=True):\n",
    "    try:\n",
    "        token_pattern = re.compile(token_pattern)\n",
    "        if lowercase:\n",
    "            sentence = sentence.lower()\n",
    "        return token_pattern.findall(sentence)\n",
    "\n",
    "    except:\n",
    "        return []\n",
    "\n",
    "def clean_text(html, lowercase=True):\n",
    "    text = html_parser(html)\n",
    "    if lowercase:\n",
    "        text = text.lower()\n",
    "\n",
    "    sents = split_sentences(text)\n",
    "    sents = [' '.join(tokenizer(sent, lowercase=lowercase)) for sent in sents]\n",
    "    try:\n",
    "        sents = map(lambda x: x.strip(), sents)\n",
    "    except:\n",
    "        pass\n",
    "    try:\n",
    "        sents = [sent for sent in sents if len(sent) > 0]\n",
    "    except:\n",
    "        pass\n",
    "    return ' '.join(sents)\n",
    "\n",
    "# Subclass gensim TextCorpus object to apply custom preprocesing\n",
    "# Preprocessing functions need to be efficient if performance is a concern!\n",
    "class CustomTextCorpus(TextCorpus):\n",
    "  def get_texts(self):\n",
    "    for doc in self.getstream():\n",
    "        yield [word for word in clean_text(doc).split()]\n",
    "  def __len__(self):\n",
    "    self.length = sum(1 for _ in self.get_texts())\n",
    "    return self.length"
   ]
  },
  {
   "cell_type": "code",
   "execution_count": 127,
   "metadata": {
    "collapsed": false
   },
   "outputs": [
    {
     "data": {
      "text/plain": [
       "u'password protected excel 2016 spreadsheet user forgot password face palm time a user has forgotten their password to an excel 2016 spreadsheet anybody have any slick tool that will at least let them open in read only mode something to bust through the password would be excellent'"
      ]
     },
     "execution_count": 127,
     "metadata": {},
     "output_type": "execute_result"
    }
   ],
   "source": [
    "clean_text(doc2)"
   ]
  },
  {
   "cell_type": "code",
   "execution_count": 128,
   "metadata": {
    "collapsed": false
   },
   "outputs": [],
   "source": [
    "preprocessed_docs = [clean_text(doc) for doc in docs]\n",
    "custom_target_corpus = CustomTextCorpus(list2txt(preprocessed_docs, 'preprocessed.txt'))"
   ]
  },
  {
   "cell_type": "code",
   "execution_count": 129,
   "metadata": {
    "collapsed": false
   },
   "outputs": [
    {
     "data": {
      "text/plain": [
       "{0: u'2010',\n",
       " 1: u'7',\n",
       " 2: u'a',\n",
       " 3: u'an',\n",
       " 4: u'and',\n",
       " 5: u'but',\n",
       " 6: u'can',\n",
       " 7: u'cannot',\n",
       " 8: u'changing',\n",
       " 9: u'come',\n",
       " 10: u'delete',\n",
       " 11: u'editor',\n",
       " 12: u'excel',\n",
       " 13: u'file',\n",
       " 14: u'for',\n",
       " 15: u'forgotten',\n",
       " 16: u'format',\n",
       " 17: u'get',\n",
       " 18: u'getting',\n",
       " 19: u'gobbledy',\n",
       " 20: u'gook',\n",
       " 21: u'had',\n",
       " 22: u'have',\n",
       " 23: u'i',\n",
       " 24: u'is',\n",
       " 25: u'it',\n",
       " 26: u'line',\n",
       " 27: u'm',\n",
       " 28: u'name',\n",
       " 29: u'need',\n",
       " 30: u'of',\n",
       " 31: u'open',\n",
       " 32: u'opening',\n",
       " 33: u'password',\n",
       " 34: u'protected',\n",
       " 35: u'readable',\n",
       " 36: u'see',\n",
       " 37: u'she',\n",
       " 38: u'so',\n",
       " 39: u't',\n",
       " 40: u'text',\n",
       " 41: u'the',\n",
       " 42: u'this',\n",
       " 43: u'to',\n",
       " 44: u'tried',\n",
       " 45: u'unlock',\n",
       " 46: u'up',\n",
       " 47: u'user',\n",
       " 48: u'what',\n",
       " 49: u'who',\n",
       " 50: u'with',\n",
       " 51: u'workbook',\n",
       " 52: u'xml',\n",
       " 53: u'z',\n",
       " 54: u'zip',\n",
       " 55: u'2016',\n",
       " 56: u'any',\n",
       " 57: u'anybody',\n",
       " 58: u'at',\n",
       " 59: u'be',\n",
       " 60: u'bust',\n",
       " 61: u'excellent',\n",
       " 62: u'face',\n",
       " 63: u'forgot',\n",
       " 64: u'has',\n",
       " 65: u'in',\n",
       " 66: u'least',\n",
       " 67: u'let',\n",
       " 68: u'mode',\n",
       " 69: u'only',\n",
       " 70: u'palm',\n",
       " 71: u'read',\n",
       " 72: u'slick',\n",
       " 73: u'something',\n",
       " 74: u'spreadsheet',\n",
       " 75: u'that',\n",
       " 76: u'their',\n",
       " 77: u'them',\n",
       " 78: u'through',\n",
       " 79: u'time',\n",
       " 80: u'tool',\n",
       " 81: u'will',\n",
       " 82: u'would',\n",
       " 83: u'256',\n",
       " 84: u'__img__',\n",
       " 85: u'__url__',\n",
       " 86: u'aes',\n",
       " 87: u'against',\n",
       " 88: u'algorithm',\n",
       " 89: u'are',\n",
       " 90: u'attack',\n",
       " 91: u'based',\n",
       " 92: u'bits',\n",
       " 93: u'brute',\n",
       " 94: u'by',\n",
       " 95: u'cipher',\n",
       " 96: u'cng',\n",
       " 97: u'configure',\n",
       " 98: u'create',\n",
       " 99: u'credentials',\n",
       " 100: u'curious',\n",
       " 101: u'default',\n",
       " 102: u'effectively',\n",
       " 103: u'email',\n",
       " 104: u'enough',\n",
       " 105: u'files',\n",
       " 106: u'force',\n",
       " 107: u'how',\n",
       " 108: u'if',\n",
       " 109: u'info',\n",
       " 110: u'itself',\n",
       " 111: u'key',\n",
       " 112: u'lets',\n",
       " 113: u'like',\n",
       " 114: u'login',\n",
       " 115: u'looks',\n",
       " 116: u'number',\n",
       " 117: u'on',\n",
       " 118: u'once',\n",
       " 119: u'party',\n",
       " 120: u'secure',\n",
       " 121: u'send',\n",
       " 122: u'sent',\n",
       " 123: u'service',\n",
       " 124: u'should',\n",
       " 125: u'they',\n",
       " 126: u'third',\n",
       " 127: u'use',\n",
       " 128: u'used',\n",
       " 129: u'via',\n",
       " 130: u'we',\n",
       " 131: u'when',\n",
       " 132: u'where',\n",
       " 133: u'which',\n",
       " 134: u'while',\n",
       " 135: u'you'}"
      ]
     },
     "execution_count": 129,
     "metadata": {},
     "output_type": "execute_result"
    }
   ],
   "source": [
    "custom_target_corpus.dictionary.items()\n",
    "custom_target_corpus.dictionary.id2token"
   ]
  },
  {
   "cell_type": "code",
   "execution_count": null,
   "metadata": {
    "collapsed": true
   },
   "outputs": [],
   "source": []
  },
  {
   "cell_type": "markdown",
   "metadata": {},
   "source": [
    "### Document Vectors"
   ]
  },
  {
   "cell_type": "markdown",
   "metadata": {},
   "source": [
    "## Document Similarity"
   ]
  },
  {
   "cell_type": "markdown",
   "metadata": {},
   "source": [
    "#### Notation\n",
    "- $N$: Size of the vocabulary \n",
    "- $X_1, X_2$: Document vectors, $N\\times 1$ dimensional  \n",
    "- $M$: Term-similarity matrix, $N\\times N$ dimensional"
   ]
  },
  {
   "cell_type": "markdown",
   "metadata": {},
   "source": [
    "#### Dot Product\n",
    "Sum of the pairwise products,\n",
    "\n",
    "$$X_1\\cdot X_2 = \\begin{pmatrix}X_{11} \\\\ \\vdots \\\\ X_{1N}\\end{pmatrix} \\cdot \\begin{pmatrix}X_{21} \\\\ \\vdots \\\\ X_{2N}\\end{pmatrix}= X_{11} (X_{21}) + X_{12}(X_{22}) + \\cdots + X_{1N}(X_{2N}) = \\sum_{i=1}^N X_{1i}(X_{2i}).$$\n",
    "\n",
    "Example, \n",
    "\n",
    "$$\\begin{pmatrix}1 \\\\ 2 \\\\ 3 \\end{pmatrix} \\cdot \\begin{pmatrix} 0\\\\ 1\\\\ 1 \\end{pmatrix} = 1(0)+2(1)+3(1)=5.$$"
   ]
  },
  {
   "cell_type": "markdown",
   "metadata": {},
   "source": [
    "#### Cosine Similarity\n",
    "$$\n",
    "\\begin{eqnarray} \n",
    "\\cos(X_1, X_2) &=& \\frac{X_1\\cdot X_2}{||X_1||\\text{ }||X_2||}\\\\\n",
    "               &=& \\frac{X_1^T X_2}{\\sqrt{X_1^T X_1}\\sqrt{X_2^T X_2}}\n",
    "\\end{eqnarray}\n",
    "$$"
   ]
  },
  {
   "cell_type": "markdown",
   "metadata": {},
   "source": [
    "#### Soft Cosine Similarity\n",
    "$$ \\cos_M (X_1, X_2) = \\frac{X_1^T M X_2}{\\sqrt{X_1^T M X_1}\\sqrt{X_2^T M X_2}}$$"
   ]
  },
  {
   "cell_type": "code",
   "execution_count": null,
   "metadata": {
    "collapsed": true
   },
   "outputs": [],
   "source": []
  },
  {
   "cell_type": "code",
   "execution_count": null,
   "metadata": {
    "collapsed": true
   },
   "outputs": [],
   "source": []
  },
  {
   "cell_type": "code",
   "execution_count": null,
   "metadata": {
    "collapsed": true
   },
   "outputs": [],
   "source": []
  },
  {
   "cell_type": "markdown",
   "metadata": {},
   "source": [
    "We include code needed to generate the word-embedding models in the [appendix](#appendix)"
   ]
  },
  {
   "cell_type": "markdown",
   "metadata": {},
   "source": [
    "## Appendix <a name=\"appendix\"></a>"
   ]
  },
  {
   "cell_type": "markdown",
   "metadata": {},
   "source": [
    "## Imports"
   ]
  },
  {
   "cell_type": "code",
   "execution_count": null,
   "metadata": {
    "collapsed": true
   },
   "outputs": [],
   "source": [
    "import bs4\n",
    "import re\n",
    "import csv\n",
    "import os\n",
    "import json\n",
    "import pandas as pd\n",
    "import gensim\n",
    "from gensim.interfaces import TransformationABC\n",
    "import scipy as sp\n",
    "from sklearn.metrics.pairwise import linear_kernel\n",
    "import sqlalchemy"
   ]
  },
  {
   "cell_type": "markdown",
   "metadata": {},
   "source": [
    "<img src=\"images/top_10_graph.png\">"
   ]
  },
  {
   "cell_type": "code",
   "execution_count": null,
   "metadata": {
    "collapsed": true
   },
   "outputs": [],
   "source": []
  }
 ],
 "metadata": {
  "kernelspec": {
   "display_name": "Python 2",
   "language": "python",
   "name": "python2"
  },
  "language_info": {
   "codemirror_mode": {
    "name": "ipython",
    "version": 2
   },
   "file_extension": ".py",
   "mimetype": "text/x-python",
   "name": "python",
   "nbconvert_exporter": "python",
   "pygments_lexer": "ipython2",
   "version": "2.7.13"
  }
 },
 "nbformat": 4,
 "nbformat_minor": 1
}
