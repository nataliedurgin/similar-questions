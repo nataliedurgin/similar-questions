{
 "cells": [
  {
   "cell_type": "markdown",
   "metadata": {
    "collapsed": true,
    "heading_collapsed": true,
    "slideshow": {
     "slide_type": "slide"
    }
   },
   "source": [
    "# Notes\n",
    "- Write code to train word embedding models, but don't commit the models, just leave a stub of a file that the model would ingest (do some cbow, skip-gram, fasttext, and maybe an edit-distance for some example terms.)"
   ]
  },
  {
   "cell_type": "markdown",
   "metadata": {
    "slideshow": {
     "slide_type": "slide"
    }
   },
   "source": [
    "# Introduction"
   ]
  },
  {
   "cell_type": "markdown",
   "metadata": {
    "slideshow": {
     "slide_type": "subslide"
    }
   },
   "source": [
    "##### Main Reference\n",
    "<a href= \"http://www.aclweb.org/anthology/S17-2051\"> SimBow at SemEval-2017 Task 3: Soft-Cosine Semantic Similarity between Questions for Community Question Answering </a>\n",
    "\n",
    "##### Gensim Softcosine \n",
    "https://github.com/RaRe-Technologies/gensim/blob/develop/docs/notebooks/soft_cosine_tutorial.ipynb"
   ]
  },
  {
   "cell_type": "markdown",
   "metadata": {
    "slideshow": {
     "slide_type": "subslide"
    }
   },
   "source": [
    "## Community Question Answering"
   ]
  },
  {
   "cell_type": "markdown",
   "metadata": {
    "slideshow": {
     "slide_type": "subslide"
    }
   },
   "source": [
    "#### Example Document 1\n",
    "\n",
    "- **URL**: https://community.spiceworks.com/topic/328118\n",
    "- **Subject**: need to unlock a password protected Excel 2010 workbook\n",
    "- **Body**: I have a user who had forgotten the password for an Excel 2010 file.  She cannot open it.  I tried changing the name to a zip file and opening the workbook file with an xml editor, but I can't get a readable format to come up so I can see the line of text with the password (so I can delete it).  What I'm getting is this gobbledy-gook: ºʝZܡ M/ؽ(+蝤¤7"
   ]
  },
  {
   "cell_type": "markdown",
   "metadata": {
    "slideshow": {
     "slide_type": "subslide"
    }
   },
   "source": [
    "#### Example Document 2\n",
    "\n",
    "- **URL**: https://community.spiceworks.com/topic/1766186\n",
    "- **Subject**: Password protected Excel 2016 spreadsheet---user forgot password!\n",
    "- **Body**: Face palm time.  A user has forgotten their password to an Excel 2016 spreadsheet. Anybody have any slick tool that will at least let them open in read-only mode?  Something to bust through the password would be excellent."
   ]
  },
  {
   "cell_type": "markdown",
   "metadata": {
    "slideshow": {
     "slide_type": "subslide"
    }
   },
   "source": [
    "#### Example Document 3\n",
    "\n",
    "- **URL**: https://community.spiceworks.com/topic/1984626\n",
    "- **Subject**: How secure are password protected Excel files?\n",
    "- **Body**: Once in a while if we need to send credentials to a third party we will use password protected Excel files sent via secure email (third party service where they have to login to see the email). I'm curious if the Excel file is secure enough by itself? Based on this info it looks like the default for Excel 2016 will be AES 256, which should be effectively secure at least against a brute force attack. \\__url\\__ \"Lets you configure the CNG cipher algorithm that is used. The default is AES.\" \" Lets you configure the number of bits to use when you create the cipher key. The default is 256 bits.\""
   ]
  },
  {
   "cell_type": "markdown",
   "metadata": {
    "slideshow": {
     "slide_type": "slide"
    }
   },
   "source": [
    "# Preprocessing"
   ]
  },
  {
   "cell_type": "markdown",
   "metadata": {
    "slideshow": {
     "slide_type": "subslide"
    }
   },
   "source": [
    "**Word**, **Term**, **Token** := Collection of characters \n",
    "\n",
    "**Document** := Collection of words\n",
    "\n",
    "**Corpus** := Collection of documents\n",
    "\n",
    "**Vocabulary** := Collection of distinct terms that appear in a corpus\n",
    "\n",
    "Allowable collections depend upon preprocessing choices"
   ]
  },
  {
   "cell_type": "markdown",
   "metadata": {
    "slideshow": {
     "slide_type": "subslide"
    }
   },
   "source": [
    "## Preprocessing the Example Documents\n",
    "\n",
    "We choose to concatenate subject and body "
   ]
  },
  {
   "cell_type": "code",
   "execution_count": 305,
   "metadata": {
    "ExecuteTime": {
     "end_time": "2018-05-31T00:32:01.885157Z",
     "start_time": "2018-05-31T00:32:01.875776Z"
    },
    "collapsed": true,
    "slideshow": {
     "slide_type": "fragment"
    }
   },
   "outputs": [
    {
     "data": {
      "text/plain": [
       "'need to unlock a password protected Excel 2010 workbook <p>I have a user who had forgotten the password for an Excel 2010 file.&nbsp; She cannot open it.&nbsp; I tried changing the name to a zip file and opening the workbook file with an xml editor, but I can&#39;t get a readable format to come up so I can see the line of text with the password (so I can delete it).&nbsp; What I&#39;m getting is this gobbledy-gook:</p><p>\\xc2\\xba\\xca\\x9d\\xc2\\x99Z\\xdc\\xa1 \\xc2\\x84M/\\xd8\\xbd(+\\xe8\\x9d\\xa4\\xc2\\xa47</p>'"
      ]
     },
     "execution_count": 305,
     "metadata": {},
     "output_type": "execute_result"
    }
   ],
   "source": [
    "doc1 = \"\"\"need to unlock a password protected Excel 2010 workbook <p>I have a user who had forgotten the password for an Excel 2010 file.&nbsp; She cannot open it.&nbsp; I tried changing the name to a zip file and opening the workbook file with an xml editor, but I can&#39;t get a readable format to come up so I can see the line of text with the password (so I can delete it).&nbsp; What I&#39;m getting is this gobbledy-gook:</p><p>ºʝZܡ M/ؽ(+蝤¤7</p>\"\"\"\n",
    "doc2 = \"\"\"Password protected Excel 2016 spreadsheet---user forgot password! <p>Face palm time.  A user has forgotten their password to an Excel 2016 spreadsheet.<br><br>Anybody have any slick tool that will at least let them open in read-only mode?  Something to bust through the password would be excellent.</p>\"\"\"\n",
    "doc3 = \"\"\"How secure are password protected Excel files? <p>Once in a while if we need to send credentials to a third party we will use password protected Excel files sent via secure email (third party service where they have to login to see the email).<br><br></p><div>I'm curious if the Excel file is secure enough by itself? Based on this info it looks like the default for Excel 2016 will be AES 256, which should be effectively secure at least against a brute force attack.<div><a href=\"https://technet.microsoft.com/en-us/library/cc179125%28v=office.16%29.aspx?f=255&amp;MSPPError=-2147217396\">https://technet.microsoft.com/en-us/library/cc179125%28v=office.16%29.aspx?f=255&amp;MSPPError=-2147...</a><br></div><div><ul><li><i>\"Lets you configure the CNG cipher algorithm that is used. </i><b><i>The default is AES</i></b><i>.\"</i></li><li><i>\"Lets you configure the number of bits to use when you create the cipher key. </i><b><i>The default is 256 bits</i></b><i>.\"</i></li></ul></div> </div>\"\"\"\n",
    "docs = [doc1, doc2, doc3]\n",
    "doc1"
   ]
  },
  {
   "cell_type": "markdown",
   "metadata": {
    "slideshow": {
     "slide_type": "subslide"
    }
   },
   "source": [
    "- Do you keep punctuation?\n",
    "- Do you preserve letter case?\n",
    "- Do you remove stopwords? \n",
    "- Do you impose minimum word frequencies? \n",
    "- Do you stem tokens?\n",
    "\n",
    "Results can be sensitive to these choices to varying extents. These choices will likely be different for each corpus and application. "
   ]
  },
  {
   "cell_type": "markdown",
   "metadata": {
    "slideshow": {
     "slide_type": "subslide"
    }
   },
   "source": [
    "## Gensim Default Preprocessing"
   ]
  },
  {
   "cell_type": "code",
   "execution_count": 236,
   "metadata": {
    "ExecuteTime": {
     "end_time": "2018-05-30T22:50:08.762694Z",
     "start_time": "2018-05-30T22:50:08.750513Z"
    },
    "code_folding": [
     5
    ],
    "slideshow": {
     "slide_type": "fragment"
    }
   },
   "outputs": [],
   "source": [
    "import os\n",
    "import gensim\n",
    "DATA_DIR = 'data'\n",
    "\n",
    "# Helper IO Function\n",
    "def list2txt(doc_list, filename):\n",
    "    filepath = os.path.join(DATA_DIR, filename)\n",
    "    outfile = open(filepath, 'w')\n",
    "    outfile.write(\"\\n\".join(doc_list))\n",
    "    return filepath\n",
    "\n",
    "default_target_corpus = gensim.corpora.TextCorpus(list2txt(docs, 'raw.txt'))"
   ]
  },
  {
   "cell_type": "code",
   "execution_count": 237,
   "metadata": {
    "ExecuteTime": {
     "end_time": "2018-05-30T22:50:09.605204Z",
     "start_time": "2018-05-30T22:50:09.590784Z"
    },
    "collapsed": true,
    "slideshow": {
     "slide_type": "subslide"
    }
   },
   "outputs": [
    {
     "data": {
      "text/plain": [
       "{0: u'changing',\n",
       " 1: u'come',\n",
       " 2: u'delete',\n",
       " 3: u'editor',\n",
       " 4: u'excel',\n",
       " 5: u'file',\n",
       " 6: u'forgotten',\n",
       " 7: u'format',\n",
       " 8: u'getting',\n",
       " 9: u'gobbledy',\n",
       " 10: u'gook',\n",
       " 11: u'line',\n",
       " 12: u'nbsp',\n",
       " 13: u'need',\n",
       " 14: u'open',\n",
       " 15: u'opening',\n",
       " 16: u'password',\n",
       " 17: u'protected',\n",
       " 18: u'readable',\n",
       " 19: u'text',\n",
       " 20: u'tried',\n",
       " 21: u'unlock',\n",
       " 22: u'user',\n",
       " 23: u'workbook',\n",
       " 24: u'xml',\n",
       " 25: u'zip',\n",
       " 26: u'anybody',\n",
       " 27: u'bust',\n",
       " 28: u'excellent',\n",
       " 29: u'face',\n",
       " 30: u'forgot',\n",
       " 31: u'let',\n",
       " 32: u'mode',\n",
       " 33: u'palm',\n",
       " 34: u'read',\n",
       " 35: u'slick',\n",
       " 36: u'spreadsheet',\n",
       " 37: u'time',\n",
       " 38: u'tool',\n",
       " 39: u'aes',\n",
       " 40: u'algorithm',\n",
       " 41: u'amp',\n",
       " 42: u'aspx',\n",
       " 43: u'attack',\n",
       " 44: u'based',\n",
       " 45: u'bits',\n",
       " 46: u'brute',\n",
       " 47: u'cipher',\n",
       " 48: u'cng',\n",
       " 49: u'com',\n",
       " 50: u'configure',\n",
       " 51: u'create',\n",
       " 52: u'credentials',\n",
       " 53: u'curious',\n",
       " 54: u'default',\n",
       " 55: u'div',\n",
       " 56: u'effectively',\n",
       " 57: u'email',\n",
       " 58: u'files',\n",
       " 59: u'force',\n",
       " 60: u'href',\n",
       " 61: u'https',\n",
       " 62: u'info',\n",
       " 63: u'key',\n",
       " 64: u'lets',\n",
       " 65: u'library',\n",
       " 66: u'like',\n",
       " 67: u'login',\n",
       " 68: u'looks',\n",
       " 69: u'microsoft',\n",
       " 70: u'mspperror',\n",
       " 71: u'number',\n",
       " 72: u'office',\n",
       " 73: u'party',\n",
       " 74: u'secure',\n",
       " 75: u'send',\n",
       " 76: u'sent',\n",
       " 77: u'service',\n",
       " 78: u'technet',\n",
       " 79: u'use'}"
      ]
     },
     "execution_count": 237,
     "metadata": {},
     "output_type": "execute_result"
    }
   ],
   "source": [
    "default_target_corpus.dictionary.items()\n",
    "default_target_corpus.dictionary.id2token"
   ]
  },
  {
   "cell_type": "markdown",
   "metadata": {
    "slideshow": {
     "slide_type": "fragment"
    }
   },
   "source": [
    "Vocabular terms are indexed in order of appearence in the corpus"
   ]
  },
  {
   "cell_type": "markdown",
   "metadata": {
    "slideshow": {
     "slide_type": "subslide"
    }
   },
   "source": [
    "## Custom Preprocessing"
   ]
  },
  {
   "cell_type": "code",
   "execution_count": 238,
   "metadata": {
    "ExecuteTime": {
     "end_time": "2018-05-30T22:50:16.043956Z",
     "start_time": "2018-05-30T22:50:16.014194Z"
    },
    "code_folding": [
     7,
     16,
     24,
     27,
     34,
     53
    ],
    "hide_input": false,
    "slideshow": {
     "slide_type": "subslide"
    }
   },
   "outputs": [],
   "source": [
    "import re # python regular expression library\n",
    "import bs4 # python html parsing library \"beautiful soup\" \n",
    "\n",
    "# Sample custom preprocessing sequence\n",
    "DELIMITER_PATTERN = u'[!?,;:\\t\\\\\\\\\"\\\\(\\\\)\\\\\\'\\u2026\\u201c\\u2013\\u2019\\u2026\\n]|\\\\s\\\\-\\\\s|\\.\\s'\n",
    "TOKEN_PATTERN = r'(?u)[\\_][a-zA-Z0-9\\_]*|[a-zA-Z0-9][a-zA-Z0-9.]*\\b'\n",
    "\n",
    "def html_parser(html):\n",
    "    try:\n",
    "        html = re.sub(r\"<img.*?>\", \" __img__ \", html)\n",
    "        html = re.sub(r\"<a.*?/a>\", \" __url__ \", html)\n",
    "        soup = bs4.BeautifulSoup(html, \"html.parser\")\n",
    "        for br in soup.find_all(\"br\"):\n",
    "            br.replace_with(\"\\n\")\n",
    "        return soup.get_text()\n",
    "    except:  \n",
    "        return ''\n",
    "    \n",
    "def split_sentences(doc):\n",
    "    try:\n",
    "        delimiters = re.compile(DELIMITER_PATTERN)\n",
    "        sentences = delimiters.split(doc)\n",
    "        return sentences\n",
    "    except:\n",
    "        return []\n",
    "\n",
    "def tokenizer(sentence, token_pattern=TOKEN_PATTERN, lowercase=True):\n",
    "    try:\n",
    "        token_pattern = re.compile(token_pattern)\n",
    "        if lowercase:\n",
    "            sentence = sentence.lower()\n",
    "        return token_pattern.findall(sentence)\n",
    "\n",
    "    except:\n",
    "        return []\n",
    "\n",
    "def clean_text(html, lowercase=True):\n",
    "    text = html_parser(html)\n",
    "    if lowercase:\n",
    "        text = text.lower()\n",
    "\n",
    "    sents = split_sentences(text)\n",
    "    sents = [' '.join(tokenizer(sent, lowercase=lowercase)) for sent in sents]\n",
    "    try:\n",
    "        sents = map(lambda x: x.strip(), sents)\n",
    "    except:\n",
    "        pass\n",
    "    try:\n",
    "        sents = [sent for sent in sents if len(sent) > 0]\n",
    "    except:\n",
    "        pass\n",
    "    return ' '.join(sents)"
   ]
  },
  {
   "cell_type": "code",
   "execution_count": 239,
   "metadata": {
    "ExecuteTime": {
     "end_time": "2018-05-30T22:50:16.557494Z",
     "start_time": "2018-05-30T22:50:16.549875Z"
    },
    "collapsed": true,
    "slideshow": {
     "slide_type": "subslide"
    }
   },
   "outputs": [
    {
     "data": {
      "text/plain": [
       "'How secure are password protected Excel files? <p>Once in a while if we need to send credentials to a third party we will use password protected Excel files sent via secure email (third party service where they have to login to see the email).<br><br></p><div>I\\'m curious if the Excel file is secure enough by itself? Based on this info it looks like the default for Excel 2016 will be AES 256, which should be effectively secure at least against a brute force attack.<div><a href=\"https://technet.microsoft.com/en-us/library/cc179125%28v=office.16%29.aspx?f=255&amp;MSPPError=-2147217396\">https://technet.microsoft.com/en-us/library/cc179125%28v=office.16%29.aspx?f=255&amp;MSPPError=-2147...</a><br></div><div><ul><li><i>\"Lets you configure the CNG cipher algorithm that is used. </i><b><i>The default is AES</i></b><i>.\"</i></li><li><i>\"Lets you configure the number of bits to use when you create the cipher key. </i><b><i>The default is 256 bits</i></b><i>.\"</i></li></ul></div>\\xc2\\xa0</div>'"
      ]
     },
     "execution_count": 239,
     "metadata": {},
     "output_type": "execute_result"
    }
   ],
   "source": [
    "doc3"
   ]
  },
  {
   "cell_type": "code",
   "execution_count": 240,
   "metadata": {
    "ExecuteTime": {
     "end_time": "2018-05-30T22:50:18.473088Z",
     "start_time": "2018-05-30T22:50:18.434706Z"
    },
    "collapsed": true,
    "slideshow": {
     "slide_type": "fragment"
    }
   },
   "outputs": [
    {
     "data": {
      "text/plain": [
       "u'how secure are password protected excel files once in a while if we need to send credentials to a third party we will use password protected excel files sent via secure email third party service where they have to login to see the email i m curious if the excel file is secure enough by itself based on this info it looks like the default for excel 2016 will be aes 256 which should be effectively secure at least against a brute force attack __url__ lets you configure the cng cipher algorithm that is used the default is aes lets you configure the number of bits to use when you create the cipher key the default is 256 bits'"
      ]
     },
     "execution_count": 240,
     "metadata": {},
     "output_type": "execute_result"
    }
   ],
   "source": [
    "clean_text(doc3)"
   ]
  },
  {
   "cell_type": "code",
   "execution_count": 241,
   "metadata": {
    "ExecuteTime": {
     "end_time": "2018-05-30T22:50:29.417396Z",
     "start_time": "2018-05-30T22:50:29.374791Z"
    },
    "slideshow": {
     "slide_type": "subslide"
    }
   },
   "outputs": [],
   "source": [
    "# Subclass gensim TextCorpus object to apply custom preprocesing\n",
    "# Preprocessing functions need to be efficient if performance is a concern!\n",
    "class CustomTextCorpus(gensim.corpora.TextCorpus):\n",
    "  def get_texts(self):\n",
    "    for doc in self.getstream():\n",
    "        yield [word for word in clean_text(doc).split()]\n",
    "  def __len__(self): \n",
    "    self.length = sum(1 for _ in self.get_texts())\n",
    "    return self.length\n",
    "\n",
    "preprocessed_docs = [clean_text(doc) for doc in docs]\n",
    "custom_target_corpus = CustomTextCorpus(list2txt(preprocessed_docs, 'preprocessed.txt'))"
   ]
  },
  {
   "cell_type": "code",
   "execution_count": 242,
   "metadata": {
    "ExecuteTime": {
     "end_time": "2018-05-30T22:50:31.307453Z",
     "start_time": "2018-05-30T22:50:31.286751Z"
    },
    "collapsed": true,
    "slideshow": {
     "slide_type": "subslide"
    }
   },
   "outputs": [
    {
     "data": {
      "text/plain": [
       "{0: u'2010',\n",
       " 1: u'7',\n",
       " 2: u'a',\n",
       " 3: u'an',\n",
       " 4: u'and',\n",
       " 5: u'but',\n",
       " 6: u'can',\n",
       " 7: u'cannot',\n",
       " 8: u'changing',\n",
       " 9: u'come',\n",
       " 10: u'delete',\n",
       " 11: u'editor',\n",
       " 12: u'excel',\n",
       " 13: u'file',\n",
       " 14: u'for',\n",
       " 15: u'forgotten',\n",
       " 16: u'format',\n",
       " 17: u'get',\n",
       " 18: u'getting',\n",
       " 19: u'gobbledy',\n",
       " 20: u'gook',\n",
       " 21: u'had',\n",
       " 22: u'have',\n",
       " 23: u'i',\n",
       " 24: u'is',\n",
       " 25: u'it',\n",
       " 26: u'line',\n",
       " 27: u'm',\n",
       " 28: u'name',\n",
       " 29: u'need',\n",
       " 30: u'of',\n",
       " 31: u'open',\n",
       " 32: u'opening',\n",
       " 33: u'password',\n",
       " 34: u'protected',\n",
       " 35: u'readable',\n",
       " 36: u'see',\n",
       " 37: u'she',\n",
       " 38: u'so',\n",
       " 39: u't',\n",
       " 40: u'text',\n",
       " 41: u'the',\n",
       " 42: u'this',\n",
       " 43: u'to',\n",
       " 44: u'tried',\n",
       " 45: u'unlock',\n",
       " 46: u'up',\n",
       " 47: u'user',\n",
       " 48: u'what',\n",
       " 49: u'who',\n",
       " 50: u'with',\n",
       " 51: u'workbook',\n",
       " 52: u'xml',\n",
       " 53: u'zip',\n",
       " 54: u'2016',\n",
       " 55: u'any',\n",
       " 56: u'anybody',\n",
       " 57: u'at',\n",
       " 58: u'be',\n",
       " 59: u'bust',\n",
       " 60: u'excellent',\n",
       " 61: u'face',\n",
       " 62: u'forgot',\n",
       " 63: u'has',\n",
       " 64: u'in',\n",
       " 65: u'least',\n",
       " 66: u'let',\n",
       " 67: u'mode',\n",
       " 68: u'only',\n",
       " 69: u'palm',\n",
       " 70: u'read',\n",
       " 71: u'slick',\n",
       " 72: u'something',\n",
       " 73: u'spreadsheet',\n",
       " 74: u'that',\n",
       " 75: u'their',\n",
       " 76: u'them',\n",
       " 77: u'through',\n",
       " 78: u'time',\n",
       " 79: u'tool',\n",
       " 80: u'will',\n",
       " 81: u'would',\n",
       " 82: u'256',\n",
       " 83: u'__url__',\n",
       " 84: u'aes',\n",
       " 85: u'against',\n",
       " 86: u'algorithm',\n",
       " 87: u'are',\n",
       " 88: u'attack',\n",
       " 89: u'based',\n",
       " 90: u'bits',\n",
       " 91: u'brute',\n",
       " 92: u'by',\n",
       " 93: u'cipher',\n",
       " 94: u'cng',\n",
       " 95: u'configure',\n",
       " 96: u'create',\n",
       " 97: u'credentials',\n",
       " 98: u'curious',\n",
       " 99: u'default',\n",
       " 100: u'effectively',\n",
       " 101: u'email',\n",
       " 102: u'enough',\n",
       " 103: u'files',\n",
       " 104: u'force',\n",
       " 105: u'how',\n",
       " 106: u'if',\n",
       " 107: u'info',\n",
       " 108: u'itself',\n",
       " 109: u'key',\n",
       " 110: u'lets',\n",
       " 111: u'like',\n",
       " 112: u'login',\n",
       " 113: u'looks',\n",
       " 114: u'number',\n",
       " 115: u'on',\n",
       " 116: u'once',\n",
       " 117: u'party',\n",
       " 118: u'secure',\n",
       " 119: u'send',\n",
       " 120: u'sent',\n",
       " 121: u'service',\n",
       " 122: u'should',\n",
       " 123: u'they',\n",
       " 124: u'third',\n",
       " 125: u'use',\n",
       " 126: u'used',\n",
       " 127: u'via',\n",
       " 128: u'we',\n",
       " 129: u'when',\n",
       " 130: u'where',\n",
       " 131: u'which',\n",
       " 132: u'while',\n",
       " 133: u'you'}"
      ]
     },
     "execution_count": 242,
     "metadata": {},
     "output_type": "execute_result"
    }
   ],
   "source": [
    "custom_target_corpus.dictionary.items()\n",
    "custom_target_corpus.dictionary.id2token"
   ]
  },
  {
   "cell_type": "markdown",
   "metadata": {
    "heading_collapsed": true,
    "slideshow": {
     "slide_type": "slide"
    }
   },
   "source": [
    "# Documents and their Vector Space Representations"
   ]
  },
  {
   "cell_type": "markdown",
   "metadata": {
    "slideshow": {
     "slide_type": "subslide"
    }
   },
   "source": [
    "## Word Count Vectors"
   ]
  },
  {
   "cell_type": "markdown",
   "metadata": {
    "slideshow": {
     "slide_type": "fragment"
    }
   },
   "source": [
    "A gensim corpus object is an iterable of list of (int, num)"
   ]
  },
  {
   "cell_type": "code",
   "execution_count": 303,
   "metadata": {
    "ExecuteTime": {
     "end_time": "2018-05-31T00:05:59.567319Z",
     "start_time": "2018-05-31T00:05:59.553401Z"
    },
    "collapsed": true,
    "slideshow": {
     "slide_type": "fragment"
    }
   },
   "outputs": [
    {
     "data": {
      "text/plain": [
       "[(4, 2),\n",
       " (6, 1),\n",
       " (14, 1),\n",
       " (16, 4),\n",
       " (17, 1),\n",
       " (22, 2),\n",
       " (26, 1),\n",
       " (27, 1),\n",
       " (28, 1),\n",
       " (29, 1),\n",
       " (30, 1),\n",
       " (31, 1),\n",
       " (32, 1),\n",
       " (33, 1),\n",
       " (34, 1),\n",
       " (35, 1),\n",
       " (36, 2),\n",
       " (37, 1),\n",
       " (38, 1)]"
      ]
     },
     "execution_count": 303,
     "metadata": {},
     "output_type": "execute_result"
    }
   ],
   "source": [
    "TARGET_CORPUS = default_target_corpus\n",
    "doc_vectors = [word_count_vector for word_count_vector in TARGET_CORPUS]\n",
    "doc_vector = doc_vectors[1]\n",
    "doc_vector"
   ]
  },
  {
   "cell_type": "code",
   "execution_count": 304,
   "metadata": {
    "ExecuteTime": {
     "end_time": "2018-05-31T00:06:06.319696Z",
     "start_time": "2018-05-31T00:06:06.298979Z"
    },
    "collapsed": true,
    "slideshow": {
     "slide_type": "subslide"
    }
   },
   "outputs": [
    {
     "data": {
      "text/html": [
       "<div>\n",
       "<style scoped>\n",
       "    .dataframe tbody tr th:only-of-type {\n",
       "        vertical-align: middle;\n",
       "    }\n",
       "\n",
       "    .dataframe tbody tr th {\n",
       "        vertical-align: top;\n",
       "    }\n",
       "\n",
       "    .dataframe thead th {\n",
       "        text-align: right;\n",
       "    }\n",
       "</style>\n",
       "<table border=\"1\" class=\"dataframe\">\n",
       "  <thead>\n",
       "    <tr style=\"text-align: right;\">\n",
       "      <th></th>\n",
       "      <th>vocab_index</th>\n",
       "      <th>word_count</th>\n",
       "      <th>token</th>\n",
       "    </tr>\n",
       "  </thead>\n",
       "  <tbody>\n",
       "    <tr>\n",
       "      <th>0</th>\n",
       "      <td>4</td>\n",
       "      <td>2</td>\n",
       "      <td>excel</td>\n",
       "    </tr>\n",
       "    <tr>\n",
       "      <th>1</th>\n",
       "      <td>6</td>\n",
       "      <td>1</td>\n",
       "      <td>forgotten</td>\n",
       "    </tr>\n",
       "    <tr>\n",
       "      <th>2</th>\n",
       "      <td>14</td>\n",
       "      <td>1</td>\n",
       "      <td>open</td>\n",
       "    </tr>\n",
       "    <tr>\n",
       "      <th>3</th>\n",
       "      <td>16</td>\n",
       "      <td>4</td>\n",
       "      <td>password</td>\n",
       "    </tr>\n",
       "    <tr>\n",
       "      <th>4</th>\n",
       "      <td>17</td>\n",
       "      <td>1</td>\n",
       "      <td>protected</td>\n",
       "    </tr>\n",
       "    <tr>\n",
       "      <th>5</th>\n",
       "      <td>22</td>\n",
       "      <td>2</td>\n",
       "      <td>user</td>\n",
       "    </tr>\n",
       "    <tr>\n",
       "      <th>6</th>\n",
       "      <td>26</td>\n",
       "      <td>1</td>\n",
       "      <td>anybody</td>\n",
       "    </tr>\n",
       "    <tr>\n",
       "      <th>7</th>\n",
       "      <td>27</td>\n",
       "      <td>1</td>\n",
       "      <td>bust</td>\n",
       "    </tr>\n",
       "    <tr>\n",
       "      <th>8</th>\n",
       "      <td>28</td>\n",
       "      <td>1</td>\n",
       "      <td>excellent</td>\n",
       "    </tr>\n",
       "    <tr>\n",
       "      <th>9</th>\n",
       "      <td>29</td>\n",
       "      <td>1</td>\n",
       "      <td>face</td>\n",
       "    </tr>\n",
       "    <tr>\n",
       "      <th>10</th>\n",
       "      <td>30</td>\n",
       "      <td>1</td>\n",
       "      <td>forgot</td>\n",
       "    </tr>\n",
       "    <tr>\n",
       "      <th>11</th>\n",
       "      <td>31</td>\n",
       "      <td>1</td>\n",
       "      <td>let</td>\n",
       "    </tr>\n",
       "    <tr>\n",
       "      <th>12</th>\n",
       "      <td>32</td>\n",
       "      <td>1</td>\n",
       "      <td>mode</td>\n",
       "    </tr>\n",
       "    <tr>\n",
       "      <th>13</th>\n",
       "      <td>33</td>\n",
       "      <td>1</td>\n",
       "      <td>palm</td>\n",
       "    </tr>\n",
       "    <tr>\n",
       "      <th>14</th>\n",
       "      <td>34</td>\n",
       "      <td>1</td>\n",
       "      <td>read</td>\n",
       "    </tr>\n",
       "    <tr>\n",
       "      <th>15</th>\n",
       "      <td>35</td>\n",
       "      <td>1</td>\n",
       "      <td>slick</td>\n",
       "    </tr>\n",
       "    <tr>\n",
       "      <th>16</th>\n",
       "      <td>36</td>\n",
       "      <td>2</td>\n",
       "      <td>spreadsheet</td>\n",
       "    </tr>\n",
       "    <tr>\n",
       "      <th>17</th>\n",
       "      <td>37</td>\n",
       "      <td>1</td>\n",
       "      <td>time</td>\n",
       "    </tr>\n",
       "    <tr>\n",
       "      <th>18</th>\n",
       "      <td>38</td>\n",
       "      <td>1</td>\n",
       "      <td>tool</td>\n",
       "    </tr>\n",
       "  </tbody>\n",
       "</table>\n",
       "</div>"
      ],
      "text/plain": [
       "    vocab_index  word_count        token\n",
       "0             4           2        excel\n",
       "1             6           1    forgotten\n",
       "2            14           1         open\n",
       "3            16           4     password\n",
       "4            17           1    protected\n",
       "5            22           2         user\n",
       "6            26           1      anybody\n",
       "7            27           1         bust\n",
       "8            28           1    excellent\n",
       "9            29           1         face\n",
       "10           30           1       forgot\n",
       "11           31           1          let\n",
       "12           32           1         mode\n",
       "13           33           1         palm\n",
       "14           34           1         read\n",
       "15           35           1        slick\n",
       "16           36           2  spreadsheet\n",
       "17           37           1         time\n",
       "18           38           1         tool"
      ]
     },
     "execution_count": 304,
     "metadata": {},
     "output_type": "execute_result"
    }
   ],
   "source": [
    "import pandas as pd\n",
    "pd.DataFrame([(k,v,TARGET_CORPUS.dictionary.id2token[k]) for k,v in doc_vector], \n",
    "             columns=['vocab_index', 'word_count', 'token'])"
   ]
  },
  {
   "cell_type": "markdown",
   "metadata": {
    "ExecuteTime": {
     "end_time": "2018-05-30T23:06:18.578766Z",
     "start_time": "2018-05-30T23:06:18.559949Z"
    },
    "slideshow": {
     "slide_type": "subslide"
    }
   },
   "source": [
    "## TF-IDF Vectors"
   ]
  },
  {
   "cell_type": "markdown",
   "metadata": {
    "slideshow": {
     "slide_type": "fragment"
    }
   },
   "source": [
    "TF-IDF = Term Frequency-Inverse Document Frequency \n",
    "\n",
    "https://en.wikipedia.org/wiki/Tf-idf\n",
    "\n",
    "Discount the frequency of terms common to many documents in the (training/target) corpus. "
   ]
  },
  {
   "cell_type": "code",
   "execution_count": 298,
   "metadata": {
    "ExecuteTime": {
     "end_time": "2018-05-31T00:01:58.466500Z",
     "start_time": "2018-05-31T00:01:58.454134Z"
    },
    "collapsed": true,
    "slideshow": {
     "slide_type": "subslide"
    }
   },
   "outputs": [
    {
     "data": {
      "text/plain": [
       "[(0, 0.18027306351311892),\n",
       " (1, 0.18027306351311892),\n",
       " (2, 0.18027306351311892),\n",
       " (3, 0.18027306351311892),\n",
       " (5, 0.1996002719256453),\n",
       " (6, 0.0665334239752151),\n",
       " (7, 0.18027306351311892),\n",
       " (8, 0.18027306351311892),\n",
       " (9, 0.18027306351311892),\n",
       " (10, 0.18027306351311892),\n",
       " (11, 0.18027306351311892),\n",
       " (12, 0.5408191905393568),\n",
       " (13, 0.0665334239752151),\n",
       " (14, 0.0665334239752151),\n",
       " (15, 0.18027306351311892),\n",
       " (18, 0.18027306351311892),\n",
       " (19, 0.18027306351311892),\n",
       " (20, 0.18027306351311892),\n",
       " (21, 0.18027306351311892),\n",
       " (22, 0.0665334239752151),\n",
       " (23, 0.36054612702623784),\n",
       " (24, 0.18027306351311892),\n",
       " (25, 0.18027306351311892)]"
      ]
     },
     "execution_count": 298,
     "metadata": {},
     "output_type": "execute_result"
    }
   ],
   "source": [
    "# IDF's coming from the small target corpus\n",
    "target_tfidf = gensim.models.TfidfModel(TARGET_CORPUS, dictionary=TARGET_CORPUS.dictionary, normalize=True)\n",
    "iter(target_tfidf[TARGET_CORPUS]).next()"
   ]
  },
  {
   "cell_type": "code",
   "execution_count": 310,
   "metadata": {
    "ExecuteTime": {
     "end_time": "2018-05-31T00:38:30.625469Z",
     "start_time": "2018-05-31T00:38:30.621131Z"
    },
    "slideshow": {
     "slide_type": "skip"
    }
   },
   "outputs": [],
   "source": [
    "# Term mapping logic"
   ]
  },
  {
   "cell_type": "code",
   "execution_count": 259,
   "metadata": {
    "ExecuteTime": {
     "end_time": "2018-05-30T23:26:18.113908Z",
     "start_time": "2018-05-30T23:26:18.100638Z"
    },
    "collapsed": true,
    "slideshow": {
     "slide_type": "fragment"
    }
   },
   "outputs": [
    {
     "data": {
      "text/plain": [
       "[(0, 0.18027306351311892),\n",
       " (1, 0.18027306351311892),\n",
       " (2, 0.18027306351311892),\n",
       " (3, 0.18027306351311892),\n",
       " (5, 0.1996002719256453),\n",
       " (6, 0.0665334239752151),\n",
       " (7, 0.18027306351311892),\n",
       " (8, 0.18027306351311892),\n",
       " (9, 0.18027306351311892),\n",
       " (10, 0.18027306351311892),\n",
       " (11, 0.18027306351311892),\n",
       " (12, 0.5408191905393568),\n",
       " (13, 0.0665334239752151),\n",
       " (14, 0.0665334239752151),\n",
       " (15, 0.18027306351311892),\n",
       " (18, 0.18027306351311892),\n",
       " (19, 0.18027306351311892),\n",
       " (20, 0.18027306351311892),\n",
       " (21, 0.18027306351311892),\n",
       " (22, 0.0665334239752151),\n",
       " (23, 0.36054612702623784),\n",
       " (24, 0.18027306351311892),\n",
       " (25, 0.18027306351311892)]"
      ]
     },
     "execution_count": 259,
     "metadata": {},
     "output_type": "execute_result"
    }
   ],
   "source": [
    "# IDF's coming from the large training corpus\n",
    "training_tfidf = gensim.models.TfidfModel()\n",
    "training_tfidf[TARGET_CORPUS]\n",
    "iter(training_tfidf[TARGET_CORPUS]).next()"
   ]
  },
  {
   "cell_type": "code",
   "execution_count": 302,
   "metadata": {
    "ExecuteTime": {
     "end_time": "2018-05-31T00:04:12.791745Z",
     "start_time": "2018-05-31T00:04:12.779192Z"
    },
    "slideshow": {
     "slide_type": "skip"
    }
   },
   "outputs": [
    {
     "data": {
      "text/plain": [
       "[[], [(1, 1.0)], [(1, 0.34624155305796134), (2, 0.9381453975456102)]]"
      ]
     },
     "execution_count": 302,
     "metadata": {},
     "output_type": "execute_result"
    }
   ],
   "source": [
    "# Note, gensim will eliminate terms that appear in every document\n",
    "# This probably is not a concern when you are dealing with even slightly larger corpora \n",
    "test_docs = ['foo', 'foo bar', 'foo bar baz']\n",
    "test_texts = [[word for word in doc.lower().split()] for doc in test_docs]\n",
    "test_dict = gensim.corpora.Dictionary(test_texts)\n",
    "test_corpus = [test_dict.doc2bow(text) for text in test_texts]\n",
    "test_tfidf = gensim.models.TfidfModel(test_corpus)\n",
    "[doc for doc in test_tfidf[test_corpus]]"
   ]
  },
  {
   "cell_type": "markdown",
   "metadata": {
    "slideshow": {
     "slide_type": "subslide"
    }
   },
   "source": [
    "## Weighted-Average of Word Vectors "
   ]
  },
  {
   "cell_type": "code",
   "execution_count": null,
   "metadata": {
    "slideshow": {
     "slide_type": "notes"
    }
   },
   "outputs": [],
   "source": [
    "# If you had a vector represenation of words..."
   ]
  },
  {
   "cell_type": "markdown",
   "metadata": {
    "slideshow": {
     "slide_type": "slide"
    }
   },
   "source": [
    "# Words and their Vector Space Representations"
   ]
  },
  {
   "cell_type": "markdown",
   "metadata": {
    "hidden": true,
    "slideshow": {
     "slide_type": "subslide"
    }
   },
   "source": [
    "We include code needed to generate the word-embedding models in the [appendix](#appendix)"
   ]
  },
  {
   "cell_type": "code",
   "execution_count": null,
   "metadata": {
    "slideshow": {
     "slide_type": "subslide"
    }
   },
   "outputs": [],
   "source": []
  },
  {
   "cell_type": "code",
   "execution_count": null,
   "metadata": {
    "slideshow": {
     "slide_type": "subslide"
    }
   },
   "outputs": [],
   "source": []
  },
  {
   "cell_type": "code",
   "execution_count": null,
   "metadata": {
    "slideshow": {
     "slide_type": "subslide"
    }
   },
   "outputs": [],
   "source": []
  },
  {
   "cell_type": "markdown",
   "metadata": {
    "heading_collapsed": true,
    "slideshow": {
     "slide_type": "slide"
    }
   },
   "source": [
    "# Question Similarity"
   ]
  },
  {
   "cell_type": "markdown",
   "metadata": {
    "hidden": true,
    "slideshow": {
     "slide_type": "subslide"
    }
   },
   "source": [
    "## Notation\n",
    "- $N$: Size of the vocabulary \n",
    "- $X_1, X_2$: Document vectors, $N\\times 1$ dimensional  \n",
    "- $M$: Term-similarity matrix, $N\\times N$ dimensional"
   ]
  },
  {
   "cell_type": "markdown",
   "metadata": {
    "hidden": true,
    "slideshow": {
     "slide_type": "subslide"
    }
   },
   "source": [
    "## Dot Product\n",
    "Sum of the pairwise products,\n",
    "\n",
    "$$X_1\\cdot X_2 = \\begin{pmatrix}X_{11} \\\\ \\vdots \\\\ X_{1N}\\end{pmatrix} \\cdot \\begin{pmatrix}X_{21} \\\\ \\vdots \\\\ X_{2N}\\end{pmatrix}= X_{11} (X_{21}) + X_{12}(X_{22}) + \\cdots + X_{1N}(X_{2N}) = \\sum_{i=1}^N X_{1i}(X_{2i}).$$"
   ]
  },
  {
   "cell_type": "markdown",
   "metadata": {
    "slideshow": {
     "slide_type": "fragment"
    }
   },
   "source": [
    "$$\\begin{pmatrix}1 \\\\ 2 \\\\ 3 \\end{pmatrix} \\cdot \\begin{pmatrix} 0\\\\ 1\\\\ 1 \\end{pmatrix} = 1(0)+2(1)+3(1)=5.$$"
   ]
  },
  {
   "cell_type": "code",
   "execution_count": null,
   "metadata": {},
   "outputs": [],
   "source": []
  },
  {
   "cell_type": "markdown",
   "metadata": {
    "hidden": true,
    "slideshow": {
     "slide_type": "subslide"
    }
   },
   "source": [
    "## Cosine Similarity\n",
    "\n",
    "\\begin{eqnarray} \n",
    "\\cos(X_1, X_2) &=& \\frac{X_1\\cdot X_2}{||X_1||\\text{ }||X_2||}\\\\\n",
    "               &=& \\frac{X_1^T X_2}{\\sqrt{X_1^T X_1}\\sqrt{X_2^T X_2}}\n",
    "\\end{eqnarray}\n"
   ]
  },
  {
   "cell_type": "code",
   "execution_count": 273,
   "metadata": {
    "ExecuteTime": {
     "end_time": "2018-05-30T23:39:07.221335Z",
     "start_time": "2018-05-30T23:39:07.206264Z"
    },
    "slideshow": {
     "slide_type": "subslide"
    }
   },
   "outputs": [
    {
     "data": {
      "text/plain": [
       "array([[1.        , 0.42794803, 0.19976044],\n",
       "       [0.42794803, 1.        , 0.205169  ],\n",
       "       [0.19976044, 0.205169  , 1.        ]], dtype=float32)"
      ]
     },
     "execution_count": 273,
     "metadata": {},
     "output_type": "execute_result"
    }
   ],
   "source": [
    "cosim_index = gensim.similarities.MatrixSimilarity(TARGET_CORPUS)\n",
    "cosim_index[TARGET_CORPUS]"
   ]
  },
  {
   "cell_type": "code",
   "execution_count": 300,
   "metadata": {
    "ExecuteTime": {
     "end_time": "2018-05-31T00:02:47.860672Z",
     "start_time": "2018-05-31T00:02:47.844043Z"
    },
    "slideshow": {
     "slide_type": "subslide"
    }
   },
   "outputs": [
    {
     "data": {
      "text/plain": [
       "array([[1.        , 0.02395141, 0.00793372],\n",
       "       [0.02395141, 1.        , 0.        ],\n",
       "       [0.00793372, 0.        , 1.        ]], dtype=float32)"
      ]
     },
     "execution_count": 300,
     "metadata": {},
     "output_type": "execute_result"
    }
   ],
   "source": [
    "cosim_index = gensim.similarities.MatrixSimilarity(target_tfidf[TARGET_CORPUS])\n",
    "cosim_index[target_tfidf[TARGET_CORPUS]]"
   ]
  },
  {
   "cell_type": "markdown",
   "metadata": {
    "slideshow": {
     "slide_type": "fragment"
    }
   },
   "source": [
    "Notice that document 2 and 3 have 0 term overlap. \n",
    "\n",
    "Problematic? What about these two sentences: \n",
    "\n",
    "1. \"Manifolds are very exciting.\"\n",
    "2. \"Geometry is super interesting.\"\n",
    "\n",
    "These sentences have zero term overlap, but express related meanings. They are \"semantically similar\". "
   ]
  },
  {
   "cell_type": "code",
   "execution_count": null,
   "metadata": {
    "slideshow": {
     "slide_type": "slide"
    }
   },
   "outputs": [],
   "source": [
    "cosim_index = gensim.similarities.MatrixSimilarity(training_tfidf[TARGET_CORPUS])\n",
    "cosim_index[traning_tfidf[TARGET_CORPUS]]"
   ]
  },
  {
   "cell_type": "markdown",
   "metadata": {
    "hidden": true,
    "slideshow": {
     "slide_type": "subslide"
    }
   },
   "source": [
    "## Soft Cosine Similarity\n",
    "$$ \\cos_M (X_1, X_2) = \\frac{X_1^T M X_2}{\\sqrt{X_1^T M X_1}\\sqrt{X_2^T M X_2}}$$"
   ]
  },
  {
   "cell_type": "markdown",
   "metadata": {
    "slideshow": {
     "slide_type": "fragment"
    }
   },
   "source": [
    "### Term Similarity Matix\n",
    "\n",
    "$M=...$"
   ]
  },
  {
   "cell_type": "markdown",
   "metadata": {
    "collapsed": true,
    "hidden": true,
    "slideshow": {
     "slide_type": "subslide"
    }
   },
   "source": [
    "## Weighted-Average of Word Vectors"
   ]
  },
  {
   "cell_type": "code",
   "execution_count": null,
   "metadata": {
    "collapsed": true,
    "hidden": true
   },
   "outputs": [],
   "source": []
  },
  {
   "cell_type": "code",
   "execution_count": null,
   "metadata": {
    "collapsed": true,
    "hidden": true
   },
   "outputs": [],
   "source": []
  },
  {
   "cell_type": "markdown",
   "metadata": {},
   "source": [
    "# Question Clustering"
   ]
  },
  {
   "cell_type": "markdown",
   "metadata": {},
   "source": [
    "# Appendix <a name=\"appendix\"></a>"
   ]
  },
  {
   "cell_type": "markdown",
   "metadata": {},
   "source": [
    "## Imports"
   ]
  },
  {
   "cell_type": "code",
   "execution_count": null,
   "metadata": {
    "collapsed": true
   },
   "outputs": [],
   "source": [
    "import bs4\n",
    "import re\n",
    "import csv\n",
    "import os\n",
    "import json\n",
    "import pandas as pd\n",
    "import gensim\n",
    "from gensim.interfaces import TransformationABC\n",
    "import scipy as sp\n",
    "from sklearn.metrics.pairwise import linear_kernel\n",
    "import sqlalchemy"
   ]
  },
  {
   "cell_type": "markdown",
   "metadata": {},
   "source": [
    "<img src=\"images/top_10_graph.png\">"
   ]
  },
  {
   "cell_type": "code",
   "execution_count": null,
   "metadata": {},
   "outputs": [],
   "source": []
  }
 ],
 "metadata": {
  "celltoolbar": "Slideshow",
  "hide_input": false,
  "kernelspec": {
   "display_name": "Python 2",
   "language": "python",
   "name": "python2"
  },
  "language_info": {
   "codemirror_mode": {
    "name": "ipython",
    "version": 2
   },
   "file_extension": ".py",
   "mimetype": "text/x-python",
   "name": "python",
   "nbconvert_exporter": "python",
   "pygments_lexer": "ipython2",
   "version": "2.7.13"
  },
  "latex_envs": {
   "LaTeX_envs_menu_present": true,
   "autoclose": false,
   "autocomplete": true,
   "bibliofile": "biblio.bib",
   "cite_by": "apalike",
   "current_citInitial": 1,
   "eqLabelWithNumbers": true,
   "eqNumInitial": 1,
   "hotkeys": {
    "equation": "Ctrl-E",
    "itemize": "Ctrl-I"
   },
   "labels_anchors": false,
   "latex_user_defs": false,
   "report_style_numbering": false,
   "user_envs_cfg": false
  }
 },
 "nbformat": 4,
 "nbformat_minor": 1
}
